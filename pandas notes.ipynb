{
 "cells": [
  {
   "cell_type": "code",
   "execution_count": 1,
   "id": "c4d8d2de-01fa-4d30-9a6b-150c526c0880",
   "metadata": {},
   "outputs": [],
   "source": [
    "import pandas as pd\n",
    "import numpy as np"
   ]
  },
  {
   "cell_type": "markdown",
   "id": "ad84a5cf-1eea-40e8-b7b0-431d64e667e1",
   "metadata": {},
   "source": [
    "Pandas provide two type. of data structures **series and data frame**"
   ]
  },
  {
   "cell_type": "markdown",
   "id": "e6e22104-c769-4b73-805f-b7fdf4e00e4d",
   "metadata": {
    "tags": []
   },
   "source": [
    "# series"
   ]
  },
  {
   "cell_type": "markdown",
   "id": "102f9b81-4467-408d-bb62-46ac08dff5ba",
   "metadata": {},
   "source": [
    "### pandas.Series(data=None, index=None, dtype=None, name=None, copy=None, fastpath=_NoDefault.no_default)"
   ]
  },
  {
   "cell_type": "markdown",
   "id": "57e0761e-f892-4fef-8fe3-bede95ebb37a",
   "metadata": {},
   "source": [
    "Pandas is a popular library in Python for data manipulation and analysis. It provides a data structure called Series, which is a one-dimensional labeled array capable of holding any data type. You can think of a Series as a column in a spreadsheet or a single column of data."
   ]
  },
  {
   "cell_type": "markdown",
   "id": "754cb975-6509-4c17-bcdf-3c63c2e3e96b",
   "metadata": {
    "jp-MarkdownHeadingCollapsed": true,
    "tags": []
   },
   "source": [
    "### syntax to create a series:\n",
    "- class pandas.Series(data=None, index=None, dtype=None, name=None, copy=None)\n",
    "- Setting copy=True in the pandas.Series constructor will create a copy of the data passed to it\n",
    "- Only affects Series or 1d ndarray input. See examples."
   ]
  },
  {
   "cell_type": "code",
   "execution_count": 2,
   "id": "c1b8c095-d31a-4f66-9f88-e3e935a1470e",
   "metadata": {},
   "outputs": [],
   "source": [
    "data = np.array(['a', 'b', 'c', 'd', 'e', 'f'])\n",
    "sr = pd.Series(data)"
   ]
  },
  {
   "cell_type": "code",
   "execution_count": 3,
   "id": "6b6b2f13-c513-4f6a-aaf6-ac8a344cc522",
   "metadata": {},
   "outputs": [
    {
     "data": {
      "text/plain": [
       "0    a\n",
       "1    b\n",
       "2    c\n",
       "3    d\n",
       "4    e\n",
       "5    f\n",
       "dtype: object"
      ]
     },
     "execution_count": 3,
     "metadata": {},
     "output_type": "execute_result"
    }
   ],
   "source": [
    "sr"
   ]
  },
  {
   "cell_type": "code",
   "execution_count": 4,
   "id": "d01d9e59-4bae-4d18-b908-a00b596dd866",
   "metadata": {},
   "outputs": [
    {
     "data": {
      "text/plain": [
       "9    a\n",
       "8    b\n",
       "7    c\n",
       "6    d\n",
       "5    e\n",
       "4    f\n",
       "dtype: object"
      ]
     },
     "execution_count": 4,
     "metadata": {},
     "output_type": "execute_result"
    }
   ],
   "source": [
    "index = [9, 8, 7, 6, 5, 4]\n",
    "sr = pd.Series(data, index)\n",
    "sr"
   ]
  },
  {
   "cell_type": "code",
   "execution_count": 5,
   "id": "7d1687a6-2288-44b4-8c55-0d7476e4cd96",
   "metadata": {},
   "outputs": [
    {
     "data": {
      "text/plain": [
       "9    a\n",
       "8    b\n",
       "7    c\n",
       "6    k\n",
       "5    e\n",
       "4    f\n",
       "dtype: object"
      ]
     },
     "execution_count": 5,
     "metadata": {},
     "output_type": "execute_result"
    }
   ],
   "source": [
    "sr[6] = 'k'\n",
    "sr"
   ]
  },
  {
   "cell_type": "code",
   "execution_count": 6,
   "id": "05081afe-1844-4346-9e1e-0663c4c427d0",
   "metadata": {},
   "outputs": [
    {
     "data": {
      "text/plain": [
       "array(['a', 'b', 'c', 'd', 'e', 'f'], dtype='<U1')"
      ]
     },
     "execution_count": 6,
     "metadata": {},
     "output_type": "execute_result"
    }
   ],
   "source": [
    "data #even though the series changed and our copy was false but our data didnt change this happened e=because\n",
    "# This is because the dtype of a ('<U6' in your example) and the dtype passed as argument (\"object\") to np.asarray don't match. You can verify that the Series is being backed by a copy and not the original array by\n",
    "# due tp that series will always make copy to solve this problem we can give specifically a dtype = object to our array"
   ]
  },
  {
   "cell_type": "code",
   "execution_count": 7,
   "id": "5dc21d03-83a1-4091-bb94-b374e6b590aa",
   "metadata": {},
   "outputs": [
    {
     "data": {
      "text/plain": [
       "array(['a', 'b', 'c', 'k', 'e', 'f'], dtype=object)"
      ]
     },
     "execution_count": 7,
     "metadata": {},
     "output_type": "execute_result"
    }
   ],
   "source": [
    "data2 = np.array(['a', 'b', 'c', 'd', 'e', 'f'], dtype = object)\n",
    "sr2 = pd.Series(data2)\n",
    "sr2[3] = 'k'\n",
    "data2"
   ]
  },
  {
   "cell_type": "code",
   "execution_count": 8,
   "id": "a5ebb260-9fc1-41b8-8326-b627dede72ff",
   "metadata": {},
   "outputs": [],
   "source": [
    "# copy and name in series, asigning a name will show up when chcking info and when printing\n",
    "sr = pd.Series(data, index, copy = False, name = 'example')"
   ]
  },
  {
   "cell_type": "code",
   "execution_count": 9,
   "id": "8d621787-9aac-460a-89c0-27dd713b2ebb",
   "metadata": {},
   "outputs": [
    {
     "name": "stdout",
     "output_type": "stream",
     "text": [
      "9    a\n",
      "8    b\n",
      "7    c\n",
      "6    d\n",
      "5    e\n",
      "4    f\n",
      "Name: example, dtype: object\n"
     ]
    }
   ],
   "source": [
    "print(sr)"
   ]
  },
  {
   "cell_type": "code",
   "execution_count": 10,
   "id": "ff7fa16a-0c55-4044-a359-5048d5f8f859",
   "metadata": {},
   "outputs": [],
   "source": [
    "sr[6] = 'k'"
   ]
  },
  {
   "cell_type": "code",
   "execution_count": 11,
   "id": "a927f8af-5acb-4c44-90ae-137aa221ac77",
   "metadata": {},
   "outputs": [
    {
     "data": {
      "text/plain": [
       "array(['a', 'b', 'c', 'k', 'e', 'f'], dtype=object)"
      ]
     },
     "execution_count": 11,
     "metadata": {},
     "output_type": "execute_result"
    }
   ],
   "source": [
    "data2"
   ]
  },
  {
   "cell_type": "code",
   "execution_count": 12,
   "id": "11c12ce4-16dc-46a6-a753-139e6a76c6d1",
   "metadata": {},
   "outputs": [
    {
     "data": {
      "text/plain": [
       "<bound method Series.info of 9    a\n",
       "8    b\n",
       "7    c\n",
       "6    k\n",
       "5    e\n",
       "4    f\n",
       "Name: example, dtype: object>"
      ]
     },
     "execution_count": 12,
     "metadata": {},
     "output_type": "execute_result"
    }
   ],
   "source": [
    "sr.info"
   ]
  },
  {
   "cell_type": "code",
   "execution_count": 13,
   "id": "2a1d0b9e-f301-451f-b1f1-59733045167f",
   "metadata": {},
   "outputs": [],
   "source": [
    "d2 = np.array([1,2,3,4,5,6])\n",
    "s2 = pd.Series(d2)\n",
    "s2[4] = 234 # data changes with change in series"
   ]
  },
  {
   "cell_type": "code",
   "execution_count": 14,
   "id": "252e6b83-dcab-4ba8-8faa-bfd61abfd7b6",
   "metadata": {},
   "outputs": [
    {
     "data": {
      "text/plain": [
       "array([  1,   2,   3,   4, 234,   6])"
      ]
     },
     "execution_count": 14,
     "metadata": {},
     "output_type": "execute_result"
    }
   ],
   "source": [
    "d2"
   ]
  },
  {
   "cell_type": "code",
   "execution_count": 15,
   "id": "510aeef6-c03e-4e6b-91d7-67975cc47d90",
   "metadata": {},
   "outputs": [
    {
     "data": {
      "text/plain": [
       "array([  1,   2,   3,   4, 234,   6])"
      ]
     },
     "execution_count": 15,
     "metadata": {},
     "output_type": "execute_result"
    }
   ],
   "source": [
    "s3 = pd.Series(d2, copy = True) # data(array) remains unchaged when we change series\n",
    "s3[4] = 23452\n",
    "d2"
   ]
  },
  {
   "cell_type": "markdown",
   "id": "920b6b9f-0c3a-46ae-9565-2cd8ae575a1c",
   "metadata": {
    "jp-MarkdownHeadingCollapsed": true
   },
   "source": [
    "#### if dict is passed as parameter in pd.sries() than it will take its key as indx and value as data eg"
   ]
  },
  {
   "cell_type": "code",
   "execution_count": 16,
   "id": "b5542b42-a65f-4720-8791-90706271d515",
   "metadata": {},
   "outputs": [
    {
     "name": "stdout",
     "output_type": "stream",
     "text": [
      "adarsh        coding\n",
      "anu       travelling\n",
      "khedi          enjoy\n",
      "dtype: object\n"
     ]
    }
   ],
   "source": [
    "dict = {'adarsh' : 'coding', 'anu' : 'travelling', 'khedi' : 'enjoy'}\n",
    "n = pd.Series(dict)\n",
    "print(n)"
   ]
  },
  {
   "cell_type": "markdown",
   "id": "cb76ef11-1792-44c7-956b-db6e6dbc9e5a",
   "metadata": {},
   "source": [
    "### if scaler vlaues are given with index"
   ]
  },
  {
   "cell_type": "code",
   "execution_count": 17,
   "id": "e1ed371c-d1d0-4d95-9de8-5195213223c4",
   "metadata": {},
   "outputs": [],
   "source": [
    "n = pd.Series('adarsh', index = [0,1,2,3,4])"
   ]
  },
  {
   "cell_type": "code",
   "execution_count": 18,
   "id": "1a3a4888-027e-4e37-89ad-b8739bf85dc6",
   "metadata": {},
   "outputs": [
    {
     "data": {
      "text/plain": [
       "0    adarsh\n",
       "1    adarsh\n",
       "2    adarsh\n",
       "3    adarsh\n",
       "4    adarsh\n",
       "dtype: object"
      ]
     },
     "execution_count": 18,
     "metadata": {},
     "output_type": "execute_result"
    }
   ],
   "source": [
    "n"
   ]
  },
  {
   "cell_type": "markdown",
   "id": "824b9b90-1b80-44f7-ba94-f2a75a0c4e24",
   "metadata": {},
   "source": [
    "### other examples"
   ]
  },
  {
   "cell_type": "code",
   "execution_count": 19,
   "id": "538a24ec-e124-43fe-9d20-1874ec5953da",
   "metadata": {},
   "outputs": [
    {
     "data": {
      "text/plain": [
       "0     2.000000\n",
       "1    12.333333\n",
       "2    22.666667\n",
       "3    33.000000\n",
       "dtype: float64"
      ]
     },
     "execution_count": 19,
     "metadata": {},
     "output_type": "execute_result"
    }
   ],
   "source": [
    "a = np.linspace(2, 33, 4)\n",
    "ser1 = pd.Series(a)\n",
    "ser1"
   ]
  },
  {
   "cell_type": "markdown",
   "id": "502c96aa-3314-403b-8505-8e7fb258fe62",
   "metadata": {
    "jp-MarkdownHeadingCollapsed": true
   },
   "source": [
    "### DataFrame.astype(dtype, copy=None, errors='raise')\n",
    "- Cast a pandas object to a specified dtype dtype"
   ]
  },
  {
   "cell_type": "code",
   "execution_count": 20,
   "id": "ce40f7a6-f1bf-4910-a2e8-b59a47210ae0",
   "metadata": {},
   "outputs": [],
   "source": [
    "ser2 = pd.Series(a.astype(int))"
   ]
  },
  {
   "cell_type": "code",
   "execution_count": 21,
   "id": "7ee2a5fd-4186-43c4-8fef-70c5f06dd859",
   "metadata": {},
   "outputs": [
    {
     "data": {
      "text/plain": [
       "0     2\n",
       "1    12\n",
       "2    22\n",
       "3    33\n",
       "dtype: int64"
      ]
     },
     "execution_count": 21,
     "metadata": {},
     "output_type": "execute_result"
    }
   ],
   "source": [
    "ser2"
   ]
  },
  {
   "cell_type": "code",
   "execution_count": 22,
   "id": "3d2fd991-f290-4dca-beaa-4354ddfffab9",
   "metadata": {},
   "outputs": [],
   "source": [
    "ser3 = pd.Series(np.arange(1,20,3), [x for x in 'abcdefg'])"
   ]
  },
  {
   "cell_type": "code",
   "execution_count": 23,
   "id": "931566e7-c082-4efb-8eff-249e432d2b41",
   "metadata": {},
   "outputs": [
    {
     "data": {
      "text/plain": [
       "a     1\n",
       "b     4\n",
       "c     7\n",
       "d    10\n",
       "e    13\n",
       "f    16\n",
       "g    19\n",
       "dtype: int64"
      ]
     },
     "execution_count": 23,
     "metadata": {},
     "output_type": "execute_result"
    }
   ],
   "source": [
    "ser3"
   ]
  },
  {
   "cell_type": "markdown",
   "id": "fc91bf7b-37cb-4c63-98a4-17b537d414d5",
   "metadata": {
    "jp-MarkdownHeadingCollapsed": true
   },
   "source": [
    "### creating a series using a range function"
   ]
  },
  {
   "cell_type": "code",
   "execution_count": 24,
   "id": "20d649c5-c936-4321-86bd-2b7ed756d88a",
   "metadata": {},
   "outputs": [],
   "source": [
    "sr4 = pd.Series(range(2,10), range(7, 15))"
   ]
  },
  {
   "cell_type": "code",
   "execution_count": 25,
   "id": "01ce045f-d15d-44b7-9cd4-1c7c5441b12e",
   "metadata": {},
   "outputs": [
    {
     "data": {
      "text/plain": [
       "7     2\n",
       "8     3\n",
       "9     4\n",
       "10    5\n",
       "11    6\n",
       "12    7\n",
       "13    8\n",
       "14    9\n",
       "dtype: int64"
      ]
     },
     "execution_count": 25,
     "metadata": {},
     "output_type": "execute_result"
    }
   ],
   "source": [
    "sr4"
   ]
  },
  {
   "cell_type": "markdown",
   "id": "65106ef9-1846-4940-80db-33ad1b83dff6",
   "metadata": {
    "jp-MarkdownHeadingCollapsed": true
   },
   "source": [
    "## accessing elemments of series"
   ]
  },
  {
   "cell_type": "markdown",
   "id": "9e9a61f4-68da-47bd-b4c3-27ebd50c8357",
   "metadata": {},
   "source": [
    "there are two ways through which we can access elelment sof series:\n",
    "- accessing element from series using position\n",
    "- accesiing element using index(label)"
   ]
  },
  {
   "cell_type": "code",
   "execution_count": 26,
   "id": "dbe1d1ef-fd84-443b-8ddd-42a94c144f14",
   "metadata": {},
   "outputs": [],
   "source": [
    "sr2 = pd.Series(np.arange(0,6), np.arange(7, 13))"
   ]
  },
  {
   "cell_type": "code",
   "execution_count": 27,
   "id": "3e47119f-f650-483f-a8c2-44227dc49199",
   "metadata": {},
   "outputs": [
    {
     "data": {
      "text/plain": [
       "7     0\n",
       "8     1\n",
       "9     2\n",
       "10    3\n",
       "11    4\n",
       "12    5\n",
       "dtype: int64"
      ]
     },
     "execution_count": 27,
     "metadata": {},
     "output_type": "execute_result"
    }
   ],
   "source": [
    "sr2"
   ]
  },
  {
   "cell_type": "markdown",
   "id": "101f8f66-3f76-47d0-b65a-105200c03795",
   "metadata": {
    "jp-MarkdownHeadingCollapsed": true,
    "tags": []
   },
   "source": [
    "#### it's recommended to avoid using integer labels when defining the index of a pandas Series if you plan to access elements by position. Instead, use non-integer labels or rely on positional indexing with ||____iloc____||."
   ]
  },
  {
   "cell_type": "markdown",
   "id": "a0c30e15-1590-4ead-b7a2-86c1d62682db",
   "metadata": {},
   "source": [
    "when the labels are given in inteegr than we cannot access the series by using postion **to access with series we can use iloc** "
   ]
  },
  {
   "cell_type": "code",
   "execution_count": 28,
   "id": "514c9527-3db7-4939-8b09-c1fe7b1172ce",
   "metadata": {},
   "outputs": [
    {
     "ename": "KeyError",
     "evalue": "2",
     "output_type": "error",
     "traceback": [
      "\u001b[0;31m---------------------------------------------------------------------------\u001b[0m",
      "\u001b[0;31mKeyError\u001b[0m                                  Traceback (most recent call last)",
      "File \u001b[0;32m/Library/Frameworks/Python.framework/Versions/3.10/lib/python3.10/site-packages/pandas/core/indexes/base.py:3805\u001b[0m, in \u001b[0;36mIndex.get_loc\u001b[0;34m(self, key)\u001b[0m\n\u001b[1;32m   3804\u001b[0m \u001b[38;5;28;01mtry\u001b[39;00m:\n\u001b[0;32m-> 3805\u001b[0m     \u001b[38;5;28;01mreturn\u001b[39;00m \u001b[38;5;28;43mself\u001b[39;49m\u001b[38;5;241;43m.\u001b[39;49m\u001b[43m_engine\u001b[49m\u001b[38;5;241;43m.\u001b[39;49m\u001b[43mget_loc\u001b[49m\u001b[43m(\u001b[49m\u001b[43mcasted_key\u001b[49m\u001b[43m)\u001b[49m\n\u001b[1;32m   3806\u001b[0m \u001b[38;5;28;01mexcept\u001b[39;00m \u001b[38;5;167;01mKeyError\u001b[39;00m \u001b[38;5;28;01mas\u001b[39;00m err:\n",
      "File \u001b[0;32mindex.pyx:167\u001b[0m, in \u001b[0;36mpandas._libs.index.IndexEngine.get_loc\u001b[0;34m()\u001b[0m\n",
      "File \u001b[0;32mindex.pyx:196\u001b[0m, in \u001b[0;36mpandas._libs.index.IndexEngine.get_loc\u001b[0;34m()\u001b[0m\n",
      "File \u001b[0;32mpandas/_libs/hashtable_class_helper.pxi:2606\u001b[0m, in \u001b[0;36mpandas._libs.hashtable.Int64HashTable.get_item\u001b[0;34m()\u001b[0m\n",
      "File \u001b[0;32mpandas/_libs/hashtable_class_helper.pxi:2630\u001b[0m, in \u001b[0;36mpandas._libs.hashtable.Int64HashTable.get_item\u001b[0;34m()\u001b[0m\n",
      "\u001b[0;31mKeyError\u001b[0m: 2",
      "\nThe above exception was the direct cause of the following exception:\n",
      "\u001b[0;31mKeyError\u001b[0m                                  Traceback (most recent call last)",
      "Cell \u001b[0;32mIn[28], line 1\u001b[0m\n\u001b[0;32m----> 1\u001b[0m \u001b[43msr2\u001b[49m\u001b[43m[\u001b[49m\u001b[38;5;241;43m2\u001b[39;49m\u001b[43m]\u001b[49m\n",
      "File \u001b[0;32m/Library/Frameworks/Python.framework/Versions/3.10/lib/python3.10/site-packages/pandas/core/series.py:1112\u001b[0m, in \u001b[0;36mSeries.__getitem__\u001b[0;34m(self, key)\u001b[0m\n\u001b[1;32m   1109\u001b[0m     \u001b[38;5;28;01mreturn\u001b[39;00m \u001b[38;5;28mself\u001b[39m\u001b[38;5;241m.\u001b[39m_values[key]\n\u001b[1;32m   1111\u001b[0m \u001b[38;5;28;01melif\u001b[39;00m key_is_scalar:\n\u001b[0;32m-> 1112\u001b[0m     \u001b[38;5;28;01mreturn\u001b[39;00m \u001b[38;5;28;43mself\u001b[39;49m\u001b[38;5;241;43m.\u001b[39;49m\u001b[43m_get_value\u001b[49m\u001b[43m(\u001b[49m\u001b[43mkey\u001b[49m\u001b[43m)\u001b[49m\n\u001b[1;32m   1114\u001b[0m \u001b[38;5;66;03m# Convert generator to list before going through hashable part\u001b[39;00m\n\u001b[1;32m   1115\u001b[0m \u001b[38;5;66;03m# (We will iterate through the generator there to check for slices)\u001b[39;00m\n\u001b[1;32m   1116\u001b[0m \u001b[38;5;28;01mif\u001b[39;00m is_iterator(key):\n",
      "File \u001b[0;32m/Library/Frameworks/Python.framework/Versions/3.10/lib/python3.10/site-packages/pandas/core/series.py:1228\u001b[0m, in \u001b[0;36mSeries._get_value\u001b[0;34m(self, label, takeable)\u001b[0m\n\u001b[1;32m   1225\u001b[0m     \u001b[38;5;28;01mreturn\u001b[39;00m \u001b[38;5;28mself\u001b[39m\u001b[38;5;241m.\u001b[39m_values[label]\n\u001b[1;32m   1227\u001b[0m \u001b[38;5;66;03m# Similar to Index.get_value, but we do not fall back to positional\u001b[39;00m\n\u001b[0;32m-> 1228\u001b[0m loc \u001b[38;5;241m=\u001b[39m \u001b[38;5;28;43mself\u001b[39;49m\u001b[38;5;241;43m.\u001b[39;49m\u001b[43mindex\u001b[49m\u001b[38;5;241;43m.\u001b[39;49m\u001b[43mget_loc\u001b[49m\u001b[43m(\u001b[49m\u001b[43mlabel\u001b[49m\u001b[43m)\u001b[49m\n\u001b[1;32m   1230\u001b[0m \u001b[38;5;28;01mif\u001b[39;00m is_integer(loc):\n\u001b[1;32m   1231\u001b[0m     \u001b[38;5;28;01mreturn\u001b[39;00m \u001b[38;5;28mself\u001b[39m\u001b[38;5;241m.\u001b[39m_values[loc]\n",
      "File \u001b[0;32m/Library/Frameworks/Python.framework/Versions/3.10/lib/python3.10/site-packages/pandas/core/indexes/base.py:3812\u001b[0m, in \u001b[0;36mIndex.get_loc\u001b[0;34m(self, key)\u001b[0m\n\u001b[1;32m   3807\u001b[0m     \u001b[38;5;28;01mif\u001b[39;00m \u001b[38;5;28misinstance\u001b[39m(casted_key, \u001b[38;5;28mslice\u001b[39m) \u001b[38;5;129;01mor\u001b[39;00m (\n\u001b[1;32m   3808\u001b[0m         \u001b[38;5;28misinstance\u001b[39m(casted_key, abc\u001b[38;5;241m.\u001b[39mIterable)\n\u001b[1;32m   3809\u001b[0m         \u001b[38;5;129;01mand\u001b[39;00m \u001b[38;5;28many\u001b[39m(\u001b[38;5;28misinstance\u001b[39m(x, \u001b[38;5;28mslice\u001b[39m) \u001b[38;5;28;01mfor\u001b[39;00m x \u001b[38;5;129;01min\u001b[39;00m casted_key)\n\u001b[1;32m   3810\u001b[0m     ):\n\u001b[1;32m   3811\u001b[0m         \u001b[38;5;28;01mraise\u001b[39;00m InvalidIndexError(key)\n\u001b[0;32m-> 3812\u001b[0m     \u001b[38;5;28;01mraise\u001b[39;00m \u001b[38;5;167;01mKeyError\u001b[39;00m(key) \u001b[38;5;28;01mfrom\u001b[39;00m \u001b[38;5;21;01merr\u001b[39;00m\n\u001b[1;32m   3813\u001b[0m \u001b[38;5;28;01mexcept\u001b[39;00m \u001b[38;5;167;01mTypeError\u001b[39;00m:\n\u001b[1;32m   3814\u001b[0m     \u001b[38;5;66;03m# If we have a listlike key, _check_indexing_error will raise\u001b[39;00m\n\u001b[1;32m   3815\u001b[0m     \u001b[38;5;66;03m#  InvalidIndexError. Otherwise we fall through and re-raise\u001b[39;00m\n\u001b[1;32m   3816\u001b[0m     \u001b[38;5;66;03m#  the TypeError.\u001b[39;00m\n\u001b[1;32m   3817\u001b[0m     \u001b[38;5;28mself\u001b[39m\u001b[38;5;241m.\u001b[39m_check_indexing_error(key)\n",
      "\u001b[0;31mKeyError\u001b[0m: 2"
     ]
    }
   ],
   "source": [
    "sr2[2]"
   ]
  },
  {
   "cell_type": "code",
   "execution_count": 29,
   "id": "3334f4d5-18f1-4a97-ba59-86e0158ae613",
   "metadata": {},
   "outputs": [
    {
     "data": {
      "text/plain": [
       "2"
      ]
     },
     "execution_count": 29,
     "metadata": {},
     "output_type": "execute_result"
    }
   ],
   "source": [
    "sr2.iloc[2]\n"
   ]
  },
  {
   "cell_type": "markdown",
   "id": "c4049805-85eb-47a9-9f44-cadaa23d6e96",
   "metadata": {
    "jp-MarkdownHeadingCollapsed": true
   },
   "source": [
    "#### continue to (accssing elements of series)"
   ]
  },
  {
   "cell_type": "code",
   "execution_count": 30,
   "id": "d987672f-189d-40d1-b853-b2a62e313635",
   "metadata": {},
   "outputs": [],
   "source": [
    "sr3 = pd.Series(range(0, 9), [x for x in 'abcdefghi'])"
   ]
  },
  {
   "cell_type": "code",
   "execution_count": 31,
   "id": "bd632df1-885b-4928-898b-2129e6556bdd",
   "metadata": {},
   "outputs": [
    {
     "name": "stderr",
     "output_type": "stream",
     "text": [
      "/var/folders/4y/tgmzjnfd59s7t57bcx5m1lzc0000gn/T/ipykernel_93344/589054859.py:1: FutureWarning: Series.__getitem__ treating keys as positions is deprecated. In a future version, integer keys will always be treated as labels (consistent with DataFrame behavior). To access a value by position, use `ser.iloc[pos]`\n",
      "  sr3[2]\n"
     ]
    },
    {
     "data": {
      "text/plain": [
       "2"
      ]
     },
     "execution_count": 31,
     "metadata": {},
     "output_type": "execute_result"
    }
   ],
   "source": [
    "sr3[2]"
   ]
  },
  {
   "cell_type": "code",
   "execution_count": 32,
   "id": "6b6121c4-ffe0-400d-be3d-34e1b53365a7",
   "metadata": {},
   "outputs": [
    {
     "data": {
      "text/plain": [
       "2"
      ]
     },
     "execution_count": 32,
     "metadata": {},
     "output_type": "execute_result"
    }
   ],
   "source": [
    "sr3.iloc[2]"
   ]
  },
  {
   "cell_type": "code",
   "execution_count": 33,
   "id": "256c62b5-660f-48ec-a93f-676498fb74da",
   "metadata": {},
   "outputs": [
    {
     "data": {
      "text/plain": [
       "2"
      ]
     },
     "execution_count": 33,
     "metadata": {},
     "output_type": "execute_result"
    }
   ],
   "source": [
    "sr3['c']"
   ]
  },
  {
   "cell_type": "code",
   "execution_count": 34,
   "id": "2d7a72fb-8ba6-4942-8dd9-c0e5e3851766",
   "metadata": {},
   "outputs": [
    {
     "data": {
      "text/plain": [
       "0"
      ]
     },
     "execution_count": 34,
     "metadata": {},
     "output_type": "execute_result"
    }
   ],
   "source": [
    "sr3.loc['a']"
   ]
  },
  {
   "cell_type": "markdown",
   "id": "78a55b6f-7d72-4126-b632-6cf854957a34",
   "metadata": {},
   "source": [
    "# reading files in panda"
   ]
  },
  {
   "cell_type": "markdown",
   "id": "304de4b9-c08b-41e0-898d-3f56001e1946",
   "metadata": {},
   "source": [
    "to read files we simply have to write pandas.read_(type o file)"
   ]
  },
  {
   "cell_type": "code",
   "execution_count": 35,
   "id": "2cd398c8-f752-4683-931d-28d04a30d8e9",
   "metadata": {},
   "outputs": [
    {
     "data": {
      "text/html": [
       "<div>\n",
       "<style scoped>\n",
       "    .dataframe tbody tr th:only-of-type {\n",
       "        vertical-align: middle;\n",
       "    }\n",
       "\n",
       "    .dataframe tbody tr th {\n",
       "        vertical-align: top;\n",
       "    }\n",
       "\n",
       "    .dataframe thead th {\n",
       "        text-align: right;\n",
       "    }\n",
       "</style>\n",
       "<table border=\"1\" class=\"dataframe\">\n",
       "  <thead>\n",
       "    <tr style=\"text-align: right;\">\n",
       "      <th></th>\n",
       "      <th>0</th>\n",
       "      <th>1</th>\n",
       "      <th>2</th>\n",
       "      <th>3</th>\n",
       "      <th>4</th>\n",
       "      <th>5</th>\n",
       "      <th>6</th>\n",
       "      <th>7</th>\n",
       "      <th>8</th>\n",
       "    </tr>\n",
       "  </thead>\n",
       "  <tbody>\n",
       "    <tr>\n",
       "      <th>0</th>\n",
       "      <td>0</td>\n",
       "      <td>1</td>\n",
       "      <td>2</td>\n",
       "      <td>3</td>\n",
       "      <td>4</td>\n",
       "      <td>5</td>\n",
       "      <td>6</td>\n",
       "      <td>7</td>\n",
       "      <td>8</td>\n",
       "    </tr>\n",
       "  </tbody>\n",
       "</table>\n",
       "</div>"
      ],
      "text/plain": [
       "   0  1  2  3  4  5  6  7  8\n",
       "0  0  1  2  3  4  5  6  7  8"
      ]
     },
     "execution_count": 35,
     "metadata": {},
     "output_type": "execute_result"
    }
   ],
   "source": [
    "df9 = pd.DataFrame(range(0,9)).T\n",
    "df9"
   ]
  },
  {
   "cell_type": "code",
   "execution_count": 36,
   "id": "897bcff6-e4ce-4005-a101-7648cd01465d",
   "metadata": {},
   "outputs": [],
   "source": [
    "df10 = pd.read_csv(\"data.csv\")"
   ]
  },
  {
   "cell_type": "markdown",
   "id": "0715a6eb-cbad-4e8f-90f4-f88ec9bcfc19",
   "metadata": {},
   "source": [
    "## in pandas .T extension is used for transposing the dataframe"
   ]
  },
  {
   "cell_type": "code",
   "execution_count": 39,
   "id": "044beb98-267b-43cc-bc5c-3be11bff1d23",
   "metadata": {},
   "outputs": [],
   "source": [
    "df9 = pd.read_csv(\"customer_cases.csv\")"
   ]
  },
  {
   "cell_type": "code",
   "execution_count": 40,
   "id": "4ac5e575-2dfe-44c4-a884-83dcfbd4e50a",
   "metadata": {},
   "outputs": [],
   "source": [
    "df9 = df9.T"
   ]
  },
  {
   "cell_type": "markdown",
   "id": "e0ebf73f-6a9d-47f6-8bd9-48f2ed6007af",
   "metadata": {
    "tags": []
   },
   "source": [
    "## to save the dataframe in desired format we can use \n",
    "- DF.to_csv(desired format)"
   ]
  },
  {
   "cell_type": "code",
   "execution_count": 41,
   "id": "6cdac384-0194-4c4f-99ee-cb66be416ba8",
   "metadata": {},
   "outputs": [],
   "source": [
    "df9.to_csv(\"data.csv\")"
   ]
  },
  {
   "cell_type": "code",
   "execution_count": 42,
   "id": "3a37a8a4-ea13-4309-92bc-5fc24eb90ac7",
   "metadata": {},
   "outputs": [
    {
     "data": {
      "text/html": [
       "<div>\n",
       "<style scoped>\n",
       "    .dataframe tbody tr th:only-of-type {\n",
       "        vertical-align: middle;\n",
       "    }\n",
       "\n",
       "    .dataframe tbody tr th {\n",
       "        vertical-align: top;\n",
       "    }\n",
       "\n",
       "    .dataframe thead th {\n",
       "        text-align: right;\n",
       "    }\n",
       "</style>\n",
       "<table border=\"1\" class=\"dataframe\">\n",
       "  <thead>\n",
       "    <tr style=\"text-align: right;\">\n",
       "      <th></th>\n",
       "      <th>Unnamed: 0</th>\n",
       "      <th>0</th>\n",
       "      <th>1</th>\n",
       "      <th>2</th>\n",
       "      <th>3</th>\n",
       "      <th>4</th>\n",
       "      <th>5</th>\n",
       "      <th>6</th>\n",
       "      <th>7</th>\n",
       "      <th>8</th>\n",
       "      <th>...</th>\n",
       "      <th>330502</th>\n",
       "      <th>330503</th>\n",
       "      <th>330504</th>\n",
       "      <th>330505</th>\n",
       "      <th>330506</th>\n",
       "      <th>330507</th>\n",
       "      <th>330508</th>\n",
       "      <th>330509</th>\n",
       "      <th>330510</th>\n",
       "      <th>330511</th>\n",
       "    </tr>\n",
       "  </thead>\n",
       "  <tbody>\n",
       "    <tr>\n",
       "      <th>0</th>\n",
       "      <td>Unnamed: 0</td>\n",
       "      <td>1</td>\n",
       "      <td>2</td>\n",
       "      <td>3</td>\n",
       "      <td>4</td>\n",
       "      <td>5</td>\n",
       "      <td>6</td>\n",
       "      <td>7</td>\n",
       "      <td>8</td>\n",
       "      <td>9</td>\n",
       "      <td>...</td>\n",
       "      <td>330503</td>\n",
       "      <td>330504</td>\n",
       "      <td>330505</td>\n",
       "      <td>330506</td>\n",
       "      <td>330507</td>\n",
       "      <td>330508</td>\n",
       "      <td>330509</td>\n",
       "      <td>330510</td>\n",
       "      <td>330511</td>\n",
       "      <td>330512</td>\n",
       "    </tr>\n",
       "    <tr>\n",
       "      <th>1</th>\n",
       "      <td>case_id</td>\n",
       "      <td>CC101</td>\n",
       "      <td>CC102</td>\n",
       "      <td>CC103</td>\n",
       "      <td>CC104</td>\n",
       "      <td>CC105</td>\n",
       "      <td>CC106</td>\n",
       "      <td>CC107</td>\n",
       "      <td>CC108</td>\n",
       "      <td>CC109</td>\n",
       "      <td>...</td>\n",
       "      <td>CC330603</td>\n",
       "      <td>CC330604</td>\n",
       "      <td>CC330605</td>\n",
       "      <td>CC330606</td>\n",
       "      <td>CC330607</td>\n",
       "      <td>CC330608</td>\n",
       "      <td>CC330609</td>\n",
       "      <td>CC330610</td>\n",
       "      <td>CC330611</td>\n",
       "      <td>CC330612</td>\n",
       "    </tr>\n",
       "    <tr>\n",
       "      <th>2</th>\n",
       "      <td>date_time</td>\n",
       "      <td>2017-01-01 10:32:03</td>\n",
       "      <td>2017-01-01 11:35:47</td>\n",
       "      <td>2017-01-01 11:37:09</td>\n",
       "      <td>2017-01-01 13:28:14</td>\n",
       "      <td>2017-01-01 13:52:22</td>\n",
       "      <td>2017-01-01 15:23:02</td>\n",
       "      <td>2017-01-01 15:30:36</td>\n",
       "      <td>2017-01-02 08:57:09</td>\n",
       "      <td>2017-01-02 09:17:09</td>\n",
       "      <td>...</td>\n",
       "      <td>2021-12-31 18:09:06</td>\n",
       "      <td>2021-12-31 18:20:30</td>\n",
       "      <td>2021-12-31 18:54:44</td>\n",
       "      <td>2021-12-31 19:09:10</td>\n",
       "      <td>2021-12-31 19:11:01</td>\n",
       "      <td>2021-12-31 19:16:28</td>\n",
       "      <td>2021-12-31 19:36:42</td>\n",
       "      <td>2021-12-31 20:30:02</td>\n",
       "      <td>2021-12-31 21:30:00</td>\n",
       "      <td>2022-01-01 06:32:53</td>\n",
       "    </tr>\n",
       "    <tr>\n",
       "      <th>3</th>\n",
       "      <td>customer_id</td>\n",
       "      <td>C2448</td>\n",
       "      <td>C2449</td>\n",
       "      <td>C2450</td>\n",
       "      <td>C2451</td>\n",
       "      <td>C2452</td>\n",
       "      <td>C2453</td>\n",
       "      <td>C2454</td>\n",
       "      <td>C2455</td>\n",
       "      <td>C2456</td>\n",
       "      <td>...</td>\n",
       "      <td>C506238</td>\n",
       "      <td>C484812</td>\n",
       "      <td>C124076</td>\n",
       "      <td>C126469</td>\n",
       "      <td>C120740</td>\n",
       "      <td>C173079</td>\n",
       "      <td>C497581</td>\n",
       "      <td>C127630</td>\n",
       "      <td>C497538</td>\n",
       "      <td>C485032</td>\n",
       "    </tr>\n",
       "    <tr>\n",
       "      <th>4</th>\n",
       "      <td>channel</td>\n",
       "      <td>phone</td>\n",
       "      <td>phone</td>\n",
       "      <td>phone</td>\n",
       "      <td>phone</td>\n",
       "      <td>phone</td>\n",
       "      <td>phone</td>\n",
       "      <td>phone</td>\n",
       "      <td>phone</td>\n",
       "      <td>phone</td>\n",
       "      <td>...</td>\n",
       "      <td>email</td>\n",
       "      <td>email</td>\n",
       "      <td>email</td>\n",
       "      <td>email</td>\n",
       "      <td>email</td>\n",
       "      <td>email</td>\n",
       "      <td>email</td>\n",
       "      <td>email</td>\n",
       "      <td>email</td>\n",
       "      <td>phone</td>\n",
       "    </tr>\n",
       "    <tr>\n",
       "      <th>5</th>\n",
       "      <td>reason</td>\n",
       "      <td>signup</td>\n",
       "      <td>signup</td>\n",
       "      <td>signup</td>\n",
       "      <td>signup</td>\n",
       "      <td>signup</td>\n",
       "      <td>signup</td>\n",
       "      <td>signup</td>\n",
       "      <td>signup</td>\n",
       "      <td>signup</td>\n",
       "      <td>...</td>\n",
       "      <td>support</td>\n",
       "      <td>support</td>\n",
       "      <td>support</td>\n",
       "      <td>support</td>\n",
       "      <td>support</td>\n",
       "      <td>support</td>\n",
       "      <td>support</td>\n",
       "      <td>support</td>\n",
       "      <td>support</td>\n",
       "      <td>support</td>\n",
       "    </tr>\n",
       "  </tbody>\n",
       "</table>\n",
       "<p>6 rows × 330513 columns</p>\n",
       "</div>"
      ],
      "text/plain": [
       "    Unnamed: 0                    0                    1                    2  \\\n",
       "0   Unnamed: 0                    1                    2                    3   \n",
       "1      case_id                CC101                CC102                CC103   \n",
       "2    date_time  2017-01-01 10:32:03  2017-01-01 11:35:47  2017-01-01 11:37:09   \n",
       "3  customer_id                C2448                C2449                C2450   \n",
       "4      channel                phone                phone                phone   \n",
       "5       reason               signup               signup               signup   \n",
       "\n",
       "                     3                    4                    5  \\\n",
       "0                    4                    5                    6   \n",
       "1                CC104                CC105                CC106   \n",
       "2  2017-01-01 13:28:14  2017-01-01 13:52:22  2017-01-01 15:23:02   \n",
       "3                C2451                C2452                C2453   \n",
       "4                phone                phone                phone   \n",
       "5               signup               signup               signup   \n",
       "\n",
       "                     6                    7                    8  ...  \\\n",
       "0                    7                    8                    9  ...   \n",
       "1                CC107                CC108                CC109  ...   \n",
       "2  2017-01-01 15:30:36  2017-01-02 08:57:09  2017-01-02 09:17:09  ...   \n",
       "3                C2454                C2455                C2456  ...   \n",
       "4                phone                phone                phone  ...   \n",
       "5               signup               signup               signup  ...   \n",
       "\n",
       "                330502               330503               330504  \\\n",
       "0               330503               330504               330505   \n",
       "1             CC330603             CC330604             CC330605   \n",
       "2  2021-12-31 18:09:06  2021-12-31 18:20:30  2021-12-31 18:54:44   \n",
       "3              C506238              C484812              C124076   \n",
       "4                email                email                email   \n",
       "5              support              support              support   \n",
       "\n",
       "                330505               330506               330507  \\\n",
       "0               330506               330507               330508   \n",
       "1             CC330606             CC330607             CC330608   \n",
       "2  2021-12-31 19:09:10  2021-12-31 19:11:01  2021-12-31 19:16:28   \n",
       "3              C126469              C120740              C173079   \n",
       "4                email                email                email   \n",
       "5              support              support              support   \n",
       "\n",
       "                330508               330509               330510  \\\n",
       "0               330509               330510               330511   \n",
       "1             CC330609             CC330610             CC330611   \n",
       "2  2021-12-31 19:36:42  2021-12-31 20:30:02  2021-12-31 21:30:00   \n",
       "3              C497581              C127630              C497538   \n",
       "4                email                email                email   \n",
       "5              support              support              support   \n",
       "\n",
       "                330511  \n",
       "0               330512  \n",
       "1             CC330612  \n",
       "2  2022-01-01 06:32:53  \n",
       "3              C485032  \n",
       "4                phone  \n",
       "5              support  \n",
       "\n",
       "[6 rows x 330513 columns]"
      ]
     },
     "execution_count": 42,
     "metadata": {},
     "output_type": "execute_result"
    }
   ],
   "source": [
    "df10 = pd.read_csv(\"data.csv\")\n",
    "df10"
   ]
  },
  {
   "cell_type": "markdown",
   "id": "9b63ece9-5289-495a-ba13-71161992d501",
   "metadata": {
    "tags": []
   },
   "source": [
    "# data frames"
   ]
  },
  {
   "cell_type": "markdown",
   "id": "5af0ff1d-32b4-4151-90e3-682ec4e8ca04",
   "metadata": {},
   "source": [
    "- a data frame is a two-dimensional tabular data structure that is similar to a spreadsheet or a SQL table. It is one of the    core data structures provided by pandas and is widely used for data analysis and manipulation.\n",
    "- The correct syntax for creating a data frame using the DataFrame() function in pandas.\n",
    "- **class pandas.DataFrame(data=None, index=None, columns=None, dtype=None, copy=None)**\n"
   ]
  },
  {
   "cell_type": "markdown",
   "id": "caf5f0e3-4091-44fc-9fc8-7676d681caac",
   "metadata": {},
   "source": [
    "parameters\n",
    "- data(ndarray (structured or homogeneous), Iterable, dict, or DataFrame):  Dict can contain Series, arrays, constants, dataclass or list-like objects. If data is a dict, column order follows *insertion-order*. If a dict contains Series which have an index defined, it is aligned by its index. This alignment also occurs if data is a Series or a DataFrame itself. Alignment is done on Series/DataFrame inputs. If data is a list of dicts, column order follows insertion-order.\n",
    "- index(Index or array-like);: Index to use for resulting frame. Will default to RangeIndex if no indexing information part of input data and no index provided.\n",
    "- columns(Index or array-like): Column labels to use for resulting frame when data does not have them, defaulting to RangeIndex(0, 1, 2, …, n). If data contains column labels, will perform column selection instead.\n",
    "- dtype(dtype, default None): Data type to force. Only a single dtype is allowed. If None, infer.\n",
    "- copy(bool or None, default None): Copy data from inputs. For dict data, the default of None behaves like copy=True. For DataFrame or 2d ndarray input, the default of None behaves like copy=False. If data is a dict containing one or more Series (possibly of different dtypes), copy=False will ensure that these inputs are not copied"
   ]
  },
  {
   "cell_type": "code",
   "execution_count": 43,
   "id": "8e890831-7cdb-4534-9d8a-4b3abd707e72",
   "metadata": {},
   "outputs": [],
   "source": [
    "# to create a empty dataset\n",
    "df = pd.DataFrame()"
   ]
  },
  {
   "cell_type": "code",
   "execution_count": 44,
   "id": "977619c3-96d2-47c8-a85f-6e7fdf479172",
   "metadata": {},
   "outputs": [
    {
     "name": "stdout",
     "output_type": "stream",
     "text": [
      "Empty DataFrame\n",
      "Columns: []\n",
      "Index: []\n"
     ]
    }
   ],
   "source": [
    "print(df)"
   ]
  },
  {
   "cell_type": "code",
   "execution_count": 45,
   "id": "00b119c8-cb5a-4053-b1bc-89e3d54a982c",
   "metadata": {},
   "outputs": [
    {
     "data": {
      "text/html": [
       "<div>\n",
       "<style scoped>\n",
       "    .dataframe tbody tr th:only-of-type {\n",
       "        vertical-align: middle;\n",
       "    }\n",
       "\n",
       "    .dataframe tbody tr th {\n",
       "        vertical-align: top;\n",
       "    }\n",
       "\n",
       "    .dataframe thead th {\n",
       "        text-align: right;\n",
       "    }\n",
       "</style>\n",
       "<table border=\"1\" class=\"dataframe\">\n",
       "  <thead>\n",
       "    <tr style=\"text-align: right;\">\n",
       "      <th></th>\n",
       "      <th>0</th>\n",
       "    </tr>\n",
       "  </thead>\n",
       "  <tbody>\n",
       "    <tr>\n",
       "      <th>0</th>\n",
       "      <td>a</td>\n",
       "    </tr>\n",
       "    <tr>\n",
       "      <th>1</th>\n",
       "      <td>b</td>\n",
       "    </tr>\n",
       "    <tr>\n",
       "      <th>2</th>\n",
       "      <td>c</td>\n",
       "    </tr>\n",
       "    <tr>\n",
       "      <th>3</th>\n",
       "      <td>d</td>\n",
       "    </tr>\n",
       "  </tbody>\n",
       "</table>\n",
       "</div>"
      ],
      "text/plain": [
       "   0\n",
       "0  a\n",
       "1  b\n",
       "2  c\n",
       "3  d"
      ]
     },
     "execution_count": 45,
     "metadata": {},
     "output_type": "execute_result"
    }
   ],
   "source": [
    "data = ['a','b','c','d']\n",
    "df = pd.DataFrame(data)\n",
    "df"
   ]
  },
  {
   "cell_type": "code",
   "execution_count": 46,
   "id": "60ed761c-8043-4133-ab01-e142e7600d5b",
   "metadata": {},
   "outputs": [],
   "source": [
    "df = pd.DataFrame(data = np.arange(0,25).reshape(5,5), columns = ['a', 'b', 'c' ,'d', 'f'], index = [1,2,3,4,5], dtype = float)"
   ]
  },
  {
   "cell_type": "code",
   "execution_count": 47,
   "id": "bff2ec62-c48a-43d2-aea5-0bad15ed8025",
   "metadata": {},
   "outputs": [
    {
     "data": {
      "text/html": [
       "<div>\n",
       "<style scoped>\n",
       "    .dataframe tbody tr th:only-of-type {\n",
       "        vertical-align: middle;\n",
       "    }\n",
       "\n",
       "    .dataframe tbody tr th {\n",
       "        vertical-align: top;\n",
       "    }\n",
       "\n",
       "    .dataframe thead th {\n",
       "        text-align: right;\n",
       "    }\n",
       "</style>\n",
       "<table border=\"1\" class=\"dataframe\">\n",
       "  <thead>\n",
       "    <tr style=\"text-align: right;\">\n",
       "      <th></th>\n",
       "      <th>a</th>\n",
       "      <th>b</th>\n",
       "      <th>c</th>\n",
       "      <th>d</th>\n",
       "      <th>f</th>\n",
       "    </tr>\n",
       "  </thead>\n",
       "  <tbody>\n",
       "    <tr>\n",
       "      <th>1</th>\n",
       "      <td>0.0</td>\n",
       "      <td>1.0</td>\n",
       "      <td>2.0</td>\n",
       "      <td>3.0</td>\n",
       "      <td>4.0</td>\n",
       "    </tr>\n",
       "    <tr>\n",
       "      <th>2</th>\n",
       "      <td>5.0</td>\n",
       "      <td>6.0</td>\n",
       "      <td>7.0</td>\n",
       "      <td>8.0</td>\n",
       "      <td>9.0</td>\n",
       "    </tr>\n",
       "    <tr>\n",
       "      <th>3</th>\n",
       "      <td>10.0</td>\n",
       "      <td>11.0</td>\n",
       "      <td>12.0</td>\n",
       "      <td>13.0</td>\n",
       "      <td>14.0</td>\n",
       "    </tr>\n",
       "    <tr>\n",
       "      <th>4</th>\n",
       "      <td>15.0</td>\n",
       "      <td>16.0</td>\n",
       "      <td>17.0</td>\n",
       "      <td>18.0</td>\n",
       "      <td>19.0</td>\n",
       "    </tr>\n",
       "    <tr>\n",
       "      <th>5</th>\n",
       "      <td>20.0</td>\n",
       "      <td>21.0</td>\n",
       "      <td>22.0</td>\n",
       "      <td>23.0</td>\n",
       "      <td>24.0</td>\n",
       "    </tr>\n",
       "  </tbody>\n",
       "</table>\n",
       "</div>"
      ],
      "text/plain": [
       "      a     b     c     d     f\n",
       "1   0.0   1.0   2.0   3.0   4.0\n",
       "2   5.0   6.0   7.0   8.0   9.0\n",
       "3  10.0  11.0  12.0  13.0  14.0\n",
       "4  15.0  16.0  17.0  18.0  19.0\n",
       "5  20.0  21.0  22.0  23.0  24.0"
      ]
     },
     "execution_count": 47,
     "metadata": {},
     "output_type": "execute_result"
    }
   ],
   "source": [
    "df"
   ]
  },
  {
   "cell_type": "markdown",
   "id": "d5b5828c-ed14-41eb-913d-ff18338c1527",
   "metadata": {
    "tags": []
   },
   "source": [
    "#### dictionary"
   ]
  },
  {
   "cell_type": "code",
   "execution_count": 48,
   "id": "6bea56d6-fd9d-4894-8b30-7be2c61d9bc8",
   "metadata": {},
   "outputs": [],
   "source": [
    "dict = {'adarsh' :[7, '4th year', 'coding'], 'anu' :[9, '4th year', 'travelling'], 'khedi':[37, '4th year', 'hiking']}\n",
    "df1 = pd.DataFrame(data = dict, index = ['rol no', 'year', 'hobby'])"
   ]
  },
  {
   "cell_type": "code",
   "execution_count": 49,
   "id": "820d301a-7ff9-40e0-b07c-8a7838293d35",
   "metadata": {},
   "outputs": [
    {
     "data": {
      "text/html": [
       "<div>\n",
       "<style scoped>\n",
       "    .dataframe tbody tr th:only-of-type {\n",
       "        vertical-align: middle;\n",
       "    }\n",
       "\n",
       "    .dataframe tbody tr th {\n",
       "        vertical-align: top;\n",
       "    }\n",
       "\n",
       "    .dataframe thead th {\n",
       "        text-align: right;\n",
       "    }\n",
       "</style>\n",
       "<table border=\"1\" class=\"dataframe\">\n",
       "  <thead>\n",
       "    <tr style=\"text-align: right;\">\n",
       "      <th></th>\n",
       "      <th>adarsh</th>\n",
       "      <th>anu</th>\n",
       "      <th>khedi</th>\n",
       "    </tr>\n",
       "  </thead>\n",
       "  <tbody>\n",
       "    <tr>\n",
       "      <th>rol no</th>\n",
       "      <td>7</td>\n",
       "      <td>9</td>\n",
       "      <td>37</td>\n",
       "    </tr>\n",
       "    <tr>\n",
       "      <th>year</th>\n",
       "      <td>4th year</td>\n",
       "      <td>4th year</td>\n",
       "      <td>4th year</td>\n",
       "    </tr>\n",
       "    <tr>\n",
       "      <th>hobby</th>\n",
       "      <td>coding</td>\n",
       "      <td>travelling</td>\n",
       "      <td>hiking</td>\n",
       "    </tr>\n",
       "  </tbody>\n",
       "</table>\n",
       "</div>"
      ],
      "text/plain": [
       "          adarsh         anu     khedi\n",
       "rol no         7           9        37\n",
       "year    4th year    4th year  4th year\n",
       "hobby     coding  travelling    hiking"
      ]
     },
     "execution_count": 49,
     "metadata": {},
     "output_type": "execute_result"
    }
   ],
   "source": [
    "df1"
   ]
  },
  {
   "cell_type": "code",
   "execution_count": 50,
   "id": "868aa910-b826-4f4e-bdf3-bbd35b286ffe",
   "metadata": {},
   "outputs": [
    {
     "data": {
      "text/plain": [
       "array([[7, 9, 37],\n",
       "       ['4th year', '4th year', '4th year'],\n",
       "       ['coding', 'travelling', 'hiking']], dtype=object)"
      ]
     },
     "execution_count": 50,
     "metadata": {},
     "output_type": "execute_result"
    }
   ],
   "source": [
    "df1.values"
   ]
  },
  {
   "cell_type": "code",
   "execution_count": 51,
   "id": "0989f004-d869-4374-885e-a837fdcfc760",
   "metadata": {},
   "outputs": [
    {
     "data": {
      "text/plain": [
       "Index(['adarsh', 'anu', 'khedi'], dtype='object')"
      ]
     },
     "execution_count": 51,
     "metadata": {},
     "output_type": "execute_result"
    }
   ],
   "source": [
    "df1.columns"
   ]
  },
  {
   "cell_type": "code",
   "execution_count": 52,
   "id": "d138805a-6c53-499f-b06f-da9291c3c912",
   "metadata": {},
   "outputs": [
    {
     "data": {
      "text/plain": [
       "Index(['rol no', 'year', 'hobby'], dtype='object')"
      ]
     },
     "execution_count": 52,
     "metadata": {},
     "output_type": "execute_result"
    }
   ],
   "source": [
    "df1.index"
   ]
  },
  {
   "cell_type": "markdown",
   "id": "5e8e2509-7520-4962-b5c0-d25f4c074ea2",
   "metadata": {},
   "source": [
    "#### zip function : combine two list in form of tupple"
   ]
  },
  {
   "cell_type": "code",
   "execution_count": 53,
   "id": "379cbf3e-4601-4250-8ea0-72e54eac29ff",
   "metadata": {},
   "outputs": [],
   "source": [
    "age = [18,19,20,21,29]\n",
    "name = ['adarsh', 'anu', 'khedi', 'tushar', 'kd']\n",
    "df3 = pd.DataFrame(zip(age,name), [1, 2, 3, 4, 5], ['age', 'name'])"
   ]
  },
  {
   "cell_type": "code",
   "execution_count": 54,
   "id": "199861ad-fede-4d1c-8f30-b62b2ed298b7",
   "metadata": {},
   "outputs": [
    {
     "data": {
      "text/html": [
       "<div>\n",
       "<style scoped>\n",
       "    .dataframe tbody tr th:only-of-type {\n",
       "        vertical-align: middle;\n",
       "    }\n",
       "\n",
       "    .dataframe tbody tr th {\n",
       "        vertical-align: top;\n",
       "    }\n",
       "\n",
       "    .dataframe thead th {\n",
       "        text-align: right;\n",
       "    }\n",
       "</style>\n",
       "<table border=\"1\" class=\"dataframe\">\n",
       "  <thead>\n",
       "    <tr style=\"text-align: right;\">\n",
       "      <th></th>\n",
       "      <th>age</th>\n",
       "      <th>name</th>\n",
       "    </tr>\n",
       "  </thead>\n",
       "  <tbody>\n",
       "    <tr>\n",
       "      <th>1</th>\n",
       "      <td>18</td>\n",
       "      <td>adarsh</td>\n",
       "    </tr>\n",
       "    <tr>\n",
       "      <th>2</th>\n",
       "      <td>19</td>\n",
       "      <td>anu</td>\n",
       "    </tr>\n",
       "    <tr>\n",
       "      <th>3</th>\n",
       "      <td>20</td>\n",
       "      <td>khedi</td>\n",
       "    </tr>\n",
       "    <tr>\n",
       "      <th>4</th>\n",
       "      <td>21</td>\n",
       "      <td>tushar</td>\n",
       "    </tr>\n",
       "    <tr>\n",
       "      <th>5</th>\n",
       "      <td>29</td>\n",
       "      <td>kd</td>\n",
       "    </tr>\n",
       "  </tbody>\n",
       "</table>\n",
       "</div>"
      ],
      "text/plain": [
       "   age    name\n",
       "1   18  adarsh\n",
       "2   19     anu\n",
       "3   20   khedi\n",
       "4   21  tushar\n",
       "5   29      kd"
      ]
     },
     "execution_count": 54,
     "metadata": {},
     "output_type": "execute_result"
    }
   ],
   "source": [
    "df3"
   ]
  },
  {
   "cell_type": "markdown",
   "id": "92e15149-c803-4676-9339-dc384e4ca0c7",
   "metadata": {},
   "source": [
    "#### we can initialize iindex directly in dictionary instead of later dwfining it in DataFramea by using series"
   ]
  },
  {
   "cell_type": "code",
   "execution_count": 55,
   "id": "95b341c7-1da1-45a1-8d7e-4386d829bcae",
   "metadata": {},
   "outputs": [
    {
     "data": {
      "text/html": [
       "<div>\n",
       "<style scoped>\n",
       "    .dataframe tbody tr th:only-of-type {\n",
       "        vertical-align: middle;\n",
       "    }\n",
       "\n",
       "    .dataframe tbody tr th {\n",
       "        vertical-align: top;\n",
       "    }\n",
       "\n",
       "    .dataframe thead th {\n",
       "        text-align: right;\n",
       "    }\n",
       "</style>\n",
       "<table border=\"1\" class=\"dataframe\">\n",
       "  <thead>\n",
       "    <tr style=\"text-align: right;\">\n",
       "      <th></th>\n",
       "      <th>one</th>\n",
       "      <th>two</th>\n",
       "      <th>three</th>\n",
       "      <th>four</th>\n",
       "    </tr>\n",
       "  </thead>\n",
       "  <tbody>\n",
       "    <tr>\n",
       "      <th>0</th>\n",
       "      <td>10</td>\n",
       "      <td>60</td>\n",
       "      <td>30</td>\n",
       "      <td>60</td>\n",
       "    </tr>\n",
       "    <tr>\n",
       "      <th>1</th>\n",
       "      <td>20</td>\n",
       "      <td>70</td>\n",
       "      <td>40</td>\n",
       "      <td>70</td>\n",
       "    </tr>\n",
       "    <tr>\n",
       "      <th>2</th>\n",
       "      <td>30</td>\n",
       "      <td>80</td>\n",
       "      <td>50</td>\n",
       "      <td>80</td>\n",
       "    </tr>\n",
       "    <tr>\n",
       "      <th>3</th>\n",
       "      <td>40</td>\n",
       "      <td>90</td>\n",
       "      <td>60</td>\n",
       "      <td>90</td>\n",
       "    </tr>\n",
       "    <tr>\n",
       "      <th>4</th>\n",
       "      <td>50</td>\n",
       "      <td>100</td>\n",
       "      <td>70</td>\n",
       "      <td>100</td>\n",
       "    </tr>\n",
       "  </tbody>\n",
       "</table>\n",
       "</div>"
      ],
      "text/plain": [
       "   one  two  three  four\n",
       "0   10   60     30    60\n",
       "1   20   70     40    70\n",
       "2   30   80     50    80\n",
       "3   40   90     60    90\n",
       "4   50  100     70   100"
      ]
     },
     "execution_count": 55,
     "metadata": {},
     "output_type": "execute_result"
    }
   ],
   "source": [
    "d={'one': [10,20,30,40,50],\n",
    "   'two':[60,70,80,90,100], \n",
    "  'three': [30,40,50,60,70], 'four':[60,70,80,90,100]}\n",
    "df4 = pd.DataFrame(d)\n",
    "df4"
   ]
  },
  {
   "cell_type": "code",
   "execution_count": 56,
   "id": "a9fd1193-101c-42a6-a5d4-2e20d4be59c2",
   "metadata": {},
   "outputs": [],
   "source": [
    "d={'one': pd.Series([10,20,30,40,50], index=['a', 'b', 'c', 'd', 'e']),\n",
    "   'two':pd.Series([60,70,80,90,100], index=['f', 'g', 'h', 'i', 'j']),\n",
    "  'three': pd.Series([10,20,30,40,50], index=['a', 'b', 'c', 'd', 'e']),\n",
    "   'four':pd.Series([60,70,80,90,100], index=['f', 'g', 'h', 'i', 'j'])}\n",
    "df4 = pd.DataFrame(d)"
   ]
  },
  {
   "cell_type": "code",
   "execution_count": 57,
   "id": "94998986-a3a0-4529-b429-5acb32176a74",
   "metadata": {},
   "outputs": [
    {
     "data": {
      "text/html": [
       "<div>\n",
       "<style scoped>\n",
       "    .dataframe tbody tr th:only-of-type {\n",
       "        vertical-align: middle;\n",
       "    }\n",
       "\n",
       "    .dataframe tbody tr th {\n",
       "        vertical-align: top;\n",
       "    }\n",
       "\n",
       "    .dataframe thead th {\n",
       "        text-align: right;\n",
       "    }\n",
       "</style>\n",
       "<table border=\"1\" class=\"dataframe\">\n",
       "  <thead>\n",
       "    <tr style=\"text-align: right;\">\n",
       "      <th></th>\n",
       "      <th>one</th>\n",
       "      <th>two</th>\n",
       "      <th>three</th>\n",
       "      <th>four</th>\n",
       "    </tr>\n",
       "  </thead>\n",
       "  <tbody>\n",
       "    <tr>\n",
       "      <th>a</th>\n",
       "      <td>10.0</td>\n",
       "      <td>NaN</td>\n",
       "      <td>10.0</td>\n",
       "      <td>NaN</td>\n",
       "    </tr>\n",
       "    <tr>\n",
       "      <th>b</th>\n",
       "      <td>20.0</td>\n",
       "      <td>NaN</td>\n",
       "      <td>20.0</td>\n",
       "      <td>NaN</td>\n",
       "    </tr>\n",
       "    <tr>\n",
       "      <th>c</th>\n",
       "      <td>30.0</td>\n",
       "      <td>NaN</td>\n",
       "      <td>30.0</td>\n",
       "      <td>NaN</td>\n",
       "    </tr>\n",
       "    <tr>\n",
       "      <th>d</th>\n",
       "      <td>40.0</td>\n",
       "      <td>NaN</td>\n",
       "      <td>40.0</td>\n",
       "      <td>NaN</td>\n",
       "    </tr>\n",
       "    <tr>\n",
       "      <th>e</th>\n",
       "      <td>50.0</td>\n",
       "      <td>NaN</td>\n",
       "      <td>50.0</td>\n",
       "      <td>NaN</td>\n",
       "    </tr>\n",
       "    <tr>\n",
       "      <th>f</th>\n",
       "      <td>NaN</td>\n",
       "      <td>60.0</td>\n",
       "      <td>NaN</td>\n",
       "      <td>60.0</td>\n",
       "    </tr>\n",
       "    <tr>\n",
       "      <th>g</th>\n",
       "      <td>NaN</td>\n",
       "      <td>70.0</td>\n",
       "      <td>NaN</td>\n",
       "      <td>70.0</td>\n",
       "    </tr>\n",
       "    <tr>\n",
       "      <th>h</th>\n",
       "      <td>NaN</td>\n",
       "      <td>80.0</td>\n",
       "      <td>NaN</td>\n",
       "      <td>80.0</td>\n",
       "    </tr>\n",
       "    <tr>\n",
       "      <th>i</th>\n",
       "      <td>NaN</td>\n",
       "      <td>90.0</td>\n",
       "      <td>NaN</td>\n",
       "      <td>90.0</td>\n",
       "    </tr>\n",
       "    <tr>\n",
       "      <th>j</th>\n",
       "      <td>NaN</td>\n",
       "      <td>100.0</td>\n",
       "      <td>NaN</td>\n",
       "      <td>100.0</td>\n",
       "    </tr>\n",
       "  </tbody>\n",
       "</table>\n",
       "</div>"
      ],
      "text/plain": [
       "    one    two  three   four\n",
       "a  10.0    NaN   10.0    NaN\n",
       "b  20.0    NaN   20.0    NaN\n",
       "c  30.0    NaN   30.0    NaN\n",
       "d  40.0    NaN   40.0    NaN\n",
       "e  50.0    NaN   50.0    NaN\n",
       "f   NaN   60.0    NaN   60.0\n",
       "g   NaN   70.0    NaN   70.0\n",
       "h   NaN   80.0    NaN   80.0\n",
       "i   NaN   90.0    NaN   90.0\n",
       "j   NaN  100.0    NaN  100.0"
      ]
     },
     "execution_count": 57,
     "metadata": {},
     "output_type": "execute_result"
    }
   ],
   "source": [
    "df4"
   ]
  },
  {
   "cell_type": "markdown",
   "id": "64236b17-54ad-4802-b65c-32e057e71b28",
   "metadata": {},
   "source": [
    "## dealing with rows and columns"
   ]
  },
  {
   "cell_type": "raw",
   "id": "6a9d7042-6472-4d4c-9cf4-314b8e86dd2c",
   "metadata": {},
   "source": [
    "accesing speecific columns \n",
    "- <DataFrame Object> [ [<Column Name1> , <Column Name2>,<Column Name3> ]] "
   ]
  },
  {
   "cell_type": "code",
   "execution_count": 58,
   "id": "0e7f6541-1d04-4005-b429-1e31c74efc6d",
   "metadata": {},
   "outputs": [
    {
     "name": "stdout",
     "output_type": "stream",
     "text": [
      "      Name  Gender\n",
      "0    Alice  Female\n",
      "1      Bob    Male\n",
      "2  Charlie    Male\n",
      "3    David    Male\n",
      "4      Eva  Female\n",
      "5    Frank    Male\n",
      "6    Grace  Female\n",
      "7    Henry    Male\n",
      "8      Ivy  Female\n",
      "9     Jack    Male\n"
     ]
    }
   ],
   "source": [
    "data = {\n",
    "    'Name': ['Alice', 'Bob', 'Charlie', 'David', 'Eva', 'Frank', 'Grace', 'Henry', 'Ivy', 'Jack'],\n",
    "    'Age': [25, 30, 35, 28, 32, 27, 31, 29, 34, 26],\n",
    "    'Qualification': ['Bachelor', 'Master', 'PhD', 'Master', 'Bachelor', 'Master', 'PhD', 'Bachelor', 'Master', 'PhD'],\n",
    "    'Gender': ['Female', 'Male', 'Male', 'Male', 'Female', 'Male', 'Female', 'Male', 'Female', 'Male'],\n",
    "    'City': ['New York', 'London', 'Tokyo', 'Paris', 'Berlin', 'Sydney', 'Toronto', 'Mumbai', 'Singapore', 'Dubai'],\n",
    "    'Country': ['USA', 'UK', 'Japan', 'France', 'Germany', 'Australia', 'Canada', 'India', 'Singapore', 'UAE']\n",
    "}\n",
    "\n",
    "df = pd.DataFrame(data)\n",
    "print(df[['Name', 'Gender']])"
   ]
  },
  {
   "cell_type": "markdown",
   "id": "26d5f4cd-be80-469b-9b92-177c8dbc3595",
   "metadata": {},
   "source": [
    "### to access single element we can use **at** or **iat** attribute"
   ]
  },
  {
   "cell_type": "code",
   "execution_count": 59,
   "id": "3b0bf958-a7f0-4c3b-a889-cc1cd78e3191",
   "metadata": {},
   "outputs": [
    {
     "data": {
      "text/plain": [
       "'Bob'"
      ]
     },
     "execution_count": 59,
     "metadata": {},
     "output_type": "execute_result"
    }
   ],
   "source": [
    "df.at[1, 'Name']\n",
    "#    row  column "
   ]
  },
  {
   "cell_type": "code",
   "execution_count": 60,
   "id": "6062e45e-d7ec-456b-a7ef-b8b3c00699cc",
   "metadata": {},
   "outputs": [
    {
     "data": {
      "text/plain": [
       "'Bob'"
      ]
     },
     "execution_count": 60,
     "metadata": {},
     "output_type": "execute_result"
    }
   ],
   "source": [
    "df.iat[1,0]"
   ]
  },
  {
   "cell_type": "markdown",
   "id": "c346d998-45db-401d-9618-35427d4c5a4d",
   "metadata": {},
   "source": [
    "### to access only rows from dataframe we can use either loc attribute or iloc attribute"
   ]
  },
  {
   "cell_type": "code",
   "execution_count": 61,
   "id": "1a8573a8-f7b8-450f-8f47-91837ac0cd98",
   "metadata": {},
   "outputs": [
    {
     "data": {
      "text/plain": [
       "Name              David\n",
       "Age                  28\n",
       "Qualification    Master\n",
       "Gender             Male\n",
       "City              Paris\n",
       "Country          France\n",
       "Name: 3, dtype: object"
      ]
     },
     "execution_count": 61,
     "metadata": {},
     "output_type": "execute_result"
    }
   ],
   "source": [
    "df.loc[3]"
   ]
  },
  {
   "cell_type": "code",
   "execution_count": 62,
   "id": "6a84c78a-7db8-4415-80f8-89a3c0874df8",
   "metadata": {},
   "outputs": [
    {
     "data": {
      "text/plain": [
       "Name              David\n",
       "Age                  28\n",
       "Qualification    Master\n",
       "Gender             Male\n",
       "City              Paris\n",
       "Country          France\n",
       "Name: 3, dtype: object"
      ]
     },
     "execution_count": 62,
     "metadata": {},
     "output_type": "execute_result"
    }
   ],
   "source": [
    "df.iloc[3]"
   ]
  },
  {
   "cell_type": "code",
   "execution_count": 63,
   "id": "8ef3c37d-c4b3-41d8-8524-056bff90528b",
   "metadata": {},
   "outputs": [
    {
     "data": {
      "text/html": [
       "<div>\n",
       "<style scoped>\n",
       "    .dataframe tbody tr th:only-of-type {\n",
       "        vertical-align: middle;\n",
       "    }\n",
       "\n",
       "    .dataframe tbody tr th {\n",
       "        vertical-align: top;\n",
       "    }\n",
       "\n",
       "    .dataframe thead th {\n",
       "        text-align: right;\n",
       "    }\n",
       "</style>\n",
       "<table border=\"1\" class=\"dataframe\">\n",
       "  <thead>\n",
       "    <tr style=\"text-align: right;\">\n",
       "      <th></th>\n",
       "      <th>Name</th>\n",
       "      <th>Age</th>\n",
       "      <th>Qualification</th>\n",
       "      <th>Gender</th>\n",
       "      <th>City</th>\n",
       "      <th>Country</th>\n",
       "    </tr>\n",
       "  </thead>\n",
       "  <tbody>\n",
       "    <tr>\n",
       "      <th>3</th>\n",
       "      <td>David</td>\n",
       "      <td>28</td>\n",
       "      <td>Master</td>\n",
       "      <td>Male</td>\n",
       "      <td>Paris</td>\n",
       "      <td>France</td>\n",
       "    </tr>\n",
       "  </tbody>\n",
       "</table>\n",
       "</div>"
      ],
      "text/plain": [
       "    Name  Age Qualification Gender   City Country\n",
       "3  David   28        Master   Male  Paris  France"
      ]
     },
     "execution_count": 63,
     "metadata": {},
     "output_type": "execute_result"
    }
   ],
   "source": [
    "df.loc[[3]]"
   ]
  },
  {
   "cell_type": "markdown",
   "id": "3f2f01c9-f217-4d01-96b3-423e28479d6e",
   "metadata": {},
   "source": [
    "## working with missing data in dataframes"
   ]
  },
  {
   "cell_type": "markdown",
   "id": "7c4385f3-6475-4c91-909e-7fe6bf600ec0",
   "metadata": {},
   "source": [
    "Working with missing data in pandas involves handling and managing the absence of values or NaN (Not a Number) values in a data frame. Pandas provides several methods and functions to handle missing data effectively.\n",
    "\n",
    "Here are some common operations for working with missing data in pandas:\n",
    "- Detecting missing values:\n",
    "   **isnull() and notnull()**: These functions return a Boolean mask indicating which values are missing or not missing, respectively, in the data frame or a specific column.\n",
    "   \n",
    "- Dropping missing values:\n",
    "  **dropna()** : his function is used to drop rows or columns that contain missing values. It allows you to specify the axis (rows or columns) and other parameters to control the behavior of dropping.\n",
    "  \n",
    "- filling missing values:  \n",
    "  **fillna()**: This function is used to fill missing values with a specified value or a predefined strategy. It can fill missing values forward or backward (using the previous or next non-missing value), or fill with a constant value, mean, median, or mode of the column.\n",
    "\n",
    "- Replacing missing values:\n",
    "  **replace()**: This function can be used to replace specific values, including missing values, with other values of your choice.\n",
    "- interpolating missing values:\n",
    "  **intepolate()**: This function is used to interpolate missing values based on various interpolation methods such as linear, quadratic, cubic, etc. It estimates missing values based on existing values in a column or data frame.\n",
    "  \n",
    "- Counting missing values:\n",
    "  **isnull().sum()** : This expression returns the count of missing values in each column of the data frame.\n",
    "  **count()**: This function returns the count of non-missing values in each column."
   ]
  },
  {
   "cell_type": "code",
   "execution_count": 64,
   "id": "e5ca7a7c-3ee6-4a2f-9e88-c5a1a7a47b4b",
   "metadata": {},
   "outputs": [
    {
     "data": {
      "text/html": [
       "<div>\n",
       "<style scoped>\n",
       "    .dataframe tbody tr th:only-of-type {\n",
       "        vertical-align: middle;\n",
       "    }\n",
       "\n",
       "    .dataframe tbody tr th {\n",
       "        vertical-align: top;\n",
       "    }\n",
       "\n",
       "    .dataframe thead th {\n",
       "        text-align: right;\n",
       "    }\n",
       "</style>\n",
       "<table border=\"1\" class=\"dataframe\">\n",
       "  <thead>\n",
       "    <tr style=\"text-align: right;\">\n",
       "      <th></th>\n",
       "      <th>A</th>\n",
       "      <th>B</th>\n",
       "      <th>C</th>\n",
       "    </tr>\n",
       "  </thead>\n",
       "  <tbody>\n",
       "    <tr>\n",
       "      <th>0</th>\n",
       "      <td>1.0</td>\n",
       "      <td>5.0</td>\n",
       "      <td>NaN</td>\n",
       "    </tr>\n",
       "    <tr>\n",
       "      <th>1</th>\n",
       "      <td>2.0</td>\n",
       "      <td>NaN</td>\n",
       "      <td>10.0</td>\n",
       "    </tr>\n",
       "    <tr>\n",
       "      <th>2</th>\n",
       "      <td>NaN</td>\n",
       "      <td>7.0</td>\n",
       "      <td>11.0</td>\n",
       "    </tr>\n",
       "    <tr>\n",
       "      <th>3</th>\n",
       "      <td>4.0</td>\n",
       "      <td>8.0</td>\n",
       "      <td>12.0</td>\n",
       "    </tr>\n",
       "  </tbody>\n",
       "</table>\n",
       "</div>"
      ],
      "text/plain": [
       "     A    B     C\n",
       "0  1.0  5.0   NaN\n",
       "1  2.0  NaN  10.0\n",
       "2  NaN  7.0  11.0\n",
       "3  4.0  8.0  12.0"
      ]
     },
     "execution_count": 64,
     "metadata": {},
     "output_type": "execute_result"
    }
   ],
   "source": [
    "data = {'A': [1, 2, np.nan, 4],\n",
    "        'B': [5, np.nan, 7, 8],\n",
    "        'C': [np.nan, 10, 11, 12]}\n",
    "df = pd.DataFrame(data)\n",
    "df"
   ]
  },
  {
   "cell_type": "code",
   "execution_count": 65,
   "id": "aa14419f-06ff-4294-ba8a-2d0a99486452",
   "metadata": {},
   "outputs": [
    {
     "data": {
      "text/html": [
       "<div>\n",
       "<style scoped>\n",
       "    .dataframe tbody tr th:only-of-type {\n",
       "        vertical-align: middle;\n",
       "    }\n",
       "\n",
       "    .dataframe tbody tr th {\n",
       "        vertical-align: top;\n",
       "    }\n",
       "\n",
       "    .dataframe thead th {\n",
       "        text-align: right;\n",
       "    }\n",
       "</style>\n",
       "<table border=\"1\" class=\"dataframe\">\n",
       "  <thead>\n",
       "    <tr style=\"text-align: right;\">\n",
       "      <th></th>\n",
       "      <th>A</th>\n",
       "      <th>B</th>\n",
       "      <th>C</th>\n",
       "    </tr>\n",
       "  </thead>\n",
       "  <tbody>\n",
       "    <tr>\n",
       "      <th>0</th>\n",
       "      <td>False</td>\n",
       "      <td>False</td>\n",
       "      <td>True</td>\n",
       "    </tr>\n",
       "    <tr>\n",
       "      <th>1</th>\n",
       "      <td>False</td>\n",
       "      <td>True</td>\n",
       "      <td>False</td>\n",
       "    </tr>\n",
       "    <tr>\n",
       "      <th>2</th>\n",
       "      <td>True</td>\n",
       "      <td>False</td>\n",
       "      <td>False</td>\n",
       "    </tr>\n",
       "    <tr>\n",
       "      <th>3</th>\n",
       "      <td>False</td>\n",
       "      <td>False</td>\n",
       "      <td>False</td>\n",
       "    </tr>\n",
       "  </tbody>\n",
       "</table>\n",
       "</div>"
      ],
      "text/plain": [
       "       A      B      C\n",
       "0  False  False   True\n",
       "1  False   True  False\n",
       "2   True  False  False\n",
       "3  False  False  False"
      ]
     },
     "execution_count": 65,
     "metadata": {},
     "output_type": "execute_result"
    }
   ],
   "source": [
    "df.isnull()"
   ]
  },
  {
   "cell_type": "markdown",
   "id": "33fc532e-ec3e-4871-94c0-9e7f48f822f3",
   "metadata": {
    "tags": []
   },
   "source": [
    "#### Check if any values are missing in each column **.isnull().any()**"
   ]
  },
  {
   "cell_type": "code",
   "execution_count": 66,
   "id": "df0d3f14-3e81-4f73-bfe9-e534d01ca6f2",
   "metadata": {},
   "outputs": [
    {
     "data": {
      "text/plain": [
       "A    True\n",
       "B    True\n",
       "C    True\n",
       "dtype: bool"
      ]
     },
     "execution_count": 66,
     "metadata": {},
     "output_type": "execute_result"
    }
   ],
   "source": [
    "df.isnull().any()"
   ]
  },
  {
   "cell_type": "markdown",
   "id": "fdcacce0-c6f3-4546-a715-f0cbfa19910e",
   "metadata": {},
   "source": [
    "#### Check if all values are missing in each column **isnull().all()"
   ]
  },
  {
   "cell_type": "code",
   "execution_count": 67,
   "id": "0857f77c-9ceb-47cd-9e0d-de71ac03f8bf",
   "metadata": {},
   "outputs": [
    {
     "data": {
      "text/plain": [
       "A    False\n",
       "B    False\n",
       "C    False\n",
       "dtype: bool"
      ]
     },
     "execution_count": 67,
     "metadata": {},
     "output_type": "execute_result"
    }
   ],
   "source": [
    "df.isnull().all()"
   ]
  },
  {
   "cell_type": "markdown",
   "id": "f3598c53-b823-4446-a0ec-cf4a53a04dc9",
   "metadata": {},
   "source": [
    "### Dropping mising values"
   ]
  },
  {
   "cell_type": "markdown",
   "id": "d807a5d2-630f-4510-8338-1ea1c3ec5ffb",
   "metadata": {},
   "source": [
    "#### Drop rows with missing values\n",
    "- DataFrame.dropna(*, axis=0, how=_NoDefault.no_default, thresh=_NoDefault.no_default, subset=None, inplace=False, ignore_index=False)\n",
    "- axis{0 or ‘index’, 1 or ‘columns’}, default 0\n",
    "Determine if rows or columns which contain missing values are removed.\n",
    "0, or ‘index’ : Drop rows which contain missing values.\n",
    "1, or ‘columns’ : Drop columns which contain missing value.\n",
    "Only a single axis is allowed.\n",
    "how{‘any’, ‘all’}, default ‘any’\n",
    "Determine if row or column is removed from DataFrame, when we have at least one NA or all NA.\n",
    "‘any’ : If any NA values are present, drop that row or column.\n",
    "‘all’ : If all values are NA, drop that row or column.\n",
    "threshint, optional\n",
    "Require that many non-NA values. Cannot be combined with how.\n",
    "subsetcolumn label or sequence of labels, optional\n",
    "Labels along other axis to consider, e.g. if you are dropping rows these would be a list of columns to include.\n",
    "inplacebool, default False\n",
    "Whether to modify the DataFrame rather than creating a new one.\n",
    "ignore_indexbool, default False\n",
    "If True, the resulting axis will be labeled 0, 1, …, n - 1."
   ]
  },
  {
   "cell_type": "code",
   "execution_count": 68,
   "id": "87c10363-4055-43ba-b8cd-4f1528008250",
   "metadata": {},
   "outputs": [
    {
     "data": {
      "text/html": [
       "<div>\n",
       "<style scoped>\n",
       "    .dataframe tbody tr th:only-of-type {\n",
       "        vertical-align: middle;\n",
       "    }\n",
       "\n",
       "    .dataframe tbody tr th {\n",
       "        vertical-align: top;\n",
       "    }\n",
       "\n",
       "    .dataframe thead th {\n",
       "        text-align: right;\n",
       "    }\n",
       "</style>\n",
       "<table border=\"1\" class=\"dataframe\">\n",
       "  <thead>\n",
       "    <tr style=\"text-align: right;\">\n",
       "      <th></th>\n",
       "      <th>A</th>\n",
       "      <th>B</th>\n",
       "      <th>C</th>\n",
       "    </tr>\n",
       "  </thead>\n",
       "  <tbody>\n",
       "    <tr>\n",
       "      <th>3</th>\n",
       "      <td>4.0</td>\n",
       "      <td>8.0</td>\n",
       "      <td>12.0</td>\n",
       "    </tr>\n",
       "  </tbody>\n",
       "</table>\n",
       "</div>"
      ],
      "text/plain": [
       "     A    B     C\n",
       "3  4.0  8.0  12.0"
      ]
     },
     "execution_count": 68,
     "metadata": {},
     "output_type": "execute_result"
    }
   ],
   "source": [
    "df.dropna()"
   ]
  },
  {
   "cell_type": "code",
   "execution_count": 69,
   "id": "ade3436e-6654-446f-84c3-8b0e7f0742c7",
   "metadata": {},
   "outputs": [
    {
     "name": "stdout",
     "output_type": "stream",
     "text": [
      "Empty DataFrame\n",
      "Columns: []\n",
      "Index: [0, 1, 2, 3]\n"
     ]
    }
   ],
   "source": [
    "print(df.dropna(axis = 1))"
   ]
  },
  {
   "cell_type": "markdown",
   "id": "70617f36-c581-4a34-a834-3f9fd21186b7",
   "metadata": {},
   "source": [
    "### Filling missing values"
   ]
  },
  {
   "cell_type": "markdown",
   "id": "cd98d019-0038-49d1-9d4b-bbecfe3a89ec",
   "metadata": {},
   "source": [
    "#### Fill missing values with a constant value **fillna(K)"
   ]
  },
  {
   "cell_type": "code",
   "execution_count": 70,
   "id": "094294ae-c05e-4136-a9e3-6b6da04df40a",
   "metadata": {},
   "outputs": [
    {
     "data": {
      "text/html": [
       "<div>\n",
       "<style scoped>\n",
       "    .dataframe tbody tr th:only-of-type {\n",
       "        vertical-align: middle;\n",
       "    }\n",
       "\n",
       "    .dataframe tbody tr th {\n",
       "        vertical-align: top;\n",
       "    }\n",
       "\n",
       "    .dataframe thead th {\n",
       "        text-align: right;\n",
       "    }\n",
       "</style>\n",
       "<table border=\"1\" class=\"dataframe\">\n",
       "  <thead>\n",
       "    <tr style=\"text-align: right;\">\n",
       "      <th></th>\n",
       "      <th>A</th>\n",
       "      <th>B</th>\n",
       "      <th>C</th>\n",
       "    </tr>\n",
       "  </thead>\n",
       "  <tbody>\n",
       "    <tr>\n",
       "      <th>0</th>\n",
       "      <td>1.0</td>\n",
       "      <td>5.0</td>\n",
       "      <td>9.0</td>\n",
       "    </tr>\n",
       "    <tr>\n",
       "      <th>1</th>\n",
       "      <td>2.0</td>\n",
       "      <td>9.0</td>\n",
       "      <td>10.0</td>\n",
       "    </tr>\n",
       "    <tr>\n",
       "      <th>2</th>\n",
       "      <td>9.0</td>\n",
       "      <td>7.0</td>\n",
       "      <td>11.0</td>\n",
       "    </tr>\n",
       "    <tr>\n",
       "      <th>3</th>\n",
       "      <td>4.0</td>\n",
       "      <td>8.0</td>\n",
       "      <td>12.0</td>\n",
       "    </tr>\n",
       "  </tbody>\n",
       "</table>\n",
       "</div>"
      ],
      "text/plain": [
       "     A    B     C\n",
       "0  1.0  5.0   9.0\n",
       "1  2.0  9.0  10.0\n",
       "2  9.0  7.0  11.0\n",
       "3  4.0  8.0  12.0"
      ]
     },
     "execution_count": 70,
     "metadata": {},
     "output_type": "execute_result"
    }
   ],
   "source": [
    "df.fillna(9)"
   ]
  },
  {
   "cell_type": "markdown",
   "id": "f193bc93-17f3-4b03-a1c0-df25f98e4b7a",
   "metadata": {},
   "source": [
    "#### Fill missing values with the mean of the column"
   ]
  },
  {
   "cell_type": "code",
   "execution_count": 71,
   "id": "fd1a3a53-68ca-4f15-9d9f-c924056d677b",
   "metadata": {},
   "outputs": [
    {
     "data": {
      "text/html": [
       "<div>\n",
       "<style scoped>\n",
       "    .dataframe tbody tr th:only-of-type {\n",
       "        vertical-align: middle;\n",
       "    }\n",
       "\n",
       "    .dataframe tbody tr th {\n",
       "        vertical-align: top;\n",
       "    }\n",
       "\n",
       "    .dataframe thead th {\n",
       "        text-align: right;\n",
       "    }\n",
       "</style>\n",
       "<table border=\"1\" class=\"dataframe\">\n",
       "  <thead>\n",
       "    <tr style=\"text-align: right;\">\n",
       "      <th></th>\n",
       "      <th>A</th>\n",
       "      <th>B</th>\n",
       "      <th>C</th>\n",
       "    </tr>\n",
       "  </thead>\n",
       "  <tbody>\n",
       "    <tr>\n",
       "      <th>0</th>\n",
       "      <td>1.000000</td>\n",
       "      <td>5.000000</td>\n",
       "      <td>11.0</td>\n",
       "    </tr>\n",
       "    <tr>\n",
       "      <th>1</th>\n",
       "      <td>2.000000</td>\n",
       "      <td>6.666667</td>\n",
       "      <td>10.0</td>\n",
       "    </tr>\n",
       "    <tr>\n",
       "      <th>2</th>\n",
       "      <td>2.333333</td>\n",
       "      <td>7.000000</td>\n",
       "      <td>11.0</td>\n",
       "    </tr>\n",
       "    <tr>\n",
       "      <th>3</th>\n",
       "      <td>4.000000</td>\n",
       "      <td>8.000000</td>\n",
       "      <td>12.0</td>\n",
       "    </tr>\n",
       "  </tbody>\n",
       "</table>\n",
       "</div>"
      ],
      "text/plain": [
       "          A         B     C\n",
       "0  1.000000  5.000000  11.0\n",
       "1  2.000000  6.666667  10.0\n",
       "2  2.333333  7.000000  11.0\n",
       "3  4.000000  8.000000  12.0"
      ]
     },
     "execution_count": 71,
     "metadata": {},
     "output_type": "execute_result"
    }
   ],
   "source": [
    "df.fillna(df.mean(axis = 0))"
   ]
  },
  {
   "cell_type": "markdown",
   "id": "a94c5789-34de-49cd-b754-fc955c653b99",
   "metadata": {},
   "source": [
    "#### Fill missing values forward (use the previous non-missing value)"
   ]
  },
  {
   "cell_type": "code",
   "execution_count": 80,
   "id": "45a02cb7-7f52-494e-9b35-1e0f5948575c",
   "metadata": {},
   "outputs": [
    {
     "name": "stdout",
     "output_type": "stream",
     "text": [
      "     A    B     C\n",
      "0  1.0  5.0   NaN\n",
      "1  2.0  5.0  10.0\n",
      "2  2.0  7.0  11.0\n",
      "3  4.0  8.0  12.0\n"
     ]
    },
    {
     "name": "stderr",
     "output_type": "stream",
     "text": [
      "/var/folders/4y/tgmzjnfd59s7t57bcx5m1lzc0000gn/T/ipykernel_93344/508128694.py:1: FutureWarning: DataFrame.fillna with 'method' is deprecated and will raise in a future version. Use obj.ffill() or obj.bfill() instead.\n",
      "  print(df.fillna(method='ffill', axis = 0))\n"
     ]
    }
   ],
   "source": [
    "print(df.fillna(method='ffill', axis = 0))\n"
   ]
  },
  {
   "cell_type": "code",
   "execution_count": 79,
   "id": "c28938ab-b452-4a44-9c1d-e8f4be16843f",
   "metadata": {},
   "outputs": [
    {
     "data": {
      "text/html": [
       "<div>\n",
       "<style scoped>\n",
       "    .dataframe tbody tr th:only-of-type {\n",
       "        vertical-align: middle;\n",
       "    }\n",
       "\n",
       "    .dataframe tbody tr th {\n",
       "        vertical-align: top;\n",
       "    }\n",
       "\n",
       "    .dataframe thead th {\n",
       "        text-align: right;\n",
       "    }\n",
       "</style>\n",
       "<table border=\"1\" class=\"dataframe\">\n",
       "  <thead>\n",
       "    <tr style=\"text-align: right;\">\n",
       "      <th></th>\n",
       "      <th>A</th>\n",
       "      <th>B</th>\n",
       "      <th>C</th>\n",
       "    </tr>\n",
       "  </thead>\n",
       "  <tbody>\n",
       "    <tr>\n",
       "      <th>0</th>\n",
       "      <td>1.0</td>\n",
       "      <td>5.0</td>\n",
       "      <td>NaN</td>\n",
       "    </tr>\n",
       "    <tr>\n",
       "      <th>1</th>\n",
       "      <td>2.0</td>\n",
       "      <td>5.0</td>\n",
       "      <td>10.0</td>\n",
       "    </tr>\n",
       "    <tr>\n",
       "      <th>2</th>\n",
       "      <td>2.0</td>\n",
       "      <td>7.0</td>\n",
       "      <td>11.0</td>\n",
       "    </tr>\n",
       "    <tr>\n",
       "      <th>3</th>\n",
       "      <td>4.0</td>\n",
       "      <td>8.0</td>\n",
       "      <td>12.0</td>\n",
       "    </tr>\n",
       "  </tbody>\n",
       "</table>\n",
       "</div>"
      ],
      "text/plain": [
       "     A    B     C\n",
       "0  1.0  5.0   NaN\n",
       "1  2.0  5.0  10.0\n",
       "2  2.0  7.0  11.0\n",
       "3  4.0  8.0  12.0"
      ]
     },
     "execution_count": 79,
     "metadata": {},
     "output_type": "execute_result"
    }
   ],
   "source": [
    "df.ffill()"
   ]
  },
  {
   "cell_type": "code",
   "execution_count": 81,
   "id": "76a93033-4b15-497c-b260-6962a358cb99",
   "metadata": {},
   "outputs": [
    {
     "name": "stderr",
     "output_type": "stream",
     "text": [
      "/var/folders/4y/tgmzjnfd59s7t57bcx5m1lzc0000gn/T/ipykernel_93344/2484479613.py:1: FutureWarning: DataFrame.fillna with 'method' is deprecated and will raise in a future version. Use obj.ffill() or obj.bfill() instead.\n",
      "  df.fillna(method='ffill', axis = 1)\n"
     ]
    },
    {
     "data": {
      "text/html": [
       "<div>\n",
       "<style scoped>\n",
       "    .dataframe tbody tr th:only-of-type {\n",
       "        vertical-align: middle;\n",
       "    }\n",
       "\n",
       "    .dataframe tbody tr th {\n",
       "        vertical-align: top;\n",
       "    }\n",
       "\n",
       "    .dataframe thead th {\n",
       "        text-align: right;\n",
       "    }\n",
       "</style>\n",
       "<table border=\"1\" class=\"dataframe\">\n",
       "  <thead>\n",
       "    <tr style=\"text-align: right;\">\n",
       "      <th></th>\n",
       "      <th>A</th>\n",
       "      <th>B</th>\n",
       "      <th>C</th>\n",
       "    </tr>\n",
       "  </thead>\n",
       "  <tbody>\n",
       "    <tr>\n",
       "      <th>0</th>\n",
       "      <td>1.0</td>\n",
       "      <td>5.0</td>\n",
       "      <td>5.0</td>\n",
       "    </tr>\n",
       "    <tr>\n",
       "      <th>1</th>\n",
       "      <td>2.0</td>\n",
       "      <td>2.0</td>\n",
       "      <td>10.0</td>\n",
       "    </tr>\n",
       "    <tr>\n",
       "      <th>2</th>\n",
       "      <td>NaN</td>\n",
       "      <td>7.0</td>\n",
       "      <td>11.0</td>\n",
       "    </tr>\n",
       "    <tr>\n",
       "      <th>3</th>\n",
       "      <td>4.0</td>\n",
       "      <td>8.0</td>\n",
       "      <td>12.0</td>\n",
       "    </tr>\n",
       "  </tbody>\n",
       "</table>\n",
       "</div>"
      ],
      "text/plain": [
       "     A    B     C\n",
       "0  1.0  5.0   5.0\n",
       "1  2.0  2.0  10.0\n",
       "2  NaN  7.0  11.0\n",
       "3  4.0  8.0  12.0"
      ]
     },
     "execution_count": 81,
     "metadata": {},
     "output_type": "execute_result"
    }
   ],
   "source": [
    "df.fillna(method='ffill', axis = 1)"
   ]
  },
  {
   "cell_type": "code",
   "execution_count": null,
   "id": "b9f064ed-612c-437a-a82e-9a310e909431",
   "metadata": {},
   "outputs": [],
   "source": []
  },
  {
   "cell_type": "code",
   "execution_count": 82,
   "id": "a8288821-a8cc-4d9a-a04b-146c7a350015",
   "metadata": {},
   "outputs": [
    {
     "name": "stderr",
     "output_type": "stream",
     "text": [
      "/var/folders/4y/tgmzjnfd59s7t57bcx5m1lzc0000gn/T/ipykernel_93344/2831856154.py:1: FutureWarning: DataFrame.fillna with 'method' is deprecated and will raise in a future version. Use obj.ffill() or obj.bfill() instead.\n",
      "  df.fillna(method='bfill')\n"
     ]
    },
    {
     "data": {
      "text/html": [
       "<div>\n",
       "<style scoped>\n",
       "    .dataframe tbody tr th:only-of-type {\n",
       "        vertical-align: middle;\n",
       "    }\n",
       "\n",
       "    .dataframe tbody tr th {\n",
       "        vertical-align: top;\n",
       "    }\n",
       "\n",
       "    .dataframe thead th {\n",
       "        text-align: right;\n",
       "    }\n",
       "</style>\n",
       "<table border=\"1\" class=\"dataframe\">\n",
       "  <thead>\n",
       "    <tr style=\"text-align: right;\">\n",
       "      <th></th>\n",
       "      <th>A</th>\n",
       "      <th>B</th>\n",
       "      <th>C</th>\n",
       "    </tr>\n",
       "  </thead>\n",
       "  <tbody>\n",
       "    <tr>\n",
       "      <th>0</th>\n",
       "      <td>1.0</td>\n",
       "      <td>5.0</td>\n",
       "      <td>10.0</td>\n",
       "    </tr>\n",
       "    <tr>\n",
       "      <th>1</th>\n",
       "      <td>2.0</td>\n",
       "      <td>7.0</td>\n",
       "      <td>10.0</td>\n",
       "    </tr>\n",
       "    <tr>\n",
       "      <th>2</th>\n",
       "      <td>4.0</td>\n",
       "      <td>7.0</td>\n",
       "      <td>11.0</td>\n",
       "    </tr>\n",
       "    <tr>\n",
       "      <th>3</th>\n",
       "      <td>4.0</td>\n",
       "      <td>8.0</td>\n",
       "      <td>12.0</td>\n",
       "    </tr>\n",
       "  </tbody>\n",
       "</table>\n",
       "</div>"
      ],
      "text/plain": [
       "     A    B     C\n",
       "0  1.0  5.0  10.0\n",
       "1  2.0  7.0  10.0\n",
       "2  4.0  7.0  11.0\n",
       "3  4.0  8.0  12.0"
      ]
     },
     "execution_count": 82,
     "metadata": {},
     "output_type": "execute_result"
    }
   ],
   "source": [
    "df.fillna(method='bfill')"
   ]
  },
  {
   "cell_type": "code",
   "execution_count": 87,
   "id": "0d856cfd-7b2e-4b50-a6c6-f008f0a4621c",
   "metadata": {},
   "outputs": [
    {
     "data": {
      "text/html": [
       "<div>\n",
       "<style scoped>\n",
       "    .dataframe tbody tr th:only-of-type {\n",
       "        vertical-align: middle;\n",
       "    }\n",
       "\n",
       "    .dataframe tbody tr th {\n",
       "        vertical-align: top;\n",
       "    }\n",
       "\n",
       "    .dataframe thead th {\n",
       "        text-align: right;\n",
       "    }\n",
       "</style>\n",
       "<table border=\"1\" class=\"dataframe\">\n",
       "  <thead>\n",
       "    <tr style=\"text-align: right;\">\n",
       "      <th></th>\n",
       "      <th>A</th>\n",
       "      <th>B</th>\n",
       "      <th>C</th>\n",
       "    </tr>\n",
       "  </thead>\n",
       "  <tbody>\n",
       "    <tr>\n",
       "      <th>0</th>\n",
       "      <td>1.0</td>\n",
       "      <td>5.0</td>\n",
       "      <td>5.0</td>\n",
       "    </tr>\n",
       "    <tr>\n",
       "      <th>1</th>\n",
       "      <td>2.0</td>\n",
       "      <td>2.0</td>\n",
       "      <td>10.0</td>\n",
       "    </tr>\n",
       "    <tr>\n",
       "      <th>2</th>\n",
       "      <td>NaN</td>\n",
       "      <td>7.0</td>\n",
       "      <td>11.0</td>\n",
       "    </tr>\n",
       "    <tr>\n",
       "      <th>3</th>\n",
       "      <td>4.0</td>\n",
       "      <td>8.0</td>\n",
       "      <td>12.0</td>\n",
       "    </tr>\n",
       "  </tbody>\n",
       "</table>\n",
       "</div>"
      ],
      "text/plain": [
       "     A    B     C\n",
       "0  1.0  5.0   5.0\n",
       "1  2.0  2.0  10.0\n",
       "2  NaN  7.0  11.0\n",
       "3  4.0  8.0  12.0"
      ]
     },
     "execution_count": 87,
     "metadata": {},
     "output_type": "execute_result"
    }
   ],
   "source": [
    "df.ffill(axis = 1)"
   ]
  },
  {
   "cell_type": "markdown",
   "id": "e7f929b8-5bda-4fec-b443-89e0784a014d",
   "metadata": {},
   "source": [
    "### replace missing values"
   ]
  },
  {
   "cell_type": "code",
   "execution_count": 88,
   "id": "108a081b-30ac-4663-89b4-2357674de65c",
   "metadata": {},
   "outputs": [
    {
     "data": {
      "text/html": [
       "<div>\n",
       "<style scoped>\n",
       "    .dataframe tbody tr th:only-of-type {\n",
       "        vertical-align: middle;\n",
       "    }\n",
       "\n",
       "    .dataframe tbody tr th {\n",
       "        vertical-align: top;\n",
       "    }\n",
       "\n",
       "    .dataframe thead th {\n",
       "        text-align: right;\n",
       "    }\n",
       "</style>\n",
       "<table border=\"1\" class=\"dataframe\">\n",
       "  <thead>\n",
       "    <tr style=\"text-align: right;\">\n",
       "      <th></th>\n",
       "      <th>A</th>\n",
       "      <th>B</th>\n",
       "      <th>C</th>\n",
       "    </tr>\n",
       "  </thead>\n",
       "  <tbody>\n",
       "    <tr>\n",
       "      <th>0</th>\n",
       "      <td>1.0</td>\n",
       "      <td>5.0</td>\n",
       "      <td>NaN</td>\n",
       "    </tr>\n",
       "    <tr>\n",
       "      <th>1</th>\n",
       "      <td>2.0</td>\n",
       "      <td>NaN</td>\n",
       "      <td>-9.0</td>\n",
       "    </tr>\n",
       "    <tr>\n",
       "      <th>2</th>\n",
       "      <td>NaN</td>\n",
       "      <td>7.0</td>\n",
       "      <td>11.0</td>\n",
       "    </tr>\n",
       "    <tr>\n",
       "      <th>3</th>\n",
       "      <td>4.0</td>\n",
       "      <td>8.0</td>\n",
       "      <td>12.0</td>\n",
       "    </tr>\n",
       "  </tbody>\n",
       "</table>\n",
       "</div>"
      ],
      "text/plain": [
       "     A    B     C\n",
       "0  1.0  5.0   NaN\n",
       "1  2.0  NaN  -9.0\n",
       "2  NaN  7.0  11.0\n",
       "3  4.0  8.0  12.0"
      ]
     },
     "execution_count": 88,
     "metadata": {},
     "output_type": "execute_result"
    }
   ],
   "source": [
    "df.replace(10 , -9)"
   ]
  },
  {
   "cell_type": "code",
   "execution_count": 89,
   "id": "647fe58e-35d9-4352-b08c-fda7eda8c548",
   "metadata": {},
   "outputs": [
    {
     "data": {
      "text/html": [
       "<div>\n",
       "<style scoped>\n",
       "    .dataframe tbody tr th:only-of-type {\n",
       "        vertical-align: middle;\n",
       "    }\n",
       "\n",
       "    .dataframe tbody tr th {\n",
       "        vertical-align: top;\n",
       "    }\n",
       "\n",
       "    .dataframe thead th {\n",
       "        text-align: right;\n",
       "    }\n",
       "</style>\n",
       "<table border=\"1\" class=\"dataframe\">\n",
       "  <thead>\n",
       "    <tr style=\"text-align: right;\">\n",
       "      <th></th>\n",
       "      <th>A</th>\n",
       "      <th>B</th>\n",
       "      <th>C</th>\n",
       "    </tr>\n",
       "  </thead>\n",
       "  <tbody>\n",
       "    <tr>\n",
       "      <th>0</th>\n",
       "      <td>1.0</td>\n",
       "      <td>5.0</td>\n",
       "      <td>0.0</td>\n",
       "    </tr>\n",
       "    <tr>\n",
       "      <th>1</th>\n",
       "      <td>2.0</td>\n",
       "      <td>0.0</td>\n",
       "      <td>10.0</td>\n",
       "    </tr>\n",
       "    <tr>\n",
       "      <th>2</th>\n",
       "      <td>0.0</td>\n",
       "      <td>7.0</td>\n",
       "      <td>11.0</td>\n",
       "    </tr>\n",
       "    <tr>\n",
       "      <th>3</th>\n",
       "      <td>4.0</td>\n",
       "      <td>8.0</td>\n",
       "      <td>12.0</td>\n",
       "    </tr>\n",
       "  </tbody>\n",
       "</table>\n",
       "</div>"
      ],
      "text/plain": [
       "     A    B     C\n",
       "0  1.0  5.0   0.0\n",
       "1  2.0  0.0  10.0\n",
       "2  0.0  7.0  11.0\n",
       "3  4.0  8.0  12.0"
      ]
     },
     "execution_count": 89,
     "metadata": {},
     "output_type": "execute_result"
    }
   ],
   "source": [
    "df.replace(np.nan, 0)"
   ]
  },
  {
   "cell_type": "markdown",
   "id": "9dc0849f-509e-4c4c-8966-30b78b5a6414",
   "metadata": {},
   "source": [
    "### interpolate missing vlaues"
   ]
  },
  {
   "cell_type": "code",
   "execution_count": 90,
   "id": "3dada66e-206b-452f-bef7-3fb94f311850",
   "metadata": {},
   "outputs": [
    {
     "data": {
      "text/html": [
       "<div>\n",
       "<style scoped>\n",
       "    .dataframe tbody tr th:only-of-type {\n",
       "        vertical-align: middle;\n",
       "    }\n",
       "\n",
       "    .dataframe tbody tr th {\n",
       "        vertical-align: top;\n",
       "    }\n",
       "\n",
       "    .dataframe thead th {\n",
       "        text-align: right;\n",
       "    }\n",
       "</style>\n",
       "<table border=\"1\" class=\"dataframe\">\n",
       "  <thead>\n",
       "    <tr style=\"text-align: right;\">\n",
       "      <th></th>\n",
       "      <th>A</th>\n",
       "      <th>B</th>\n",
       "      <th>C</th>\n",
       "    </tr>\n",
       "  </thead>\n",
       "  <tbody>\n",
       "    <tr>\n",
       "      <th>0</th>\n",
       "      <td>1.0</td>\n",
       "      <td>5.0</td>\n",
       "      <td>NaN</td>\n",
       "    </tr>\n",
       "    <tr>\n",
       "      <th>1</th>\n",
       "      <td>2.0</td>\n",
       "      <td>6.0</td>\n",
       "      <td>10.0</td>\n",
       "    </tr>\n",
       "    <tr>\n",
       "      <th>2</th>\n",
       "      <td>3.0</td>\n",
       "      <td>7.0</td>\n",
       "      <td>11.0</td>\n",
       "    </tr>\n",
       "    <tr>\n",
       "      <th>3</th>\n",
       "      <td>4.0</td>\n",
       "      <td>8.0</td>\n",
       "      <td>12.0</td>\n",
       "    </tr>\n",
       "  </tbody>\n",
       "</table>\n",
       "</div>"
      ],
      "text/plain": [
       "     A    B     C\n",
       "0  1.0  5.0   NaN\n",
       "1  2.0  6.0  10.0\n",
       "2  3.0  7.0  11.0\n",
       "3  4.0  8.0  12.0"
      ]
     },
     "execution_count": 90,
     "metadata": {},
     "output_type": "execute_result"
    }
   ],
   "source": [
    "df.interpolate()"
   ]
  },
  {
   "cell_type": "markdown",
   "id": "babba6f7-684e-4366-9bb7-636cf43e03d8",
   "metadata": {},
   "source": [
    "### counting missing values:"
   ]
  },
  {
   "cell_type": "code",
   "execution_count": 112,
   "id": "0752fd85-032f-4624-942c-19fbc6db7dbb",
   "metadata": {},
   "outputs": [
    {
     "data": {
      "text/plain": [
       "Unnamed: 0     0\n",
       "case_id        0\n",
       "date_time      0\n",
       "customer_id    0\n",
       "channel        0\n",
       "reason         0\n",
       "dtype: int64"
      ]
     },
     "execution_count": 112,
     "metadata": {},
     "output_type": "execute_result"
    }
   ],
   "source": [
    "df.isnull().sum()"
   ]
  },
  {
   "cell_type": "code",
   "execution_count": null,
   "id": "8701d003-fc74-4368-bcfb-0edd96566018",
   "metadata": {},
   "outputs": [],
   "source": []
  },
  {
   "cell_type": "code",
   "execution_count": 113,
   "id": "dc01beb3-0b50-4c2f-9697-379b50da009f",
   "metadata": {},
   "outputs": [
    {
     "data": {
      "text/plain": [
       "0"
      ]
     },
     "execution_count": 113,
     "metadata": {},
     "output_type": "execute_result"
    }
   ],
   "source": [
    "df.isnull().sum().sum()# to count all the missing value present in dadtaframe"
   ]
  },
  {
   "cell_type": "code",
   "execution_count": 114,
   "id": "fa42ae29-9fb8-4c37-ac7c-33f2f600c3b2",
   "metadata": {},
   "outputs": [
    {
     "data": {
      "text/plain": [
       "Unnamed: 0     330512\n",
       "case_id        330512\n",
       "date_time      330512\n",
       "customer_id    330512\n",
       "channel        330512\n",
       "reason         330512\n",
       "dtype: int64"
      ]
     },
     "execution_count": 114,
     "metadata": {},
     "output_type": "execute_result"
    }
   ],
   "source": [
    "df.count()"
   ]
  },
  {
   "cell_type": "markdown",
   "id": "e87f2e81-7bed-4502-ae10-66590512a815",
   "metadata": {},
   "source": [
    "## iterating over rows and columns"
   ]
  },
  {
   "cell_type": "code",
   "execution_count": 115,
   "id": "1b592c94-9f5e-4005-af44-42080ebdd0a2",
   "metadata": {},
   "outputs": [],
   "source": [
    "data = {'A': [1, 2, 3],\n",
    "        'B': [4, 5, 6],\n",
    "        'C': [7, 8, 9]}\n",
    "\n",
    "df = pd.DataFrame(data)"
   ]
  },
  {
   "cell_type": "markdown",
   "id": "214bf2ee-9eca-479c-a87a-88f6bb23ebae",
   "metadata": {},
   "source": [
    "### using iterrows():"
   ]
  },
  {
   "cell_type": "code",
   "execution_count": 116,
   "id": "b0ef3c5c-3de2-44bb-9a41-f261e8331821",
   "metadata": {},
   "outputs": [
    {
     "name": "stdout",
     "output_type": "stream",
     "text": [
      "Row index: 0\n",
      "row data [1 4 7]\n",
      "single value 7\n",
      "b's value 4\n",
      "Row index: 1\n",
      "row data [2 5 8]\n",
      "single value 8\n",
      "b's value 5\n",
      "Row index: 2\n",
      "row data [3 6 9]\n",
      "single value 9\n",
      "b's value 6\n"
     ]
    }
   ],
   "source": [
    "for index, rows in df.iterrows():\n",
    "    print(f\"Row index: {index}\")\n",
    "    print(f\"row data {rows.values}\")\n",
    "    print(f\"single value {rows.iloc[2]}\")# to access specific column's row value in iterrows\n",
    "    print(f\"b's value {rows['B']}\")"
   ]
  },
  {
   "cell_type": "code",
   "execution_count": null,
   "id": "4faa9c5e-6dc2-40fb-8bf3-33c293dd3464",
   "metadata": {},
   "outputs": [],
   "source": []
  },
  {
   "cell_type": "code",
   "execution_count": null,
   "id": "e98a2eaa-c936-4f8c-92b1-dc807fde9f42",
   "metadata": {},
   "outputs": [],
   "source": []
  },
  {
   "cell_type": "code",
   "execution_count": 117,
   "id": "bb89a4b4-1f8f-49d5-aea5-8d486bc80d53",
   "metadata": {},
   "outputs": [
    {
     "name": "stdout",
     "output_type": "stream",
     "text": [
      "Row index: 0\n",
      "Row values: A    1\n",
      "B    4\n",
      "C    7\n",
      "Name: 0, dtype: int64\n",
      "Row index: 1\n",
      "Row values: A    2\n",
      "B    5\n",
      "C    8\n",
      "Name: 1, dtype: int64\n",
      "Row index: 2\n",
      "Row values: A    3\n",
      "B    6\n",
      "C    9\n",
      "Name: 2, dtype: int64\n"
     ]
    }
   ],
   "source": [
    "for index, row in df.iterrows():\n",
    "    print(f\"Row index: {index}\")\n",
    "    print(f\"Row values: {row}\")"
   ]
  },
  {
   "cell_type": "markdown",
   "id": "aa0f10be-f1f0-4b47-9565-324ae67bc881",
   "metadata": {},
   "source": [
    "### iterating over columns using iteritems:"
   ]
  },
  {
   "cell_type": "code",
   "execution_count": 118,
   "id": "f163bfcf-888a-4eb3-baf0-f5e429a50829",
   "metadata": {},
   "outputs": [
    {
     "name": "stdout",
     "output_type": "stream",
     "text": [
      "Column name: A\n",
      "Column values: 0    1\n",
      "1    2\n",
      "2    3\n",
      "Name: A, dtype: int64\n",
      "\n",
      "Column name: B\n",
      "Column values: 0    4\n",
      "1    5\n",
      "2    6\n",
      "Name: B, dtype: int64\n",
      "\n",
      "Column name: C\n",
      "Column values: 0    7\n",
      "1    8\n",
      "2    9\n",
      "Name: C, dtype: int64\n",
      "\n"
     ]
    }
   ],
   "source": [
    "for column_name, column_data in df.items():\n",
    "    print(f\"Column name: {column_name}\")\n",
    "    print(f\"Column values: {column_data}\\n\")"
   ]
  },
  {
   "cell_type": "code",
   "execution_count": 119,
   "id": "54f015e1-2cfc-4d52-8738-1738b2da367d",
   "metadata": {},
   "outputs": [
    {
     "name": "stdout",
     "output_type": "stream",
     "text": [
      "Column name: A\n",
      "Column values: [1 2 3]\n",
      "\n",
      "Column at first row: 2\n",
      "Column name: B\n",
      "Column values: [4 5 6]\n",
      "\n",
      "Column at first row: 5\n",
      "Column name: C\n",
      "Column values: [7 8 9]\n",
      "\n",
      "Column at first row: 8\n"
     ]
    }
   ],
   "source": [
    "for column_name, column_data in df.items():\n",
    "    print(f\"Column name: {column_name}\")\n",
    "    print(f\"Column values: {column_data.values}\\n\")\n",
    "    print(f\"Column at first row: {column_data[1]}\")# accessing specific rows column daata\n",
    "    "
   ]
  },
  {
   "cell_type": "markdown",
   "id": "6875d33e-2a37-44f8-a1ae-1734a81f5e4b",
   "metadata": {},
   "source": [
    "## pandas DataFrame/Series.head() method:\n",
    "The head() method in pandas is used to return the first n rows of a DataFrame or Series. It provides a convenient way to quickly inspect the beginning of a dataset or a subset of it.\n",
    "- by default head shows 5 vlauesa"
   ]
  },
  {
   "cell_type": "code",
   "execution_count": 120,
   "id": "14c7e15d-5ba3-4d1e-878f-f01e4376983d",
   "metadata": {},
   "outputs": [],
   "source": [
    "data = {'Name': ['John', 'Alice', 'Bob', 'Jane', 'Mike'],\n",
    "        'Age': [25, 30, 35, 28, 32],\n",
    "        'Country': ['USA', 'Canada', 'UK', 'Australia', 'Germany']}\n",
    "\n",
    "df = pd.DataFrame(data)"
   ]
  },
  {
   "cell_type": "code",
   "execution_count": 121,
   "id": "1f09250f-76ca-471c-ac03-4fffc4f31d16",
   "metadata": {},
   "outputs": [
    {
     "data": {
      "text/html": [
       "<div>\n",
       "<style scoped>\n",
       "    .dataframe tbody tr th:only-of-type {\n",
       "        vertical-align: middle;\n",
       "    }\n",
       "\n",
       "    .dataframe tbody tr th {\n",
       "        vertical-align: top;\n",
       "    }\n",
       "\n",
       "    .dataframe thead th {\n",
       "        text-align: right;\n",
       "    }\n",
       "</style>\n",
       "<table border=\"1\" class=\"dataframe\">\n",
       "  <thead>\n",
       "    <tr style=\"text-align: right;\">\n",
       "      <th></th>\n",
       "      <th>Name</th>\n",
       "      <th>Age</th>\n",
       "      <th>Country</th>\n",
       "    </tr>\n",
       "  </thead>\n",
       "  <tbody>\n",
       "    <tr>\n",
       "      <th>0</th>\n",
       "      <td>John</td>\n",
       "      <td>25</td>\n",
       "      <td>USA</td>\n",
       "    </tr>\n",
       "    <tr>\n",
       "      <th>1</th>\n",
       "      <td>Alice</td>\n",
       "      <td>30</td>\n",
       "      <td>Canada</td>\n",
       "    </tr>\n",
       "    <tr>\n",
       "      <th>2</th>\n",
       "      <td>Bob</td>\n",
       "      <td>35</td>\n",
       "      <td>UK</td>\n",
       "    </tr>\n",
       "  </tbody>\n",
       "</table>\n",
       "</div>"
      ],
      "text/plain": [
       "    Name  Age Country\n",
       "0   John   25     USA\n",
       "1  Alice   30  Canada\n",
       "2    Bob   35      UK"
      ]
     },
     "execution_count": 121,
     "metadata": {},
     "output_type": "execute_result"
    }
   ],
   "source": [
    "df.head(3)"
   ]
  },
  {
   "cell_type": "code",
   "execution_count": 122,
   "id": "7267a710-e487-42f4-a920-605bb782a984",
   "metadata": {},
   "outputs": [],
   "source": [
    "df = pd.read_csv('customer_cases.csv')"
   ]
  },
  {
   "cell_type": "code",
   "execution_count": 123,
   "id": "46f8739e-9b28-4549-8a7f-bc10e818250b",
   "metadata": {},
   "outputs": [
    {
     "data": {
      "text/html": [
       "<div>\n",
       "<style scoped>\n",
       "    .dataframe tbody tr th:only-of-type {\n",
       "        vertical-align: middle;\n",
       "    }\n",
       "\n",
       "    .dataframe tbody tr th {\n",
       "        vertical-align: top;\n",
       "    }\n",
       "\n",
       "    .dataframe thead th {\n",
       "        text-align: right;\n",
       "    }\n",
       "</style>\n",
       "<table border=\"1\" class=\"dataframe\">\n",
       "  <thead>\n",
       "    <tr style=\"text-align: right;\">\n",
       "      <th></th>\n",
       "      <th>Unnamed: 0</th>\n",
       "      <th>case_id</th>\n",
       "      <th>date_time</th>\n",
       "      <th>customer_id</th>\n",
       "      <th>channel</th>\n",
       "      <th>reason</th>\n",
       "    </tr>\n",
       "  </thead>\n",
       "  <tbody>\n",
       "    <tr>\n",
       "      <th>0</th>\n",
       "      <td>1</td>\n",
       "      <td>CC101</td>\n",
       "      <td>2017-01-01 10:32:03</td>\n",
       "      <td>C2448</td>\n",
       "      <td>phone</td>\n",
       "      <td>signup</td>\n",
       "    </tr>\n",
       "    <tr>\n",
       "      <th>1</th>\n",
       "      <td>2</td>\n",
       "      <td>CC102</td>\n",
       "      <td>2017-01-01 11:35:47</td>\n",
       "      <td>C2449</td>\n",
       "      <td>phone</td>\n",
       "      <td>signup</td>\n",
       "    </tr>\n",
       "    <tr>\n",
       "      <th>2</th>\n",
       "      <td>3</td>\n",
       "      <td>CC103</td>\n",
       "      <td>2017-01-01 11:37:09</td>\n",
       "      <td>C2450</td>\n",
       "      <td>phone</td>\n",
       "      <td>signup</td>\n",
       "    </tr>\n",
       "    <tr>\n",
       "      <th>3</th>\n",
       "      <td>4</td>\n",
       "      <td>CC104</td>\n",
       "      <td>2017-01-01 13:28:14</td>\n",
       "      <td>C2451</td>\n",
       "      <td>phone</td>\n",
       "      <td>signup</td>\n",
       "    </tr>\n",
       "    <tr>\n",
       "      <th>4</th>\n",
       "      <td>5</td>\n",
       "      <td>CC105</td>\n",
       "      <td>2017-01-01 13:52:22</td>\n",
       "      <td>C2452</td>\n",
       "      <td>phone</td>\n",
       "      <td>signup</td>\n",
       "    </tr>\n",
       "  </tbody>\n",
       "</table>\n",
       "</div>"
      ],
      "text/plain": [
       "   Unnamed: 0 case_id            date_time customer_id channel  reason\n",
       "0           1   CC101  2017-01-01 10:32:03       C2448   phone  signup\n",
       "1           2   CC102  2017-01-01 11:35:47       C2449   phone  signup\n",
       "2           3   CC103  2017-01-01 11:37:09       C2450   phone  signup\n",
       "3           4   CC104  2017-01-01 13:28:14       C2451   phone  signup\n",
       "4           5   CC105  2017-01-01 13:52:22       C2452   phone  signup"
      ]
     },
     "execution_count": 123,
     "metadata": {},
     "output_type": "execute_result"
    }
   ],
   "source": [
    "df.head()"
   ]
  },
  {
   "cell_type": "markdown",
   "id": "2ee8af16-dc65-417d-9caf-c2231deb24b7",
   "metadata": {},
   "source": [
    "## Dataframe/Series.tail() method:\n",
    "- the tail() method in pandas is used to return the last n rows of a Dataframe or series. It is similar to head() method, but it displays the end portions of the dataset"
   ]
  },
  {
   "cell_type": "code",
   "execution_count": 124,
   "id": "03ac5aa3-0cab-49b9-aa43-c472f7552d7b",
   "metadata": {},
   "outputs": [
    {
     "data": {
      "text/html": [
       "<div>\n",
       "<style scoped>\n",
       "    .dataframe tbody tr th:only-of-type {\n",
       "        vertical-align: middle;\n",
       "    }\n",
       "\n",
       "    .dataframe tbody tr th {\n",
       "        vertical-align: top;\n",
       "    }\n",
       "\n",
       "    .dataframe thead th {\n",
       "        text-align: right;\n",
       "    }\n",
       "</style>\n",
       "<table border=\"1\" class=\"dataframe\">\n",
       "  <thead>\n",
       "    <tr style=\"text-align: right;\">\n",
       "      <th></th>\n",
       "      <th>Unnamed: 0</th>\n",
       "      <th>case_id</th>\n",
       "      <th>date_time</th>\n",
       "      <th>customer_id</th>\n",
       "      <th>channel</th>\n",
       "      <th>reason</th>\n",
       "    </tr>\n",
       "  </thead>\n",
       "  <tbody>\n",
       "    <tr>\n",
       "      <th>330507</th>\n",
       "      <td>330508</td>\n",
       "      <td>CC330608</td>\n",
       "      <td>2021-12-31 19:16:28</td>\n",
       "      <td>C173079</td>\n",
       "      <td>email</td>\n",
       "      <td>support</td>\n",
       "    </tr>\n",
       "    <tr>\n",
       "      <th>330508</th>\n",
       "      <td>330509</td>\n",
       "      <td>CC330609</td>\n",
       "      <td>2021-12-31 19:36:42</td>\n",
       "      <td>C497581</td>\n",
       "      <td>email</td>\n",
       "      <td>support</td>\n",
       "    </tr>\n",
       "    <tr>\n",
       "      <th>330509</th>\n",
       "      <td>330510</td>\n",
       "      <td>CC330610</td>\n",
       "      <td>2021-12-31 20:30:02</td>\n",
       "      <td>C127630</td>\n",
       "      <td>email</td>\n",
       "      <td>support</td>\n",
       "    </tr>\n",
       "    <tr>\n",
       "      <th>330510</th>\n",
       "      <td>330511</td>\n",
       "      <td>CC330611</td>\n",
       "      <td>2021-12-31 21:30:00</td>\n",
       "      <td>C497538</td>\n",
       "      <td>email</td>\n",
       "      <td>support</td>\n",
       "    </tr>\n",
       "    <tr>\n",
       "      <th>330511</th>\n",
       "      <td>330512</td>\n",
       "      <td>CC330612</td>\n",
       "      <td>2022-01-01 06:32:53</td>\n",
       "      <td>C485032</td>\n",
       "      <td>phone</td>\n",
       "      <td>support</td>\n",
       "    </tr>\n",
       "  </tbody>\n",
       "</table>\n",
       "</div>"
      ],
      "text/plain": [
       "        Unnamed: 0   case_id            date_time customer_id channel   reason\n",
       "330507      330508  CC330608  2021-12-31 19:16:28     C173079   email  support\n",
       "330508      330509  CC330609  2021-12-31 19:36:42     C497581   email  support\n",
       "330509      330510  CC330610  2021-12-31 20:30:02     C127630   email  support\n",
       "330510      330511  CC330611  2021-12-31 21:30:00     C497538   email  support\n",
       "330511      330512  CC330612  2022-01-01 06:32:53     C485032   phone  support"
      ]
     },
     "execution_count": 124,
     "metadata": {},
     "output_type": "execute_result"
    }
   ],
   "source": [
    "df.tail()"
   ]
  },
  {
   "cell_type": "code",
   "execution_count": 125,
   "id": "f6885843-d67b-4a75-a812-543929cb5a67",
   "metadata": {},
   "outputs": [
    {
     "data": {
      "text/html": [
       "<div>\n",
       "<style scoped>\n",
       "    .dataframe tbody tr th:only-of-type {\n",
       "        vertical-align: middle;\n",
       "    }\n",
       "\n",
       "    .dataframe tbody tr th {\n",
       "        vertical-align: top;\n",
       "    }\n",
       "\n",
       "    .dataframe thead th {\n",
       "        text-align: right;\n",
       "    }\n",
       "</style>\n",
       "<table border=\"1\" class=\"dataframe\">\n",
       "  <thead>\n",
       "    <tr style=\"text-align: right;\">\n",
       "      <th></th>\n",
       "      <th>Unnamed: 0</th>\n",
       "      <th>case_id</th>\n",
       "      <th>date_time</th>\n",
       "      <th>customer_id</th>\n",
       "      <th>channel</th>\n",
       "      <th>reason</th>\n",
       "    </tr>\n",
       "  </thead>\n",
       "  <tbody>\n",
       "    <tr>\n",
       "      <th>330503</th>\n",
       "      <td>330504</td>\n",
       "      <td>CC330604</td>\n",
       "      <td>2021-12-31 18:20:30</td>\n",
       "      <td>C484812</td>\n",
       "      <td>email</td>\n",
       "      <td>support</td>\n",
       "    </tr>\n",
       "    <tr>\n",
       "      <th>330504</th>\n",
       "      <td>330505</td>\n",
       "      <td>CC330605</td>\n",
       "      <td>2021-12-31 18:54:44</td>\n",
       "      <td>C124076</td>\n",
       "      <td>email</td>\n",
       "      <td>support</td>\n",
       "    </tr>\n",
       "    <tr>\n",
       "      <th>330505</th>\n",
       "      <td>330506</td>\n",
       "      <td>CC330606</td>\n",
       "      <td>2021-12-31 19:09:10</td>\n",
       "      <td>C126469</td>\n",
       "      <td>email</td>\n",
       "      <td>support</td>\n",
       "    </tr>\n",
       "    <tr>\n",
       "      <th>330506</th>\n",
       "      <td>330507</td>\n",
       "      <td>CC330607</td>\n",
       "      <td>2021-12-31 19:11:01</td>\n",
       "      <td>C120740</td>\n",
       "      <td>email</td>\n",
       "      <td>support</td>\n",
       "    </tr>\n",
       "    <tr>\n",
       "      <th>330507</th>\n",
       "      <td>330508</td>\n",
       "      <td>CC330608</td>\n",
       "      <td>2021-12-31 19:16:28</td>\n",
       "      <td>C173079</td>\n",
       "      <td>email</td>\n",
       "      <td>support</td>\n",
       "    </tr>\n",
       "    <tr>\n",
       "      <th>330508</th>\n",
       "      <td>330509</td>\n",
       "      <td>CC330609</td>\n",
       "      <td>2021-12-31 19:36:42</td>\n",
       "      <td>C497581</td>\n",
       "      <td>email</td>\n",
       "      <td>support</td>\n",
       "    </tr>\n",
       "    <tr>\n",
       "      <th>330509</th>\n",
       "      <td>330510</td>\n",
       "      <td>CC330610</td>\n",
       "      <td>2021-12-31 20:30:02</td>\n",
       "      <td>C127630</td>\n",
       "      <td>email</td>\n",
       "      <td>support</td>\n",
       "    </tr>\n",
       "    <tr>\n",
       "      <th>330510</th>\n",
       "      <td>330511</td>\n",
       "      <td>CC330611</td>\n",
       "      <td>2021-12-31 21:30:00</td>\n",
       "      <td>C497538</td>\n",
       "      <td>email</td>\n",
       "      <td>support</td>\n",
       "    </tr>\n",
       "    <tr>\n",
       "      <th>330511</th>\n",
       "      <td>330512</td>\n",
       "      <td>CC330612</td>\n",
       "      <td>2022-01-01 06:32:53</td>\n",
       "      <td>C485032</td>\n",
       "      <td>phone</td>\n",
       "      <td>support</td>\n",
       "    </tr>\n",
       "  </tbody>\n",
       "</table>\n",
       "</div>"
      ],
      "text/plain": [
       "        Unnamed: 0   case_id            date_time customer_id channel   reason\n",
       "330503      330504  CC330604  2021-12-31 18:20:30     C484812   email  support\n",
       "330504      330505  CC330605  2021-12-31 18:54:44     C124076   email  support\n",
       "330505      330506  CC330606  2021-12-31 19:09:10     C126469   email  support\n",
       "330506      330507  CC330607  2021-12-31 19:11:01     C120740   email  support\n",
       "330507      330508  CC330608  2021-12-31 19:16:28     C173079   email  support\n",
       "330508      330509  CC330609  2021-12-31 19:36:42     C497581   email  support\n",
       "330509      330510  CC330610  2021-12-31 20:30:02     C127630   email  support\n",
       "330510      330511  CC330611  2021-12-31 21:30:00     C497538   email  support\n",
       "330511      330512  CC330612  2022-01-01 06:32:53     C485032   phone  support"
      ]
     },
     "execution_count": 125,
     "metadata": {},
     "output_type": "execute_result"
    }
   ],
   "source": [
    "df.tail(9)"
   ]
  },
  {
   "cell_type": "markdown",
   "id": "d91a4c8c-3f25-40c7-9c45-cf2d4dbf9f24",
   "metadata": {},
   "source": [
    "## pandas Dataframe.to_numpy()\n",
    "  to_numpy() method in pandas is used to convert a DataFrame to its underlying NumPy array representation. It returns a NumPy array containing the values from the DataFrame."
   ]
  },
  {
   "cell_type": "code",
   "execution_count": 126,
   "id": "1dd18280-cec1-47c5-b37f-de59e0996cd6",
   "metadata": {},
   "outputs": [
    {
     "name": "stdout",
     "output_type": "stream",
     "text": [
      "[['John' 25 'USA']\n",
      " ['Alice' 30 'Canada']\n",
      " ['Bob' 35 'UK']]\n"
     ]
    }
   ],
   "source": [
    "data = {'Name': ['John', 'Alice', 'Bob'],\n",
    "        'Age': [25, 30, 35],\n",
    "        'Country': ['USA', 'Canada', 'UK']}\n",
    "\n",
    "df = pd.DataFrame(data)\n",
    "\n",
    "# Convert DataFrame to NumPy array\n",
    "numpy_array = df.to_numpy()\n",
    "\n",
    "print(numpy_array)"
   ]
  },
  {
   "cell_type": "code",
   "execution_count": 127,
   "id": "e6f3ad5a-3827-4c34-bf41-7d47ad9fef63",
   "metadata": {},
   "outputs": [
    {
     "data": {
      "text/html": [
       "<div>\n",
       "<style scoped>\n",
       "    .dataframe tbody tr th:only-of-type {\n",
       "        vertical-align: middle;\n",
       "    }\n",
       "\n",
       "    .dataframe tbody tr th {\n",
       "        vertical-align: top;\n",
       "    }\n",
       "\n",
       "    .dataframe thead th {\n",
       "        text-align: right;\n",
       "    }\n",
       "</style>\n",
       "<table border=\"1\" class=\"dataframe\">\n",
       "  <thead>\n",
       "    <tr style=\"text-align: right;\">\n",
       "      <th></th>\n",
       "      <th>name</th>\n",
       "      <th>age</th>\n",
       "      <th>countary</th>\n",
       "    </tr>\n",
       "  </thead>\n",
       "  <tbody>\n",
       "    <tr>\n",
       "      <th>0</th>\n",
       "      <td>John</td>\n",
       "      <td>25</td>\n",
       "      <td>USA</td>\n",
       "    </tr>\n",
       "    <tr>\n",
       "      <th>1</th>\n",
       "      <td>Alice</td>\n",
       "      <td>30</td>\n",
       "      <td>Canada</td>\n",
       "    </tr>\n",
       "    <tr>\n",
       "      <th>2</th>\n",
       "      <td>Bob</td>\n",
       "      <td>35</td>\n",
       "      <td>UK</td>\n",
       "    </tr>\n",
       "  </tbody>\n",
       "</table>\n",
       "</div>"
      ],
      "text/plain": [
       "    name age countary\n",
       "0   John  25      USA\n",
       "1  Alice  30   Canada\n",
       "2    Bob  35       UK"
      ]
     },
     "execution_count": 127,
     "metadata": {},
     "output_type": "execute_result"
    }
   ],
   "source": [
    "df = pd.DataFrame(numpy_array,[0,1,2], ['name', 'age', 'countary'])\n",
    "df"
   ]
  },
  {
   "cell_type": "markdown",
   "id": "1801c648-7425-4b1e-adcb-3555d0c4c4ba",
   "metadata": {},
   "source": [
    "## pandas DataFrame.describe() method\n",
    "The describe() method in pandas is used to generate descriptive statistics of a DataFrame. It provides a summary of the central tendency, dispersion, and shape of the distribution of numerical columns in the DataFrame."
   ]
  },
  {
   "cell_type": "code",
   "execution_count": 128,
   "id": "5469b011-a70d-4f8b-905f-8bd6d3385a3c",
   "metadata": {},
   "outputs": [
    {
     "name": "stdout",
     "output_type": "stream",
     "text": [
      "             Age       Salary\n",
      "count   5.000000      5.00000\n",
      "mean   30.000000  60000.00000\n",
      "std     3.807887   7905.69415\n",
      "min    25.000000  50000.00000\n",
      "25%    28.000000  55000.00000\n",
      "50%    30.000000  60000.00000\n",
      "75%    32.000000  65000.00000\n",
      "max    35.000000  70000.00000\n"
     ]
    }
   ],
   "source": [
    "data = {'Name': ['John', 'Alice', 'Bob', 'Jane', 'Mike'],\n",
    "        'Age': [25, 30, 35, 28, 32],\n",
    "        'Salary': [50000, 60000, 70000, 55000, 65000]}\n",
    "\n",
    "df = pd.DataFrame(data)\n",
    "\n",
    "# Generate descriptive statistics of the DataFrame\n",
    "description = df.describe()\n",
    "\n",
    "print(description)"
   ]
  },
  {
   "cell_type": "markdown",
   "id": "aa2acf2d-f76b-4327-b9e5-b114845db16e",
   "metadata": {},
   "source": [
    "## pandas Series.to_numpy():\n",
    "The Series.to_numpy() method in Pandas is used to convert a Pandas series object into a NumPy array.\n",
    "\n",
    "The method returns a one-dimensional NumPy array that contains the same data as the Pandas series. This can be useful for performing numerical computations using the powerful tools available in NumPy."
   ]
  },
  {
   "cell_type": "code",
   "execution_count": 129,
   "id": "f18ec3d4-bb2d-42e5-9d16-6f3c22368953",
   "metadata": {},
   "outputs": [
    {
     "data": {
      "text/plain": [
       "array([1, 2, 3, 4, 5, 6])"
      ]
     },
     "execution_count": 129,
     "metadata": {},
     "output_type": "execute_result"
    }
   ],
   "source": [
    "sr = pd.Series([1,2,3,4,5,6])\n",
    "sr.to_numpy()"
   ]
  },
  {
   "cell_type": "code",
   "execution_count": 130,
   "id": "478c492b-913f-4ba0-a28c-a3be1026c474",
   "metadata": {},
   "outputs": [
    {
     "data": {
      "text/plain": [
       "array([1, 2, 3, 4, 5, 6])"
      ]
     },
     "execution_count": 130,
     "metadata": {},
     "output_type": "execute_result"
    }
   ],
   "source": [
    "sr.values"
   ]
  },
  {
   "cell_type": "markdown",
   "id": "3f6123d5-66d8-4a87-b816-030fcd8c4ab1",
   "metadata": {},
   "source": [
    "## dealing with rows and columns in panda dadtaframe:\n",
    "\n",
    "Pandas is a powerful library in Python for data manipulation and analysis. It provides a DataFrame object, which is a two-dimensional labeled data structure similar to a table or spreadsheet. In Pandas, you can deal with rows and columns in a DataFrame using various operations."
   ]
  },
  {
   "cell_type": "markdown",
   "id": "1fac61ce-b31e-47e7-b22d-d5caeb343b4b",
   "metadata": {},
   "source": [
    "### dealing with columns\n",
    "\n",
    "Dealing with columns in a Pandas DataFrame involves various operations such as accessing columns, renaming columns, adding new columns, deleting columns, and performing calculations on columns."
   ]
  },
  {
   "cell_type": "markdown",
   "id": "770684a7-9c72-4380-a48d-afee7592307a",
   "metadata": {},
   "source": [
    "#### accessing columns:\n",
    "To access a specific column in a DataFrame, you can use the indexing operator [] with the column name as a string. For example, if you have a DataFrame called df and you want to access the column \"column_name\", you can use df[\"column_name\"]. This will return a Series object containing the values of that column."
   ]
  },
  {
   "cell_type": "code",
   "execution_count": 131,
   "id": "66720a73-f1d8-426c-956b-cd5be5f8b065",
   "metadata": {},
   "outputs": [
    {
     "data": {
      "text/plain": [
       "0    25\n",
       "1    28\n",
       "2    32\n",
       "Name: Age, dtype: int64"
      ]
     },
     "execution_count": 131,
     "metadata": {},
     "output_type": "execute_result"
    }
   ],
   "source": [
    "data = {\n",
    "    \"Name\": [\"John\", \"Emma\", \"Ryan\"],\n",
    "    \"Age\": [25, 28, 32],\n",
    "    \"City\": [\"New York\", \"Paris\", \"London\"]\n",
    "}\n",
    "df = pd.DataFrame(data)\n",
    "# now to access specific columns for example in above df to access age:\n",
    "df['Age']"
   ]
  },
  {
   "cell_type": "code",
   "execution_count": 132,
   "id": "6a2cbc49-0cc7-4b6f-a377-1d008a5ee364",
   "metadata": {},
   "outputs": [
    {
     "data": {
      "text/html": [
       "<div>\n",
       "<style scoped>\n",
       "    .dataframe tbody tr th:only-of-type {\n",
       "        vertical-align: middle;\n",
       "    }\n",
       "\n",
       "    .dataframe tbody tr th {\n",
       "        vertical-align: top;\n",
       "    }\n",
       "\n",
       "    .dataframe thead th {\n",
       "        text-align: right;\n",
       "    }\n",
       "</style>\n",
       "<table border=\"1\" class=\"dataframe\">\n",
       "  <thead>\n",
       "    <tr style=\"text-align: right;\">\n",
       "      <th></th>\n",
       "      <th>Age</th>\n",
       "      <th>Name</th>\n",
       "    </tr>\n",
       "  </thead>\n",
       "  <tbody>\n",
       "    <tr>\n",
       "      <th>0</th>\n",
       "      <td>25</td>\n",
       "      <td>John</td>\n",
       "    </tr>\n",
       "    <tr>\n",
       "      <th>1</th>\n",
       "      <td>28</td>\n",
       "      <td>Emma</td>\n",
       "    </tr>\n",
       "    <tr>\n",
       "      <th>2</th>\n",
       "      <td>32</td>\n",
       "      <td>Ryan</td>\n",
       "    </tr>\n",
       "  </tbody>\n",
       "</table>\n",
       "</div>"
      ],
      "text/plain": [
       "   Age  Name\n",
       "0   25  John\n",
       "1   28  Emma\n",
       "2   32  Ryan"
      ]
     },
     "execution_count": 132,
     "metadata": {},
     "output_type": "execute_result"
    }
   ],
   "source": [
    "# to access multiplw columns:\n",
    "df[['Age','Name']]"
   ]
  },
  {
   "cell_type": "markdown",
   "id": "2cbf8905-e8f0-4db4-94a6-86c018e7c16b",
   "metadata": {},
   "source": [
    "#### to raname columns:\n",
    "To rename a column in a DataFrame, you can use the rename() method. It allows you to provide a dictionary where the keys represent the current column names, and the values represent the new column names. For example, df = df.rename(columns={\"old_name\": \"new_name\"}) will rename the column \"old_name\" to \"new_name\" in the DataFrame.\n",
    "\n",
    "- we can also renaem index using this method"
   ]
  },
  {
   "cell_type": "code",
   "execution_count": 133,
   "id": "c4c3e6bd-e8f1-43c3-ba43-3cd86126e8dd",
   "metadata": {},
   "outputs": [
    {
     "data": {
      "text/html": [
       "<div>\n",
       "<style scoped>\n",
       "    .dataframe tbody tr th:only-of-type {\n",
       "        vertical-align: middle;\n",
       "    }\n",
       "\n",
       "    .dataframe tbody tr th {\n",
       "        vertical-align: top;\n",
       "    }\n",
       "\n",
       "    .dataframe thead th {\n",
       "        text-align: right;\n",
       "    }\n",
       "</style>\n",
       "<table border=\"1\" class=\"dataframe\">\n",
       "  <thead>\n",
       "    <tr style=\"text-align: right;\">\n",
       "      <th></th>\n",
       "      <th>Name</th>\n",
       "      <th>ame</th>\n",
       "      <th>City</th>\n",
       "    </tr>\n",
       "  </thead>\n",
       "  <tbody>\n",
       "    <tr>\n",
       "      <th>0</th>\n",
       "      <td>John</td>\n",
       "      <td>25</td>\n",
       "      <td>New York</td>\n",
       "    </tr>\n",
       "    <tr>\n",
       "      <th>1</th>\n",
       "      <td>Emma</td>\n",
       "      <td>28</td>\n",
       "      <td>Paris</td>\n",
       "    </tr>\n",
       "    <tr>\n",
       "      <th>2</th>\n",
       "      <td>Ryan</td>\n",
       "      <td>32</td>\n",
       "      <td>London</td>\n",
       "    </tr>\n",
       "  </tbody>\n",
       "</table>\n",
       "</div>"
      ],
      "text/plain": [
       "   Name  ame      City\n",
       "0  John   25  New York\n",
       "1  Emma   28     Paris\n",
       "2  Ryan   32    London"
      ]
     },
     "execution_count": 133,
     "metadata": {},
     "output_type": "execute_result"
    }
   ],
   "source": [
    "df.rename(columns={'Age': 'ame'})"
   ]
  },
  {
   "cell_type": "code",
   "execution_count": 134,
   "id": "2b01f722-7ee4-4f76-80db-bdecc4e80c0e",
   "metadata": {},
   "outputs": [
    {
     "data": {
      "text/html": [
       "<div>\n",
       "<style scoped>\n",
       "    .dataframe tbody tr th:only-of-type {\n",
       "        vertical-align: middle;\n",
       "    }\n",
       "\n",
       "    .dataframe tbody tr th {\n",
       "        vertical-align: top;\n",
       "    }\n",
       "\n",
       "    .dataframe thead th {\n",
       "        text-align: right;\n",
       "    }\n",
       "</style>\n",
       "<table border=\"1\" class=\"dataframe\">\n",
       "  <thead>\n",
       "    <tr style=\"text-align: right;\">\n",
       "      <th></th>\n",
       "      <th>Name</th>\n",
       "      <th>Age</th>\n",
       "      <th>City</th>\n",
       "    </tr>\n",
       "  </thead>\n",
       "  <tbody>\n",
       "    <tr>\n",
       "      <th>9</th>\n",
       "      <td>John</td>\n",
       "      <td>25</td>\n",
       "      <td>New York</td>\n",
       "    </tr>\n",
       "    <tr>\n",
       "      <th>10</th>\n",
       "      <td>Emma</td>\n",
       "      <td>28</td>\n",
       "      <td>Paris</td>\n",
       "    </tr>\n",
       "    <tr>\n",
       "      <th>2</th>\n",
       "      <td>Ryan</td>\n",
       "      <td>32</td>\n",
       "      <td>London</td>\n",
       "    </tr>\n",
       "  </tbody>\n",
       "</table>\n",
       "</div>"
      ],
      "text/plain": [
       "    Name  Age      City\n",
       "9   John   25  New York\n",
       "10  Emma   28     Paris\n",
       "2   Ryan   32    London"
      ]
     },
     "execution_count": 134,
     "metadata": {},
     "output_type": "execute_result"
    }
   ],
   "source": [
    "df.rename(index={0:9, 1:10})"
   ]
  },
  {
   "cell_type": "code",
   "execution_count": 135,
   "id": "09f8b1fd-7319-4e09-8a09-ac30903d926f",
   "metadata": {},
   "outputs": [
    {
     "data": {
      "text/html": [
       "<div>\n",
       "<style scoped>\n",
       "    .dataframe tbody tr th:only-of-type {\n",
       "        vertical-align: middle;\n",
       "    }\n",
       "\n",
       "    .dataframe tbody tr th {\n",
       "        vertical-align: top;\n",
       "    }\n",
       "\n",
       "    .dataframe thead th {\n",
       "        text-align: right;\n",
       "    }\n",
       "</style>\n",
       "<table border=\"1\" class=\"dataframe\">\n",
       "  <thead>\n",
       "    <tr style=\"text-align: right;\">\n",
       "      <th></th>\n",
       "      <th>name</th>\n",
       "      <th>age</th>\n",
       "      <th>City</th>\n",
       "    </tr>\n",
       "  </thead>\n",
       "  <tbody>\n",
       "    <tr>\n",
       "      <th>0</th>\n",
       "      <td>John</td>\n",
       "      <td>25</td>\n",
       "      <td>New York</td>\n",
       "    </tr>\n",
       "    <tr>\n",
       "      <th>1</th>\n",
       "      <td>Emma</td>\n",
       "      <td>28</td>\n",
       "      <td>Paris</td>\n",
       "    </tr>\n",
       "    <tr>\n",
       "      <th>2</th>\n",
       "      <td>Ryan</td>\n",
       "      <td>32</td>\n",
       "      <td>London</td>\n",
       "    </tr>\n",
       "  </tbody>\n",
       "</table>\n",
       "</div>"
      ],
      "text/plain": [
       "   name  age      City\n",
       "0  John   25  New York\n",
       "1  Emma   28     Paris\n",
       "2  Ryan   32    London"
      ]
     },
     "execution_count": 135,
     "metadata": {},
     "output_type": "execute_result"
    }
   ],
   "source": [
    "df.rename(columns = {'Name':'name', 'Age':'age'})"
   ]
  },
  {
   "cell_type": "markdown",
   "id": "281cf49f-bf54-4167-a866-5d81a9145c71",
   "metadata": {},
   "source": [
    "### adding new columns:\n",
    "To add a new column to a DataFrame, you can assign a new Series or an array to a new column name. For example, **df[\"new_column\"] = [1, 2, 3, 4]** will add a new column called \"new_column\" to the DataFrame and populate it with the provided values."
   ]
  },
  {
   "cell_type": "code",
   "execution_count": 136,
   "id": "e6543bde-47c4-44d2-890c-1071e823b188",
   "metadata": {},
   "outputs": [],
   "source": [
    "df['ada'] = [2,3,4]"
   ]
  },
  {
   "cell_type": "code",
   "execution_count": 137,
   "id": "47f6bdc5-4edc-4051-a86a-1aa214f3b257",
   "metadata": {},
   "outputs": [
    {
     "data": {
      "text/html": [
       "<div>\n",
       "<style scoped>\n",
       "    .dataframe tbody tr th:only-of-type {\n",
       "        vertical-align: middle;\n",
       "    }\n",
       "\n",
       "    .dataframe tbody tr th {\n",
       "        vertical-align: top;\n",
       "    }\n",
       "\n",
       "    .dataframe thead th {\n",
       "        text-align: right;\n",
       "    }\n",
       "</style>\n",
       "<table border=\"1\" class=\"dataframe\">\n",
       "  <thead>\n",
       "    <tr style=\"text-align: right;\">\n",
       "      <th></th>\n",
       "      <th>Name</th>\n",
       "      <th>Age</th>\n",
       "      <th>City</th>\n",
       "      <th>ada</th>\n",
       "    </tr>\n",
       "  </thead>\n",
       "  <tbody>\n",
       "    <tr>\n",
       "      <th>0</th>\n",
       "      <td>John</td>\n",
       "      <td>25</td>\n",
       "      <td>New York</td>\n",
       "      <td>2</td>\n",
       "    </tr>\n",
       "    <tr>\n",
       "      <th>1</th>\n",
       "      <td>Emma</td>\n",
       "      <td>28</td>\n",
       "      <td>Paris</td>\n",
       "      <td>3</td>\n",
       "    </tr>\n",
       "    <tr>\n",
       "      <th>2</th>\n",
       "      <td>Ryan</td>\n",
       "      <td>32</td>\n",
       "      <td>London</td>\n",
       "      <td>4</td>\n",
       "    </tr>\n",
       "  </tbody>\n",
       "</table>\n",
       "</div>"
      ],
      "text/plain": [
       "   Name  Age      City  ada\n",
       "0  John   25  New York    2\n",
       "1  Emma   28     Paris    3\n",
       "2  Ryan   32    London    4"
      ]
     },
     "execution_count": 137,
     "metadata": {},
     "output_type": "execute_result"
    }
   ],
   "source": [
    "df\n"
   ]
  },
  {
   "cell_type": "markdown",
   "id": "f49fbfab-a621-4e47-bb6b-21ee2edb3431",
   "metadata": {},
   "source": [
    "#### the other method to add columns is insert(a, b ,c) method\n",
    "where a is index of coluns wheere u want to insert it and b is name of column and c is the values that eill be filled in column"
   ]
  },
  {
   "cell_type": "code",
   "execution_count": 138,
   "id": "274469e3-6784-4864-9fb6-f3c11e06a1b4",
   "metadata": {},
   "outputs": [],
   "source": [
    "df.insert(2,'adore', [4,5,6])"
   ]
  },
  {
   "cell_type": "code",
   "execution_count": 139,
   "id": "2a7d31a3-bbe6-4554-8c5c-247495503aa8",
   "metadata": {},
   "outputs": [
    {
     "data": {
      "text/html": [
       "<div>\n",
       "<style scoped>\n",
       "    .dataframe tbody tr th:only-of-type {\n",
       "        vertical-align: middle;\n",
       "    }\n",
       "\n",
       "    .dataframe tbody tr th {\n",
       "        vertical-align: top;\n",
       "    }\n",
       "\n",
       "    .dataframe thead th {\n",
       "        text-align: right;\n",
       "    }\n",
       "</style>\n",
       "<table border=\"1\" class=\"dataframe\">\n",
       "  <thead>\n",
       "    <tr style=\"text-align: right;\">\n",
       "      <th></th>\n",
       "      <th>Name</th>\n",
       "      <th>Age</th>\n",
       "      <th>adore</th>\n",
       "      <th>City</th>\n",
       "      <th>ada</th>\n",
       "    </tr>\n",
       "  </thead>\n",
       "  <tbody>\n",
       "    <tr>\n",
       "      <th>0</th>\n",
       "      <td>John</td>\n",
       "      <td>25</td>\n",
       "      <td>4</td>\n",
       "      <td>New York</td>\n",
       "      <td>2</td>\n",
       "    </tr>\n",
       "    <tr>\n",
       "      <th>1</th>\n",
       "      <td>Emma</td>\n",
       "      <td>28</td>\n",
       "      <td>5</td>\n",
       "      <td>Paris</td>\n",
       "      <td>3</td>\n",
       "    </tr>\n",
       "    <tr>\n",
       "      <th>2</th>\n",
       "      <td>Ryan</td>\n",
       "      <td>32</td>\n",
       "      <td>6</td>\n",
       "      <td>London</td>\n",
       "      <td>4</td>\n",
       "    </tr>\n",
       "  </tbody>\n",
       "</table>\n",
       "</div>"
      ],
      "text/plain": [
       "   Name  Age  adore      City  ada\n",
       "0  John   25      4  New York    2\n",
       "1  Emma   28      5     Paris    3\n",
       "2  Ryan   32      6    London    4"
      ]
     },
     "execution_count": 139,
     "metadata": {},
     "output_type": "execute_result"
    }
   ],
   "source": [
    "df"
   ]
  },
  {
   "cell_type": "markdown",
   "id": "1fb6a157-9376-4b73-b1a1-3269d376b1c7",
   "metadata": {},
   "source": [
    "### to delete the columns in df:\n",
    "To delete a column from a DataFrame, you can use the drop() function. For example, df = df.drop(\"column_name\", axis=1) will remove the column named \"column_name\" from the DataFrame. The axis=1 parameter specifies that you are dropping a column.\n",
    "\n",
    "- can also drop rows using drop"
   ]
  },
  {
   "cell_type": "code",
   "execution_count": 140,
   "id": "4aecc371-7dd0-423e-bc02-98cfe5b5097c",
   "metadata": {},
   "outputs": [
    {
     "data": {
      "text/html": [
       "<div>\n",
       "<style scoped>\n",
       "    .dataframe tbody tr th:only-of-type {\n",
       "        vertical-align: middle;\n",
       "    }\n",
       "\n",
       "    .dataframe tbody tr th {\n",
       "        vertical-align: top;\n",
       "    }\n",
       "\n",
       "    .dataframe thead th {\n",
       "        text-align: right;\n",
       "    }\n",
       "</style>\n",
       "<table border=\"1\" class=\"dataframe\">\n",
       "  <thead>\n",
       "    <tr style=\"text-align: right;\">\n",
       "      <th></th>\n",
       "      <th>Name</th>\n",
       "      <th>Age</th>\n",
       "      <th>adore</th>\n",
       "      <th>City</th>\n",
       "    </tr>\n",
       "  </thead>\n",
       "  <tbody>\n",
       "    <tr>\n",
       "      <th>0</th>\n",
       "      <td>John</td>\n",
       "      <td>25</td>\n",
       "      <td>4</td>\n",
       "      <td>New York</td>\n",
       "    </tr>\n",
       "    <tr>\n",
       "      <th>1</th>\n",
       "      <td>Emma</td>\n",
       "      <td>28</td>\n",
       "      <td>5</td>\n",
       "      <td>Paris</td>\n",
       "    </tr>\n",
       "    <tr>\n",
       "      <th>2</th>\n",
       "      <td>Ryan</td>\n",
       "      <td>32</td>\n",
       "      <td>6</td>\n",
       "      <td>London</td>\n",
       "    </tr>\n",
       "  </tbody>\n",
       "</table>\n",
       "</div>"
      ],
      "text/plain": [
       "   Name  Age  adore      City\n",
       "0  John   25      4  New York\n",
       "1  Emma   28      5     Paris\n",
       "2  Ryan   32      6    London"
      ]
     },
     "execution_count": 140,
     "metadata": {},
     "output_type": "execute_result"
    }
   ],
   "source": [
    "df.drop('ada', axis = 1)"
   ]
  },
  {
   "cell_type": "code",
   "execution_count": 145,
   "id": "97d52f72-c0e4-4ccf-801b-3bc6723382d2",
   "metadata": {},
   "outputs": [
    {
     "data": {
      "text/html": [
       "<div>\n",
       "<style scoped>\n",
       "    .dataframe tbody tr th:only-of-type {\n",
       "        vertical-align: middle;\n",
       "    }\n",
       "\n",
       "    .dataframe tbody tr th {\n",
       "        vertical-align: top;\n",
       "    }\n",
       "\n",
       "    .dataframe thead th {\n",
       "        text-align: right;\n",
       "    }\n",
       "</style>\n",
       "<table border=\"1\" class=\"dataframe\">\n",
       "  <thead>\n",
       "    <tr style=\"text-align: right;\">\n",
       "      <th></th>\n",
       "      <th>Name</th>\n",
       "      <th>Age</th>\n",
       "      <th>City</th>\n",
       "      <th>ada</th>\n",
       "      <th>sum</th>\n",
       "    </tr>\n",
       "  </thead>\n",
       "  <tbody>\n",
       "    <tr>\n",
       "      <th>0</th>\n",
       "      <td>John</td>\n",
       "      <td>25</td>\n",
       "      <td>New York</td>\n",
       "      <td>2</td>\n",
       "      <td>27</td>\n",
       "    </tr>\n",
       "    <tr>\n",
       "      <th>1</th>\n",
       "      <td>Emma</td>\n",
       "      <td>28</td>\n",
       "      <td>Paris</td>\n",
       "      <td>3</td>\n",
       "      <td>31</td>\n",
       "    </tr>\n",
       "    <tr>\n",
       "      <th>2</th>\n",
       "      <td>Ryan</td>\n",
       "      <td>32</td>\n",
       "      <td>London</td>\n",
       "      <td>4</td>\n",
       "      <td>36</td>\n",
       "    </tr>\n",
       "  </tbody>\n",
       "</table>\n",
       "</div>"
      ],
      "text/plain": [
       "   Name  Age      City  ada  sum\n",
       "0  John   25  New York    2   27\n",
       "1  Emma   28     Paris    3   31\n",
       "2  Ryan   32    London    4   36"
      ]
     },
     "execution_count": 145,
     "metadata": {},
     "output_type": "execute_result"
    }
   ],
   "source": [
    "df.drop('adore', axis = 1)"
   ]
  },
  {
   "cell_type": "code",
   "execution_count": 141,
   "id": "3c08332b-a0cc-4716-a375-d1cf9c51a9de",
   "metadata": {},
   "outputs": [
    {
     "data": {
      "text/html": [
       "<div>\n",
       "<style scoped>\n",
       "    .dataframe tbody tr th:only-of-type {\n",
       "        vertical-align: middle;\n",
       "    }\n",
       "\n",
       "    .dataframe tbody tr th {\n",
       "        vertical-align: top;\n",
       "    }\n",
       "\n",
       "    .dataframe thead th {\n",
       "        text-align: right;\n",
       "    }\n",
       "</style>\n",
       "<table border=\"1\" class=\"dataframe\">\n",
       "  <thead>\n",
       "    <tr style=\"text-align: right;\">\n",
       "      <th></th>\n",
       "      <th>Name</th>\n",
       "      <th>Age</th>\n",
       "      <th>adore</th>\n",
       "      <th>City</th>\n",
       "      <th>ada</th>\n",
       "    </tr>\n",
       "  </thead>\n",
       "  <tbody>\n",
       "    <tr>\n",
       "      <th>1</th>\n",
       "      <td>Emma</td>\n",
       "      <td>28</td>\n",
       "      <td>5</td>\n",
       "      <td>Paris</td>\n",
       "      <td>3</td>\n",
       "    </tr>\n",
       "    <tr>\n",
       "      <th>2</th>\n",
       "      <td>Ryan</td>\n",
       "      <td>32</td>\n",
       "      <td>6</td>\n",
       "      <td>London</td>\n",
       "      <td>4</td>\n",
       "    </tr>\n",
       "  </tbody>\n",
       "</table>\n",
       "</div>"
      ],
      "text/plain": [
       "   Name  Age  adore    City  ada\n",
       "1  Emma   28      5   Paris    3\n",
       "2  Ryan   32      6  London    4"
      ]
     },
     "execution_count": 141,
     "metadata": {},
     "output_type": "execute_result"
    }
   ],
   "source": [
    "# to drop the rows \n",
    "df.drop(0)"
   ]
  },
  {
   "cell_type": "markdown",
   "id": "381b02a0-b8ba-489f-b61c-e875e6c8eb18",
   "metadata": {},
   "source": [
    "### calculaations on columns:\n",
    "You can perform calculations on columns using arithmetic operators. For example, if you have two columns \"column1\" and \"column2\" in a DataFrame, you can create a new column \"sum_column\" that contains the sum of the two columns using the following syntax: df[\"sum_column\"] = df[\"column1\"] + df[\"column2\"]. Similarly, you can use other arithmetic operators like subtraction (-), multiplication (*), and division (/) to perform calculations on columns."
   ]
  },
  {
   "cell_type": "code",
   "execution_count": 142,
   "id": "e1afc6ea-c6c9-4246-9d90-f385021daedf",
   "metadata": {},
   "outputs": [],
   "source": [
    "df['sum'] = df['Age'] + df.ada"
   ]
  },
  {
   "cell_type": "code",
   "execution_count": 143,
   "id": "9db32093-42c8-4717-9b7b-749dfcbda0ba",
   "metadata": {},
   "outputs": [
    {
     "data": {
      "text/html": [
       "<div>\n",
       "<style scoped>\n",
       "    .dataframe tbody tr th:only-of-type {\n",
       "        vertical-align: middle;\n",
       "    }\n",
       "\n",
       "    .dataframe tbody tr th {\n",
       "        vertical-align: top;\n",
       "    }\n",
       "\n",
       "    .dataframe thead th {\n",
       "        text-align: right;\n",
       "    }\n",
       "</style>\n",
       "<table border=\"1\" class=\"dataframe\">\n",
       "  <thead>\n",
       "    <tr style=\"text-align: right;\">\n",
       "      <th></th>\n",
       "      <th>Name</th>\n",
       "      <th>Age</th>\n",
       "      <th>adore</th>\n",
       "      <th>City</th>\n",
       "      <th>ada</th>\n",
       "      <th>sum</th>\n",
       "    </tr>\n",
       "  </thead>\n",
       "  <tbody>\n",
       "    <tr>\n",
       "      <th>0</th>\n",
       "      <td>John</td>\n",
       "      <td>25</td>\n",
       "      <td>4</td>\n",
       "      <td>New York</td>\n",
       "      <td>2</td>\n",
       "      <td>27</td>\n",
       "    </tr>\n",
       "    <tr>\n",
       "      <th>1</th>\n",
       "      <td>Emma</td>\n",
       "      <td>28</td>\n",
       "      <td>5</td>\n",
       "      <td>Paris</td>\n",
       "      <td>3</td>\n",
       "      <td>31</td>\n",
       "    </tr>\n",
       "    <tr>\n",
       "      <th>2</th>\n",
       "      <td>Ryan</td>\n",
       "      <td>32</td>\n",
       "      <td>6</td>\n",
       "      <td>London</td>\n",
       "      <td>4</td>\n",
       "      <td>36</td>\n",
       "    </tr>\n",
       "  </tbody>\n",
       "</table>\n",
       "</div>"
      ],
      "text/plain": [
       "   Name  Age  adore      City  ada  sum\n",
       "0  John   25      4  New York    2   27\n",
       "1  Emma   28      5     Paris    3   31\n",
       "2  Ryan   32      6    London    4   36"
      ]
     },
     "execution_count": 143,
     "metadata": {},
     "output_type": "execute_result"
    }
   ],
   "source": [
    "df"
   ]
  },
  {
   "cell_type": "code",
   "execution_count": 146,
   "id": "fbd01cbe-a484-42cc-a1a5-7ac54c4f63d9",
   "metadata": {},
   "outputs": [],
   "source": [
    "df[\"modulas\"]= df.Age % df.ada"
   ]
  },
  {
   "cell_type": "code",
   "execution_count": 147,
   "id": "73ce95ed-e224-4b31-bf6a-6faf8dc5403c",
   "metadata": {},
   "outputs": [
    {
     "data": {
      "text/html": [
       "<div>\n",
       "<style scoped>\n",
       "    .dataframe tbody tr th:only-of-type {\n",
       "        vertical-align: middle;\n",
       "    }\n",
       "\n",
       "    .dataframe tbody tr th {\n",
       "        vertical-align: top;\n",
       "    }\n",
       "\n",
       "    .dataframe thead th {\n",
       "        text-align: right;\n",
       "    }\n",
       "</style>\n",
       "<table border=\"1\" class=\"dataframe\">\n",
       "  <thead>\n",
       "    <tr style=\"text-align: right;\">\n",
       "      <th></th>\n",
       "      <th>Name</th>\n",
       "      <th>Age</th>\n",
       "      <th>adore</th>\n",
       "      <th>City</th>\n",
       "      <th>ada</th>\n",
       "      <th>sum</th>\n",
       "      <th>modulas</th>\n",
       "    </tr>\n",
       "  </thead>\n",
       "  <tbody>\n",
       "    <tr>\n",
       "      <th>0</th>\n",
       "      <td>John</td>\n",
       "      <td>25</td>\n",
       "      <td>4</td>\n",
       "      <td>New York</td>\n",
       "      <td>2</td>\n",
       "      <td>27</td>\n",
       "      <td>1</td>\n",
       "    </tr>\n",
       "    <tr>\n",
       "      <th>1</th>\n",
       "      <td>Emma</td>\n",
       "      <td>28</td>\n",
       "      <td>5</td>\n",
       "      <td>Paris</td>\n",
       "      <td>3</td>\n",
       "      <td>31</td>\n",
       "      <td>1</td>\n",
       "    </tr>\n",
       "    <tr>\n",
       "      <th>2</th>\n",
       "      <td>Ryan</td>\n",
       "      <td>32</td>\n",
       "      <td>6</td>\n",
       "      <td>London</td>\n",
       "      <td>4</td>\n",
       "      <td>36</td>\n",
       "      <td>0</td>\n",
       "    </tr>\n",
       "  </tbody>\n",
       "</table>\n",
       "</div>"
      ],
      "text/plain": [
       "   Name  Age  adore      City  ada  sum  modulas\n",
       "0  John   25      4  New York    2   27        1\n",
       "1  Emma   28      5     Paris    3   31        1\n",
       "2  Ryan   32      6    London    4   36        0"
      ]
     },
     "execution_count": 147,
     "metadata": {},
     "output_type": "execute_result"
    }
   ],
   "source": [
    "df"
   ]
  },
  {
   "cell_type": "markdown",
   "id": "cbfe3490-bdf7-4b41-9051-d85532f4c120",
   "metadata": {},
   "source": [
    "### applying functions to columns:\n",
    "Pandas provides the apply() method to apply a function to each element of a column. You can define a custom function and use apply() to apply it to a column. For example, if you have a column \"column_name\" and you want to apply a function called my_function to each element of that column, you can use the following syntax: df[\"column_name\"] = df[\"column_name\"].apply(my_function)."
   ]
  },
  {
   "cell_type": "code",
   "execution_count": 148,
   "id": "cf5a5e00-c503-4e53-86cc-181dfd28e761",
   "metadata": {},
   "outputs": [],
   "source": [
    "def age_to_days(a):\n",
    "    return a * 365\n",
    "\n",
    "df[\"age in days\"]=df.Age.apply(age_to_days)"
   ]
  },
  {
   "cell_type": "code",
   "execution_count": 149,
   "id": "7862735d-ff72-4ca3-ad67-c48991d3fc89",
   "metadata": {},
   "outputs": [
    {
     "data": {
      "text/html": [
       "<div>\n",
       "<style scoped>\n",
       "    .dataframe tbody tr th:only-of-type {\n",
       "        vertical-align: middle;\n",
       "    }\n",
       "\n",
       "    .dataframe tbody tr th {\n",
       "        vertical-align: top;\n",
       "    }\n",
       "\n",
       "    .dataframe thead th {\n",
       "        text-align: right;\n",
       "    }\n",
       "</style>\n",
       "<table border=\"1\" class=\"dataframe\">\n",
       "  <thead>\n",
       "    <tr style=\"text-align: right;\">\n",
       "      <th></th>\n",
       "      <th>Name</th>\n",
       "      <th>Age</th>\n",
       "      <th>adore</th>\n",
       "      <th>City</th>\n",
       "      <th>ada</th>\n",
       "      <th>sum</th>\n",
       "      <th>modulas</th>\n",
       "      <th>age in days</th>\n",
       "    </tr>\n",
       "  </thead>\n",
       "  <tbody>\n",
       "    <tr>\n",
       "      <th>0</th>\n",
       "      <td>John</td>\n",
       "      <td>25</td>\n",
       "      <td>4</td>\n",
       "      <td>New York</td>\n",
       "      <td>2</td>\n",
       "      <td>27</td>\n",
       "      <td>1</td>\n",
       "      <td>9125</td>\n",
       "    </tr>\n",
       "    <tr>\n",
       "      <th>1</th>\n",
       "      <td>Emma</td>\n",
       "      <td>28</td>\n",
       "      <td>5</td>\n",
       "      <td>Paris</td>\n",
       "      <td>3</td>\n",
       "      <td>31</td>\n",
       "      <td>1</td>\n",
       "      <td>10220</td>\n",
       "    </tr>\n",
       "    <tr>\n",
       "      <th>2</th>\n",
       "      <td>Ryan</td>\n",
       "      <td>32</td>\n",
       "      <td>6</td>\n",
       "      <td>London</td>\n",
       "      <td>4</td>\n",
       "      <td>36</td>\n",
       "      <td>0</td>\n",
       "      <td>11680</td>\n",
       "    </tr>\n",
       "  </tbody>\n",
       "</table>\n",
       "</div>"
      ],
      "text/plain": [
       "   Name  Age  adore      City  ada  sum  modulas  age in days\n",
       "0  John   25      4  New York    2   27        1         9125\n",
       "1  Emma   28      5     Paris    3   31        1        10220\n",
       "2  Ryan   32      6    London    4   36        0        11680"
      ]
     },
     "execution_count": 149,
     "metadata": {},
     "output_type": "execute_result"
    }
   ],
   "source": [
    "df"
   ]
  },
  {
   "cell_type": "code",
   "execution_count": 150,
   "id": "cdc714ce-a0f2-4bb2-8e6c-e11acbed51e1",
   "metadata": {},
   "outputs": [],
   "source": [
    "# we can also apply functions in traditional ways\n",
    "def sumi(a,b):\n",
    "    return a+b\n",
    "df['sumi'] = sumi(df.Age, df.ada)"
   ]
  },
  {
   "cell_type": "code",
   "execution_count": 151,
   "id": "97c2ac65-6bcd-4376-8a83-562a8be12536",
   "metadata": {},
   "outputs": [
    {
     "data": {
      "text/html": [
       "<div>\n",
       "<style scoped>\n",
       "    .dataframe tbody tr th:only-of-type {\n",
       "        vertical-align: middle;\n",
       "    }\n",
       "\n",
       "    .dataframe tbody tr th {\n",
       "        vertical-align: top;\n",
       "    }\n",
       "\n",
       "    .dataframe thead th {\n",
       "        text-align: right;\n",
       "    }\n",
       "</style>\n",
       "<table border=\"1\" class=\"dataframe\">\n",
       "  <thead>\n",
       "    <tr style=\"text-align: right;\">\n",
       "      <th></th>\n",
       "      <th>Name</th>\n",
       "      <th>Age</th>\n",
       "      <th>adore</th>\n",
       "      <th>City</th>\n",
       "      <th>ada</th>\n",
       "      <th>sum</th>\n",
       "      <th>modulas</th>\n",
       "      <th>age in days</th>\n",
       "      <th>sumi</th>\n",
       "    </tr>\n",
       "  </thead>\n",
       "  <tbody>\n",
       "    <tr>\n",
       "      <th>0</th>\n",
       "      <td>John</td>\n",
       "      <td>25</td>\n",
       "      <td>4</td>\n",
       "      <td>New York</td>\n",
       "      <td>2</td>\n",
       "      <td>27</td>\n",
       "      <td>1</td>\n",
       "      <td>9125</td>\n",
       "      <td>27</td>\n",
       "    </tr>\n",
       "    <tr>\n",
       "      <th>1</th>\n",
       "      <td>Emma</td>\n",
       "      <td>28</td>\n",
       "      <td>5</td>\n",
       "      <td>Paris</td>\n",
       "      <td>3</td>\n",
       "      <td>31</td>\n",
       "      <td>1</td>\n",
       "      <td>10220</td>\n",
       "      <td>31</td>\n",
       "    </tr>\n",
       "    <tr>\n",
       "      <th>2</th>\n",
       "      <td>Ryan</td>\n",
       "      <td>32</td>\n",
       "      <td>6</td>\n",
       "      <td>London</td>\n",
       "      <td>4</td>\n",
       "      <td>36</td>\n",
       "      <td>0</td>\n",
       "      <td>11680</td>\n",
       "      <td>36</td>\n",
       "    </tr>\n",
       "  </tbody>\n",
       "</table>\n",
       "</div>"
      ],
      "text/plain": [
       "   Name  Age  adore      City  ada  sum  modulas  age in days  sumi\n",
       "0  John   25      4  New York    2   27        1         9125    27\n",
       "1  Emma   28      5     Paris    3   31        1        10220    31\n",
       "2  Ryan   32      6    London    4   36        0        11680    36"
      ]
     },
     "execution_count": 151,
     "metadata": {},
     "output_type": "execute_result"
    }
   ],
   "source": [
    "df"
   ]
  },
  {
   "cell_type": "code",
   "execution_count": null,
   "id": "f8ac2ed7-1748-46c2-bfab-09ef99de97e0",
   "metadata": {},
   "outputs": [],
   "source": []
  },
  {
   "cell_type": "code",
   "execution_count": null,
   "id": "dd65d65c-64f6-4b5f-9037-4a5e944cebb6",
   "metadata": {},
   "outputs": [],
   "source": []
  },
  {
   "cell_type": "code",
   "execution_count": 152,
   "id": "e4adbd5f-03d5-4ffb-974e-ac8f3504fbbe",
   "metadata": {},
   "outputs": [
    {
     "data": {
      "text/plain": [
       "0    27\n",
       "1    31\n",
       "2    36\n",
       "dtype: int64"
      ]
     },
     "execution_count": 152,
     "metadata": {},
     "output_type": "execute_result"
    }
   ],
   "source": [
    "def sumi(a,b):\n",
    "    return a+b\n",
    "sumi = sumi(df.Age, df.ada)\n",
    "sumi"
   ]
  },
  {
   "cell_type": "markdown",
   "id": "89f3a058-aefc-4f3b-a8f7-2b50628abda6",
   "metadata": {},
   "source": [
    "### pandas.DataFrame.set_index\n",
    "Set the DataFrame index using existing columns.\n",
    "\n",
    "Set the DataFrame index (row labels) using one or more existing columns or arrays (of the correct length). The index can replace the existing index or expand on it."
   ]
  },
  {
   "cell_type": "markdown",
   "id": "9d2d2adc-4c2d-4294-9348-25670eebc291",
   "metadata": {},
   "source": [
    "- DataFrame.set_index(keys, *, drop=True, append=False, inplace=False, verify_integrity=False)\n",
    "- keys: label or array-like or list of labels/arrays : This parameter can be either a single column key, a single array of the same length as the calling DataFrame, or a list containing an arbitrary combination of column keys and arrays. Here, “array” encompasses Series, Index, np.ndarray, and instances of Iterator.\n",
    "- drop: bool, default True :Delete columns to be used as the new index.\n",
    "- append: bool, default False: Whether to append columns to existing index.\n",
    "- inplace: bool, default False:Whether to modify the DataFrame rather than creating a new one.\n",
    "- verify_integrity: bool, default False:Check the new index for duplicates. Otherwise defer the check until necessary. Setting to False will improve the performance of this method.\n"
   ]
  },
  {
   "cell_type": "code",
   "execution_count": 153,
   "id": "4e8410ad-1dd8-40d9-9591-a8ead73dd762",
   "metadata": {},
   "outputs": [],
   "source": [
    "df = pd.DataFrame({'month': [1, 4, 7, 10],\n",
    "                   'year': [2012, 2014, 2013, 2014],\n",
    "                   'sale': [55, 40, 84, 31]})"
   ]
  },
  {
   "cell_type": "code",
   "execution_count": 154,
   "id": "73fdaf56-bd3e-4cde-9ca0-8cc88bcb1e7f",
   "metadata": {},
   "outputs": [
    {
     "data": {
      "text/html": [
       "<div>\n",
       "<style scoped>\n",
       "    .dataframe tbody tr th:only-of-type {\n",
       "        vertical-align: middle;\n",
       "    }\n",
       "\n",
       "    .dataframe tbody tr th {\n",
       "        vertical-align: top;\n",
       "    }\n",
       "\n",
       "    .dataframe thead th {\n",
       "        text-align: right;\n",
       "    }\n",
       "</style>\n",
       "<table border=\"1\" class=\"dataframe\">\n",
       "  <thead>\n",
       "    <tr style=\"text-align: right;\">\n",
       "      <th></th>\n",
       "      <th>month</th>\n",
       "      <th>year</th>\n",
       "      <th>sale</th>\n",
       "    </tr>\n",
       "  </thead>\n",
       "  <tbody>\n",
       "    <tr>\n",
       "      <th>0</th>\n",
       "      <td>1</td>\n",
       "      <td>2012</td>\n",
       "      <td>55</td>\n",
       "    </tr>\n",
       "    <tr>\n",
       "      <th>1</th>\n",
       "      <td>4</td>\n",
       "      <td>2014</td>\n",
       "      <td>40</td>\n",
       "    </tr>\n",
       "    <tr>\n",
       "      <th>2</th>\n",
       "      <td>7</td>\n",
       "      <td>2013</td>\n",
       "      <td>84</td>\n",
       "    </tr>\n",
       "    <tr>\n",
       "      <th>3</th>\n",
       "      <td>10</td>\n",
       "      <td>2014</td>\n",
       "      <td>31</td>\n",
       "    </tr>\n",
       "  </tbody>\n",
       "</table>\n",
       "</div>"
      ],
      "text/plain": [
       "   month  year  sale\n",
       "0      1  2012    55\n",
       "1      4  2014    40\n",
       "2      7  2013    84\n",
       "3     10  2014    31"
      ]
     },
     "execution_count": 154,
     "metadata": {},
     "output_type": "execute_result"
    }
   ],
   "source": [
    "df.set_index('month')\n",
    "df"
   ]
  },
  {
   "cell_type": "code",
   "execution_count": 155,
   "id": "a5776e44-d0b0-42e7-849a-c8a8a598826b",
   "metadata": {},
   "outputs": [
    {
     "data": {
      "text/html": [
       "<div>\n",
       "<style scoped>\n",
       "    .dataframe tbody tr th:only-of-type {\n",
       "        vertical-align: middle;\n",
       "    }\n",
       "\n",
       "    .dataframe tbody tr th {\n",
       "        vertical-align: top;\n",
       "    }\n",
       "\n",
       "    .dataframe thead th {\n",
       "        text-align: right;\n",
       "    }\n",
       "</style>\n",
       "<table border=\"1\" class=\"dataframe\">\n",
       "  <thead>\n",
       "    <tr style=\"text-align: right;\">\n",
       "      <th></th>\n",
       "      <th>year</th>\n",
       "      <th>sale</th>\n",
       "    </tr>\n",
       "    <tr>\n",
       "      <th>month</th>\n",
       "      <th></th>\n",
       "      <th></th>\n",
       "    </tr>\n",
       "  </thead>\n",
       "  <tbody>\n",
       "    <tr>\n",
       "      <th>1</th>\n",
       "      <td>2012</td>\n",
       "      <td>55</td>\n",
       "    </tr>\n",
       "    <tr>\n",
       "      <th>4</th>\n",
       "      <td>2014</td>\n",
       "      <td>40</td>\n",
       "    </tr>\n",
       "    <tr>\n",
       "      <th>7</th>\n",
       "      <td>2013</td>\n",
       "      <td>84</td>\n",
       "    </tr>\n",
       "    <tr>\n",
       "      <th>10</th>\n",
       "      <td>2014</td>\n",
       "      <td>31</td>\n",
       "    </tr>\n",
       "  </tbody>\n",
       "</table>\n",
       "</div>"
      ],
      "text/plain": [
       "       year  sale\n",
       "month            \n",
       "1      2012    55\n",
       "4      2014    40\n",
       "7      2013    84\n",
       "10     2014    31"
      ]
     },
     "execution_count": 155,
     "metadata": {},
     "output_type": "execute_result"
    }
   ],
   "source": [
    "df.set_index('month', inplace = True)\n",
    "df"
   ]
  },
  {
   "cell_type": "code",
   "execution_count": 156,
   "id": "ccdf00bb-09fe-459a-a51a-f78bc61a9bc1",
   "metadata": {},
   "outputs": [
    {
     "data": {
      "text/html": [
       "<div>\n",
       "<style scoped>\n",
       "    .dataframe tbody tr th:only-of-type {\n",
       "        vertical-align: middle;\n",
       "    }\n",
       "\n",
       "    .dataframe tbody tr th {\n",
       "        vertical-align: top;\n",
       "    }\n",
       "\n",
       "    .dataframe thead th {\n",
       "        text-align: right;\n",
       "    }\n",
       "</style>\n",
       "<table border=\"1\" class=\"dataframe\">\n",
       "  <thead>\n",
       "    <tr style=\"text-align: right;\">\n",
       "      <th></th>\n",
       "      <th></th>\n",
       "      <th>year</th>\n",
       "    </tr>\n",
       "    <tr>\n",
       "      <th>month</th>\n",
       "      <th>sale</th>\n",
       "      <th></th>\n",
       "    </tr>\n",
       "  </thead>\n",
       "  <tbody>\n",
       "    <tr>\n",
       "      <th>1</th>\n",
       "      <th>55</th>\n",
       "      <td>2012</td>\n",
       "    </tr>\n",
       "    <tr>\n",
       "      <th>4</th>\n",
       "      <th>40</th>\n",
       "      <td>2014</td>\n",
       "    </tr>\n",
       "    <tr>\n",
       "      <th>7</th>\n",
       "      <th>84</th>\n",
       "      <td>2013</td>\n",
       "    </tr>\n",
       "    <tr>\n",
       "      <th>10</th>\n",
       "      <th>31</th>\n",
       "      <td>2014</td>\n",
       "    </tr>\n",
       "  </tbody>\n",
       "</table>\n",
       "</div>"
      ],
      "text/plain": [
       "            year\n",
       "month sale      \n",
       "1     55    2012\n",
       "4     40    2014\n",
       "7     84    2013\n",
       "10    31    2014"
      ]
     },
     "execution_count": 156,
     "metadata": {},
     "output_type": "execute_result"
    }
   ],
   "source": [
    "df.set_index('sale', append = True)"
   ]
  },
  {
   "cell_type": "markdown",
   "id": "72a5b5da-d705-4260-86c7-cb3a223d50a1",
   "metadata": {},
   "source": [
    "## dealing with rows:\n",
    "Dealing with rows in a Pandas DataFrame involves operations such as accessing rows, filtering rows based on conditions, adding new rows, and deleting rows."
   ]
  },
  {
   "cell_type": "markdown",
   "id": "bb27b65f-b60c-4acb-ab2b-790d5b69e366",
   "metadata": {},
   "source": [
    "#### accessing rows:\n",
    "\n",
    "Pandas provide different methods to access rows in dataframe:\n",
    "\n",
    "**iloc:**\n",
    "\n",
    "to use the iloc indexer to access rows by their integer location. For example, to access the first row of a DataFrame, you can use df.iloc[0]. iloc: You can use the iloc indexer to access rows by their integer location. For example, to access the first row of a DataFrame, you can use df.iloc[0].\n",
    "\n",
    "**loc:**\n",
    "\n",
    "The loc indexer is used to access rows by their label. If your DataFrame has row labels, you can use the loc indexer to access rows by their labels. For example, if you have a DataFrame with row labels and you want to access the row with label \"row_label\", you can use df.loc[\"row_label\"].\n",
    "\n"
   ]
  },
  {
   "cell_type": "code",
   "execution_count": 157,
   "id": "7e7f0e96-cb44-4be9-b40d-899f23fe8b87",
   "metadata": {},
   "outputs": [],
   "source": [
    "data = {\n",
    "    \"Name\": [\"John\", \"Emma\", \"Ryan\"],    \n",
    "    \"Age\": [25, 28, 32],\n",
    "    \"City\": [\"New York\", \"Paris\", \"London\"]}\n",
    "df = pd.DataFrame(data, index = ['A', 'B','C'])"
   ]
  },
  {
   "cell_type": "code",
   "execution_count": 158,
   "id": "06474121-517d-4168-8914-08845d5cf4dc",
   "metadata": {},
   "outputs": [
    {
     "data": {
      "text/html": [
       "<div>\n",
       "<style scoped>\n",
       "    .dataframe tbody tr th:only-of-type {\n",
       "        vertical-align: middle;\n",
       "    }\n",
       "\n",
       "    .dataframe tbody tr th {\n",
       "        vertical-align: top;\n",
       "    }\n",
       "\n",
       "    .dataframe thead th {\n",
       "        text-align: right;\n",
       "    }\n",
       "</style>\n",
       "<table border=\"1\" class=\"dataframe\">\n",
       "  <thead>\n",
       "    <tr style=\"text-align: right;\">\n",
       "      <th></th>\n",
       "      <th>Name</th>\n",
       "      <th>Age</th>\n",
       "      <th>City</th>\n",
       "    </tr>\n",
       "  </thead>\n",
       "  <tbody>\n",
       "    <tr>\n",
       "      <th>A</th>\n",
       "      <td>John</td>\n",
       "      <td>25</td>\n",
       "      <td>New York</td>\n",
       "    </tr>\n",
       "  </tbody>\n",
       "</table>\n",
       "</div>"
      ],
      "text/plain": [
       "   Name  Age      City\n",
       "A  John   25  New York"
      ]
     },
     "execution_count": 158,
     "metadata": {},
     "output_type": "execute_result"
    }
   ],
   "source": [
    "df.loc[['A']]"
   ]
  },
  {
   "cell_type": "code",
   "execution_count": 159,
   "id": "9a7554f0-e3f4-4d2b-8605-7114dad8acaf",
   "metadata": {},
   "outputs": [
    {
     "data": {
      "text/html": [
       "<div>\n",
       "<style scoped>\n",
       "    .dataframe tbody tr th:only-of-type {\n",
       "        vertical-align: middle;\n",
       "    }\n",
       "\n",
       "    .dataframe tbody tr th {\n",
       "        vertical-align: top;\n",
       "    }\n",
       "\n",
       "    .dataframe thead th {\n",
       "        text-align: right;\n",
       "    }\n",
       "</style>\n",
       "<table border=\"1\" class=\"dataframe\">\n",
       "  <thead>\n",
       "    <tr style=\"text-align: right;\">\n",
       "      <th></th>\n",
       "      <th>Name</th>\n",
       "      <th>Age</th>\n",
       "      <th>City</th>\n",
       "    </tr>\n",
       "  </thead>\n",
       "  <tbody>\n",
       "    <tr>\n",
       "      <th>A</th>\n",
       "      <td>John</td>\n",
       "      <td>25</td>\n",
       "      <td>New York</td>\n",
       "    </tr>\n",
       "    <tr>\n",
       "      <th>B</th>\n",
       "      <td>Emma</td>\n",
       "      <td>28</td>\n",
       "      <td>Paris</td>\n",
       "    </tr>\n",
       "  </tbody>\n",
       "</table>\n",
       "</div>"
      ],
      "text/plain": [
       "   Name  Age      City\n",
       "A  John   25  New York\n",
       "B  Emma   28     Paris"
      ]
     },
     "execution_count": 159,
     "metadata": {},
     "output_type": "execute_result"
    }
   ],
   "source": [
    "df.loc[['A','B']]"
   ]
  },
  {
   "cell_type": "code",
   "execution_count": 160,
   "id": "92136adf-7260-4c3c-b421-37751aff0418",
   "metadata": {},
   "outputs": [
    {
     "data": {
      "text/html": [
       "<div>\n",
       "<style scoped>\n",
       "    .dataframe tbody tr th:only-of-type {\n",
       "        vertical-align: middle;\n",
       "    }\n",
       "\n",
       "    .dataframe tbody tr th {\n",
       "        vertical-align: top;\n",
       "    }\n",
       "\n",
       "    .dataframe thead th {\n",
       "        text-align: right;\n",
       "    }\n",
       "</style>\n",
       "<table border=\"1\" class=\"dataframe\">\n",
       "  <thead>\n",
       "    <tr style=\"text-align: right;\">\n",
       "      <th></th>\n",
       "      <th>Name</th>\n",
       "      <th>Age</th>\n",
       "      <th>City</th>\n",
       "    </tr>\n",
       "  </thead>\n",
       "  <tbody>\n",
       "    <tr>\n",
       "      <th>A</th>\n",
       "      <td>John</td>\n",
       "      <td>25</td>\n",
       "      <td>New York</td>\n",
       "    </tr>\n",
       "    <tr>\n",
       "      <th>B</th>\n",
       "      <td>Emma</td>\n",
       "      <td>28</td>\n",
       "      <td>Paris</td>\n",
       "    </tr>\n",
       "  </tbody>\n",
       "</table>\n",
       "</div>"
      ],
      "text/plain": [
       "   Name  Age      City\n",
       "A  John   25  New York\n",
       "B  Emma   28     Paris"
      ]
     },
     "execution_count": 160,
     "metadata": {},
     "output_type": "execute_result"
    }
   ],
   "source": [
    "df.iloc[[0,1]]"
   ]
  },
  {
   "cell_type": "markdown",
   "id": "90927ca8-79cb-41b6-9962-ad022c67d70a",
   "metadata": {},
   "source": [
    "**Boolean indexing:**\n",
    "\n",
    "to use Boolean indexing to filter rows based on a condition. For example, if you want to select rows where a certain condition is met, you can use a Boolean expression with the DataFrame. For example, df[df[\"column_name\"] > 10] will select rows where the value in \"column_name\" is greater than 10."
   ]
  },
  {
   "cell_type": "code",
   "execution_count": 161,
   "id": "7b5a1246-de33-4951-b6fc-272f663fe586",
   "metadata": {},
   "outputs": [
    {
     "data": {
      "text/html": [
       "<div>\n",
       "<style scoped>\n",
       "    .dataframe tbody tr th:only-of-type {\n",
       "        vertical-align: middle;\n",
       "    }\n",
       "\n",
       "    .dataframe tbody tr th {\n",
       "        vertical-align: top;\n",
       "    }\n",
       "\n",
       "    .dataframe thead th {\n",
       "        text-align: right;\n",
       "    }\n",
       "</style>\n",
       "<table border=\"1\" class=\"dataframe\">\n",
       "  <thead>\n",
       "    <tr style=\"text-align: right;\">\n",
       "      <th></th>\n",
       "      <th>Name</th>\n",
       "      <th>Age</th>\n",
       "      <th>City</th>\n",
       "    </tr>\n",
       "  </thead>\n",
       "  <tbody>\n",
       "    <tr>\n",
       "      <th>C</th>\n",
       "      <td>Ryan</td>\n",
       "      <td>32</td>\n",
       "      <td>London</td>\n",
       "    </tr>\n",
       "  </tbody>\n",
       "</table>\n",
       "</div>"
      ],
      "text/plain": [
       "   Name  Age    City\n",
       "C  Ryan   32  London"
      ]
     },
     "execution_count": 161,
     "metadata": {},
     "output_type": "execute_result"
    }
   ],
   "source": [
    "df[df['Age']>28]"
   ]
  },
  {
   "cell_type": "markdown",
   "id": "3aaefde9-33df-4f63-8bd3-f86e405e7bc3",
   "metadata": {},
   "source": [
    "### adding rows:\n",
    "to add a new row to a DataFrame, you can use the append() function or the loc indexer."
   ]
  },
  {
   "cell_type": "code",
   "execution_count": 162,
   "id": "68e9e082-3924-4d4c-8bf1-b6c1af081db7",
   "metadata": {},
   "outputs": [],
   "source": [
    "# 1 menthod\n",
    "df = pd.DataFrame({'Name': ['John', 'Emma'],\n",
    "                   'Age': [25, 28]})\n",
    "\n",
    "df.loc[len(df)] = ['adi', 3]"
   ]
  },
  {
   "cell_type": "code",
   "execution_count": 163,
   "id": "f459536f-6ccf-4b79-8c65-cb72c30a5c39",
   "metadata": {},
   "outputs": [
    {
     "data": {
      "text/html": [
       "<div>\n",
       "<style scoped>\n",
       "    .dataframe tbody tr th:only-of-type {\n",
       "        vertical-align: middle;\n",
       "    }\n",
       "\n",
       "    .dataframe tbody tr th {\n",
       "        vertical-align: top;\n",
       "    }\n",
       "\n",
       "    .dataframe thead th {\n",
       "        text-align: right;\n",
       "    }\n",
       "</style>\n",
       "<table border=\"1\" class=\"dataframe\">\n",
       "  <thead>\n",
       "    <tr style=\"text-align: right;\">\n",
       "      <th></th>\n",
       "      <th>Name</th>\n",
       "      <th>Age</th>\n",
       "    </tr>\n",
       "  </thead>\n",
       "  <tbody>\n",
       "    <tr>\n",
       "      <th>0</th>\n",
       "      <td>John</td>\n",
       "      <td>25</td>\n",
       "    </tr>\n",
       "    <tr>\n",
       "      <th>1</th>\n",
       "      <td>Emma</td>\n",
       "      <td>28</td>\n",
       "    </tr>\n",
       "    <tr>\n",
       "      <th>2</th>\n",
       "      <td>adi</td>\n",
       "      <td>3</td>\n",
       "    </tr>\n",
       "  </tbody>\n",
       "</table>\n",
       "</div>"
      ],
      "text/plain": [
       "   Name  Age\n",
       "0  John   25\n",
       "1  Emma   28\n",
       "2   adi    3"
      ]
     },
     "execution_count": 163,
     "metadata": {},
     "output_type": "execute_result"
    }
   ],
   "source": [
    "df"
   ]
  },
  {
   "cell_type": "markdown",
   "id": "70450402-0e66-4a5c-924f-022a68809635",
   "metadata": {},
   "source": [
    "#### concat() \n",
    "- pandas.concat(objs, axis=0, join='outer', ignore_index=False, keys=None, levels=None, names=None, verify_integrity=False, sort=False, copy=True)\n",
    "- ignore_index(bool, default False): If True, do not use the index values along the concatenation axis. The resulting axis will be labeled 0, …, n - 1. This is useful if you are concatenating objects where the concatenation axis does not have meaningful indexing information. Note the index values on the other axes are still respected in the join."
   ]
  },
  {
   "cell_type": "code",
   "execution_count": 164,
   "id": "fb06a5ca-cb70-4919-96a3-713a7919b083",
   "metadata": {},
   "outputs": [],
   "source": [
    "df1 = pd.DataFrame(data = [['anu', '4'],['amu',5]], columns = ['Name', 'Age'])"
   ]
  },
  {
   "cell_type": "code",
   "execution_count": 165,
   "id": "1d56e681-d91a-4d8e-a14a-77166dbcba39",
   "metadata": {},
   "outputs": [
    {
     "data": {
      "text/html": [
       "<div>\n",
       "<style scoped>\n",
       "    .dataframe tbody tr th:only-of-type {\n",
       "        vertical-align: middle;\n",
       "    }\n",
       "\n",
       "    .dataframe tbody tr th {\n",
       "        vertical-align: top;\n",
       "    }\n",
       "\n",
       "    .dataframe thead th {\n",
       "        text-align: right;\n",
       "    }\n",
       "</style>\n",
       "<table border=\"1\" class=\"dataframe\">\n",
       "  <thead>\n",
       "    <tr style=\"text-align: right;\">\n",
       "      <th></th>\n",
       "      <th>Name</th>\n",
       "      <th>Age</th>\n",
       "    </tr>\n",
       "  </thead>\n",
       "  <tbody>\n",
       "    <tr>\n",
       "      <th>0</th>\n",
       "      <td>anu</td>\n",
       "      <td>4</td>\n",
       "    </tr>\n",
       "    <tr>\n",
       "      <th>1</th>\n",
       "      <td>amu</td>\n",
       "      <td>5</td>\n",
       "    </tr>\n",
       "  </tbody>\n",
       "</table>\n",
       "</div>"
      ],
      "text/plain": [
       "  Name Age\n",
       "0  anu   4\n",
       "1  amu   5"
      ]
     },
     "execution_count": 165,
     "metadata": {},
     "output_type": "execute_result"
    }
   ],
   "source": [
    "df1"
   ]
  },
  {
   "cell_type": "code",
   "execution_count": 166,
   "id": "e48953eb-5e8d-42d2-b39d-b09a9d829055",
   "metadata": {},
   "outputs": [],
   "source": [
    "df2 = pd.concat([df,df1])"
   ]
  },
  {
   "cell_type": "code",
   "execution_count": 167,
   "id": "e8c62e51-5545-4987-9dd4-10d655ee2960",
   "metadata": {},
   "outputs": [
    {
     "data": {
      "text/html": [
       "<div>\n",
       "<style scoped>\n",
       "    .dataframe tbody tr th:only-of-type {\n",
       "        vertical-align: middle;\n",
       "    }\n",
       "\n",
       "    .dataframe tbody tr th {\n",
       "        vertical-align: top;\n",
       "    }\n",
       "\n",
       "    .dataframe thead th {\n",
       "        text-align: right;\n",
       "    }\n",
       "</style>\n",
       "<table border=\"1\" class=\"dataframe\">\n",
       "  <thead>\n",
       "    <tr style=\"text-align: right;\">\n",
       "      <th></th>\n",
       "      <th>Name</th>\n",
       "      <th>Age</th>\n",
       "    </tr>\n",
       "  </thead>\n",
       "  <tbody>\n",
       "    <tr>\n",
       "      <th>0</th>\n",
       "      <td>John</td>\n",
       "      <td>25</td>\n",
       "    </tr>\n",
       "    <tr>\n",
       "      <th>1</th>\n",
       "      <td>Emma</td>\n",
       "      <td>28</td>\n",
       "    </tr>\n",
       "    <tr>\n",
       "      <th>2</th>\n",
       "      <td>adi</td>\n",
       "      <td>3</td>\n",
       "    </tr>\n",
       "    <tr>\n",
       "      <th>0</th>\n",
       "      <td>anu</td>\n",
       "      <td>4</td>\n",
       "    </tr>\n",
       "    <tr>\n",
       "      <th>1</th>\n",
       "      <td>amu</td>\n",
       "      <td>5</td>\n",
       "    </tr>\n",
       "  </tbody>\n",
       "</table>\n",
       "</div>"
      ],
      "text/plain": [
       "   Name Age\n",
       "0  John  25\n",
       "1  Emma  28\n",
       "2   adi   3\n",
       "0   anu   4\n",
       "1   amu   5"
      ]
     },
     "execution_count": 167,
     "metadata": {},
     "output_type": "execute_result"
    }
   ],
   "source": [
    "df2"
   ]
  },
  {
   "cell_type": "code",
   "execution_count": 168,
   "id": "0c56a1ec-d1a6-479e-bae7-ad919bf84b1d",
   "metadata": {},
   "outputs": [],
   "source": [
    "df2 = pd.concat([df,df1], ignore_index = True)"
   ]
  },
  {
   "cell_type": "code",
   "execution_count": 169,
   "id": "6caf3314-0398-44cc-88e6-de10399b7888",
   "metadata": {},
   "outputs": [
    {
     "data": {
      "text/html": [
       "<div>\n",
       "<style scoped>\n",
       "    .dataframe tbody tr th:only-of-type {\n",
       "        vertical-align: middle;\n",
       "    }\n",
       "\n",
       "    .dataframe tbody tr th {\n",
       "        vertical-align: top;\n",
       "    }\n",
       "\n",
       "    .dataframe thead th {\n",
       "        text-align: right;\n",
       "    }\n",
       "</style>\n",
       "<table border=\"1\" class=\"dataframe\">\n",
       "  <thead>\n",
       "    <tr style=\"text-align: right;\">\n",
       "      <th></th>\n",
       "      <th>Name</th>\n",
       "      <th>Age</th>\n",
       "    </tr>\n",
       "  </thead>\n",
       "  <tbody>\n",
       "    <tr>\n",
       "      <th>0</th>\n",
       "      <td>John</td>\n",
       "      <td>25</td>\n",
       "    </tr>\n",
       "    <tr>\n",
       "      <th>1</th>\n",
       "      <td>Emma</td>\n",
       "      <td>28</td>\n",
       "    </tr>\n",
       "    <tr>\n",
       "      <th>2</th>\n",
       "      <td>adi</td>\n",
       "      <td>3</td>\n",
       "    </tr>\n",
       "    <tr>\n",
       "      <th>3</th>\n",
       "      <td>anu</td>\n",
       "      <td>4</td>\n",
       "    </tr>\n",
       "    <tr>\n",
       "      <th>4</th>\n",
       "      <td>amu</td>\n",
       "      <td>5</td>\n",
       "    </tr>\n",
       "  </tbody>\n",
       "</table>\n",
       "</div>"
      ],
      "text/plain": [
       "   Name Age\n",
       "0  John  25\n",
       "1  Emma  28\n",
       "2   adi   3\n",
       "3   anu   4\n",
       "4   amu   5"
      ]
     },
     "execution_count": 169,
     "metadata": {},
     "output_type": "execute_result"
    }
   ],
   "source": [
    "df2"
   ]
  },
  {
   "cell_type": "markdown",
   "id": "489b99cb-d42b-41ac-929b-a304b1bf8370",
   "metadata": {},
   "source": [
    "### row deletion\n",
    "- drop command is used for row deletion\n",
    "- DataFrame.drop(labels=None, *, axis=0, index=None, columns=None, level=None, inplace=False, errors='raise')\n",
    "- touple wil be used in label instead of list etc"
   ]
  },
  {
   "cell_type": "code",
   "execution_count": 170,
   "id": "2fa81f59-1595-4260-8c3f-079b6dd0a207",
   "metadata": {},
   "outputs": [
    {
     "data": {
      "text/html": [
       "<div>\n",
       "<style scoped>\n",
       "    .dataframe tbody tr th:only-of-type {\n",
       "        vertical-align: middle;\n",
       "    }\n",
       "\n",
       "    .dataframe tbody tr th {\n",
       "        vertical-align: top;\n",
       "    }\n",
       "\n",
       "    .dataframe thead th {\n",
       "        text-align: right;\n",
       "    }\n",
       "</style>\n",
       "<table border=\"1\" class=\"dataframe\">\n",
       "  <thead>\n",
       "    <tr style=\"text-align: right;\">\n",
       "      <th></th>\n",
       "      <th>Name</th>\n",
       "      <th>Age</th>\n",
       "    </tr>\n",
       "  </thead>\n",
       "  <tbody>\n",
       "    <tr>\n",
       "      <th>0</th>\n",
       "      <td>John</td>\n",
       "      <td>25</td>\n",
       "    </tr>\n",
       "    <tr>\n",
       "      <th>1</th>\n",
       "      <td>Emma</td>\n",
       "      <td>28</td>\n",
       "    </tr>\n",
       "    <tr>\n",
       "      <th>2</th>\n",
       "      <td>adi</td>\n",
       "      <td>3</td>\n",
       "    </tr>\n",
       "  </tbody>\n",
       "</table>\n",
       "</div>"
      ],
      "text/plain": [
       "   Name Age\n",
       "0  John  25\n",
       "1  Emma  28\n",
       "2   adi   3"
      ]
     },
     "execution_count": 170,
     "metadata": {},
     "output_type": "execute_result"
    }
   ],
   "source": [
    "df2.drop([3,4])"
   ]
  },
  {
   "cell_type": "code",
   "execution_count": 171,
   "id": "042e687b-2275-4173-a371-4d15bb1acfd1",
   "metadata": {},
   "outputs": [
    {
     "data": {
      "text/html": [
       "<div>\n",
       "<style scoped>\n",
       "    .dataframe tbody tr th:only-of-type {\n",
       "        vertical-align: middle;\n",
       "    }\n",
       "\n",
       "    .dataframe tbody tr th {\n",
       "        vertical-align: top;\n",
       "    }\n",
       "\n",
       "    .dataframe thead th {\n",
       "        text-align: right;\n",
       "    }\n",
       "</style>\n",
       "<table border=\"1\" class=\"dataframe\">\n",
       "  <thead>\n",
       "    <tr style=\"text-align: right;\">\n",
       "      <th></th>\n",
       "      <th>Name</th>\n",
       "    </tr>\n",
       "  </thead>\n",
       "  <tbody>\n",
       "    <tr>\n",
       "      <th>0</th>\n",
       "      <td>John</td>\n",
       "    </tr>\n",
       "    <tr>\n",
       "      <th>1</th>\n",
       "      <td>Emma</td>\n",
       "    </tr>\n",
       "    <tr>\n",
       "      <th>2</th>\n",
       "      <td>adi</td>\n",
       "    </tr>\n",
       "  </tbody>\n",
       "</table>\n",
       "</div>"
      ],
      "text/plain": [
       "   Name\n",
       "0  John\n",
       "1  Emma\n",
       "2   adi"
      ]
     },
     "execution_count": 171,
     "metadata": {},
     "output_type": "execute_result"
    }
   ],
   "source": [
    "df.drop(['Age'], axis = 1)"
   ]
  },
  {
   "cell_type": "markdown",
   "id": "b8c621f0-26ff-414c-965d-b7e22a64495d",
   "metadata": {},
   "source": [
    "## Pandas Dataframe.truncate\n",
    "- DataFrame.truncate(before=None, after=None, axis=None, copy=None)\n",
    "- The truncate method in Pandas DataFrame is used to truncate(cut) a DataFrame or Series before and/or after a specified index or column label. It allows you to filter and keep only the data within a specific range.\n",
    "- 1. before: The label or index before which to truncate the DataFrame.          \n",
    "2. after: The label or index after which to truncate the DataFrame.              \n",
    "3. axis: Specifies the axis along which to truncate. By default, it is set to None, which means the method will truncate the rows.         \n",
    "4. copy: Specifies whether to make a copy of the truncated DataFrame or modify the original DataFrame in place. By default, it is set to True.       "
   ]
  },
  {
   "cell_type": "code",
   "execution_count": 176,
   "id": "2b79b548-b150-4e7a-8c02-0de43dc541c2",
   "metadata": {},
   "outputs": [
    {
     "name": "stdout",
     "output_type": "stream",
     "text": [
      "   A   B\n",
      "0  1   6\n",
      "1  2   7\n",
      "2  3   8\n",
      "3  4   9\n",
      "4  5  10\n"
     ]
    }
   ],
   "source": [
    "data = {'A': [1, 2, 3, 4, 5],\n",
    "        'B': [6, 7, 8, 9, 10]}\n",
    "df = pd.DataFrame(data)\n",
    "print(df)"
   ]
  },
  {
   "cell_type": "code",
   "execution_count": 177,
   "id": "d83d199e-a206-4398-9b4e-3017898740ec",
   "metadata": {},
   "outputs": [
    {
     "data": {
      "text/html": [
       "<div>\n",
       "<style scoped>\n",
       "    .dataframe tbody tr th:only-of-type {\n",
       "        vertical-align: middle;\n",
       "    }\n",
       "\n",
       "    .dataframe tbody tr th {\n",
       "        vertical-align: top;\n",
       "    }\n",
       "\n",
       "    .dataframe thead th {\n",
       "        text-align: right;\n",
       "    }\n",
       "</style>\n",
       "<table border=\"1\" class=\"dataframe\">\n",
       "  <thead>\n",
       "    <tr style=\"text-align: right;\">\n",
       "      <th></th>\n",
       "      <th>A</th>\n",
       "      <th>B</th>\n",
       "    </tr>\n",
       "  </thead>\n",
       "  <tbody>\n",
       "    <tr>\n",
       "      <th>2</th>\n",
       "      <td>3</td>\n",
       "      <td>8</td>\n",
       "    </tr>\n",
       "    <tr>\n",
       "      <th>3</th>\n",
       "      <td>4</td>\n",
       "      <td>9</td>\n",
       "    </tr>\n",
       "  </tbody>\n",
       "</table>\n",
       "</div>"
      ],
      "text/plain": [
       "   A  B\n",
       "2  3  8\n",
       "3  4  9"
      ]
     },
     "execution_count": 177,
     "metadata": {},
     "output_type": "execute_result"
    }
   ],
   "source": [
    "# df.truncate(before = 2, after =3)\n",
    "df.truncate(2,3)"
   ]
  },
  {
   "cell_type": "code",
   "execution_count": 178,
   "id": "fdc640e5-d9c9-40a7-a062-edb23e2094e8",
   "metadata": {},
   "outputs": [
    {
     "data": {
      "text/html": [
       "<div>\n",
       "<style scoped>\n",
       "    .dataframe tbody tr th:only-of-type {\n",
       "        vertical-align: middle;\n",
       "    }\n",
       "\n",
       "    .dataframe tbody tr th {\n",
       "        vertical-align: top;\n",
       "    }\n",
       "\n",
       "    .dataframe thead th {\n",
       "        text-align: right;\n",
       "    }\n",
       "</style>\n",
       "<table border=\"1\" class=\"dataframe\">\n",
       "  <thead>\n",
       "    <tr style=\"text-align: right;\">\n",
       "      <th></th>\n",
       "      <th>A</th>\n",
       "      <th>B</th>\n",
       "    </tr>\n",
       "  </thead>\n",
       "  <tbody>\n",
       "    <tr>\n",
       "      <th>4</th>\n",
       "      <td>5</td>\n",
       "      <td>10</td>\n",
       "    </tr>\n",
       "  </tbody>\n",
       "</table>\n",
       "</div>"
      ],
      "text/plain": [
       "   A   B\n",
       "4  5  10"
      ]
     },
     "execution_count": 178,
     "metadata": {},
     "output_type": "execute_result"
    }
   ],
   "source": [
    "df.truncate(4)"
   ]
  },
  {
   "cell_type": "code",
   "execution_count": 179,
   "id": "abdaf311-8719-4c5d-9efd-1e72387b9192",
   "metadata": {},
   "outputs": [
    {
     "data": {
      "text/html": [
       "<div>\n",
       "<style scoped>\n",
       "    .dataframe tbody tr th:only-of-type {\n",
       "        vertical-align: middle;\n",
       "    }\n",
       "\n",
       "    .dataframe tbody tr th {\n",
       "        vertical-align: top;\n",
       "    }\n",
       "\n",
       "    .dataframe thead th {\n",
       "        text-align: right;\n",
       "    }\n",
       "</style>\n",
       "<table border=\"1\" class=\"dataframe\">\n",
       "  <thead>\n",
       "    <tr style=\"text-align: right;\">\n",
       "      <th></th>\n",
       "      <th>A</th>\n",
       "      <th>B</th>\n",
       "    </tr>\n",
       "  </thead>\n",
       "  <tbody>\n",
       "    <tr>\n",
       "      <th>0</th>\n",
       "      <td>1</td>\n",
       "      <td>6</td>\n",
       "    </tr>\n",
       "    <tr>\n",
       "      <th>1</th>\n",
       "      <td>2</td>\n",
       "      <td>7</td>\n",
       "    </tr>\n",
       "    <tr>\n",
       "      <th>2</th>\n",
       "      <td>3</td>\n",
       "      <td>8</td>\n",
       "    </tr>\n",
       "    <tr>\n",
       "      <th>3</th>\n",
       "      <td>4</td>\n",
       "      <td>9</td>\n",
       "    </tr>\n",
       "  </tbody>\n",
       "</table>\n",
       "</div>"
      ],
      "text/plain": [
       "   A  B\n",
       "0  1  6\n",
       "1  2  7\n",
       "2  3  8\n",
       "3  4  9"
      ]
     },
     "execution_count": 179,
     "metadata": {},
     "output_type": "execute_result"
    }
   ],
   "source": [
    "df.truncate(after = 3)"
   ]
  },
  {
   "cell_type": "markdown",
   "id": "9946aa1a-bea5-411a-a5f0-16e2d468530f",
   "metadata": {},
   "source": [
    "### Pandas Series.combine():\n",
    "\n",
    "- The combine method in Pandas Series is used to combine two Series into a new Series by applying a given function element-wise. It allows you to perform custom operations on two Series and generate a new Series based on those operations.\n",
    "- **Series.combine(other, func, fill_value=None)**\n",
    "\n",
    "\n",
    "Parameters:\n",
    "\n",
    "1. other: The other Series to combine with.\n",
    "2. func: A function that specifies how to combine the values from the two Series. This function takes two arguments, corresponding to the values from the two Series, and returns a single value.\n",
    "3. fill_value: An optional parameter that specifies a value to fill missing values with. If one of the Series has missing values where the other Series has data, the fill_value will be used in those cases.\n"
   ]
  },
  {
   "cell_type": "code",
   "execution_count": 180,
   "id": "1ac02bce-b2bc-42e9-a6a8-58fcc4329bf1",
   "metadata": {},
   "outputs": [],
   "source": [
    "sr = pd.Series(['a', 'b', 'c','d','e', 'f','g'])\n",
    "sr1 = pd.Series(['h','i','j','k'])"
   ]
  },
  {
   "cell_type": "code",
   "execution_count": 181,
   "id": "a6618061-3328-46cc-ae54-457f7c37e39b",
   "metadata": {},
   "outputs": [],
   "source": [
    "def funk(a,b):\n",
    "    return([a,b])\n",
    "def sunk(a,b):\n",
    "    return a+b"
   ]
  },
  {
   "cell_type": "code",
   "execution_count": 182,
   "id": "82fcbbe8-5dcb-40e9-a075-1db85c75b2ab",
   "metadata": {},
   "outputs": [
    {
     "data": {
      "text/plain": [
       "0      [a, h]\n",
       "1      [b, i]\n",
       "2      [c, j]\n",
       "3      [d, k]\n",
       "4    [e, nan]\n",
       "5    [f, nan]\n",
       "6    [g, nan]\n",
       "dtype: object"
      ]
     },
     "execution_count": 182,
     "metadata": {},
     "output_type": "execute_result"
    }
   ],
   "source": [
    "sr.combine(sr1, funk)"
   ]
  },
  {
   "cell_type": "code",
   "execution_count": 183,
   "id": "e97b26c7-fa51-416c-b76d-cd5d7fa9492c",
   "metadata": {},
   "outputs": [
    {
     "data": {
      "text/plain": [
       "0    aa\n",
       "1    bb\n",
       "2    cc\n",
       "3    dd\n",
       "4    ee\n",
       "5    ff\n",
       "6    gg\n",
       "dtype: object"
      ]
     },
     "execution_count": 183,
     "metadata": {},
     "output_type": "execute_result"
    }
   ],
   "source": [
    "sr2 = pd.Series(['a', 'b', 'c','d','e', 'f','g'])\n",
    "sr.combine(sr2, sunk)"
   ]
  },
  {
   "cell_type": "code",
   "execution_count": 184,
   "id": "06a240d7-e513-44aa-9185-838b01fb342c",
   "metadata": {},
   "outputs": [
    {
     "name": "stdout",
     "output_type": "stream",
     "text": [
      "0    11.0\n",
      "1    22.0\n",
      "2     NaN\n",
      "3     NaN\n",
      "4    55.0\n",
      "dtype: float64\n"
     ]
    }
   ],
   "source": [
    "# Create two sample Series with null values\n",
    "s1 = pd.Series([1, 2, np.nan, 4, 5])\n",
    "s2 = pd.Series([10, 20, 30, np.nan, 50])\n",
    "\n",
    "# Define a function to combine the values from the two Series\n",
    "def custom_function(x, y):\n",
    "    return x + y\n",
    "\n",
    "# Combine the two Series using the custom function and fill null values with 5\n",
    "combined_series = s2.combine(s1,custom_function, fill_value=5)\n",
    "# print(s1)\n",
    "\n",
    "print(combined_series)\n"
   ]
  },
  {
   "cell_type": "code",
   "execution_count": 185,
   "id": "9563d088-c71d-44a6-90c9-bb0dc84f7a87",
   "metadata": {},
   "outputs": [
    {
     "name": "stdout",
     "output_type": "stream",
     "text": [
      "0    5.0\n",
      "1    3.0\n",
      "2    3.0\n",
      "3    NaN\n",
      "dtype: float64\n"
     ]
    }
   ],
   "source": [
    "           \n",
    "first =[1, 2, np.nan,9] \n",
    "#         0  1   2      3  4  5   6\n",
    "# creating second series \n",
    "second =[5, 3, 3,np.nan] \n",
    "#         0   1   2   3     4   5  6\n",
    "# making series \n",
    "first = pd.Series(first) \n",
    " \n",
    "# making seriesa \n",
    "second = pd.Series(second) \n",
    " \n",
    "# calling .combine() method \n",
    "result = first.combine(second, func =(lambda x1, x2: x1 if x1 > x2 else x2), fill_value = 1) \n",
    " \n",
    "# display \n",
    "print(second)"
   ]
  },
  {
   "cell_type": "markdown",
   "id": "6d6f6810-6adb-4325-b76d-90233ca128c7",
   "metadata": {},
   "source": [
    "### Pandas Index.append()\n",
    "The Index.append() method in pandas is used to concatenate or append one index with another. It returns a new index object that includes all the elements from both indexes.\n",
    "\n",
    "The syntax for Index.append() is as follows:\n",
    "\n",
    "\n",
    "Index.append(other)\n",
    "\n",
    "\n",
    "\n",
    "Index refers to the initial index object, and other represents the index object that you want to append to the initial index"
   ]
  },
  {
   "cell_type": "code",
   "execution_count": 186,
   "id": "ba2aa227-4e47-48fc-9c3b-f2e19d7510da",
   "metadata": {},
   "outputs": [
    {
     "name": "stdout",
     "output_type": "stream",
     "text": [
      "Index(['A', 'B', 'C', 'D', 'E', 'F'], dtype='object')\n"
     ]
    }
   ],
   "source": [
    "import pandas as pd\n",
    "\n",
    "index1 = pd.Index(['A', 'B', 'C'])\n",
    "index2 = pd.Index(['D', 'E', 'F'])\n",
    "\n",
    "appended_index = index1.append(index2)\n",
    "print(appended_index)\n"
   ]
  },
  {
   "cell_type": "markdown",
   "id": "209ac32f-30a6-4e42-baab-9a0ebf67bf3e",
   "metadata": {},
   "source": [
    "### concat by using axis\n",
    "\n",
    "To concatenate DataFrames using the pd.concat() function along a specific axis, you can specify the axis parameter. The axis parameter determines the axis along which the concatenation should occur. By default, axis is set to 0, which means concatenation along the rows. If you want to concatenate along the columns, you can set axis to 1.\n"
   ]
  },
  {
   "cell_type": "code",
   "execution_count": 187,
   "id": "7765305f-e1c3-4412-97ab-ff8269170dd5",
   "metadata": {},
   "outputs": [
    {
     "name": "stdout",
     "output_type": "stream",
     "text": [
      "   A  B\n",
      "0  1  4\n",
      "1  2  5\n",
      "2  3  6\n",
      "   C   D\n",
      "0  7  10\n",
      "1  8  11\n",
      "2  9  12\n",
      "   A  B  C   D\n",
      "0  1  4  7  10\n",
      "1  2  5  8  11\n",
      "2  3  6  9  12\n",
      "     A    B    C     D\n",
      "0  1.0  4.0  NaN   NaN\n",
      "1  2.0  5.0  NaN   NaN\n",
      "2  3.0  6.0  NaN   NaN\n",
      "0  NaN  NaN  7.0  10.0\n",
      "1  NaN  NaN  8.0  11.0\n",
      "2  NaN  NaN  9.0  12.0\n"
     ]
    }
   ],
   "source": [
    "# on axis =0\n",
    "import pandas as pd\n",
    "\n",
    "df1 = pd.DataFrame({'A': [1, 2, 3],\n",
    "         'B': [4, 5, 6]})\n",
    "print(df1)\n",
    "\n",
    "df2 = pd.DataFrame ({'C': [7, 8, 9],\n",
    "         'D': [10, 11, 12]})\n",
    "print(df2)\n",
    "\n",
    "print(pd.concat([df1, df2], axis=1))\n",
    "print(pd.concat([df1, df2]))"
   ]
  },
  {
   "cell_type": "code",
   "execution_count": null,
   "id": "87971612-d12d-4805-bad3-455e871508b0",
   "metadata": {},
   "outputs": [],
   "source": []
  },
  {
   "cell_type": "markdown",
   "id": "2a92ea60-c7ed-4399-a094-a78598c67ea0",
   "metadata": {},
   "source": [
    "### To concatenate DataFrames using the pd.concat()\n",
    "function with a specific join method, you can use the join parameter. The join parameter determines how the other axes (if any) should be handled during the concatenation process.\n",
    "\n",
    "The join parameter in pd.concat() can take the following values:\n",
    "\n",
    "'outer': Performs a union of the indexes/columns. This is the default behavior.\n",
    "'inner': Performs an intersection of the indexes/columns.\n",
    "- **join{‘inner’, ‘outer’}, default ‘outer’**: How to handle indexes on other axis (or axes).\n"
   ]
  },
  {
   "cell_type": "code",
   "execution_count": 188,
   "id": "340e5b22-2535-44e5-a591-fd57a97564aa",
   "metadata": {},
   "outputs": [
    {
     "name": "stdout",
     "output_type": "stream",
     "text": [
      "Concatenation with 'outer' join:\n",
      "     A    B    C     D\n",
      "0  1.0  4.0  NaN   NaN\n",
      "1  2.0  5.0  NaN   NaN\n",
      "2  3.0  6.0  NaN   NaN\n",
      "0  NaN  NaN  7.0  10.0\n",
      "1  NaN  NaN  8.0  11.0\n",
      "2  NaN  NaN  9.0  12.0\n",
      "\n",
      "Concatenation with 'inner' join:\n",
      "Empty DataFrame\n",
      "Columns: []\n",
      "Index: [0, 1, 2, 0, 1, 2]\n"
     ]
    }
   ],
   "source": [
    "import pandas as pd\n",
    "\n",
    "\n",
    "df1 = pd.DataFrame({'A': [1, 2, 3],\n",
    "         'B': [4, 5, 6]})\n",
    "\n",
    "df2 = pd.DataFrame ({'C': [7, 8, 9],\n",
    "         'D': [10, 11, 12]})\n",
    "\n",
    "print(\"Concatenation with 'outer' join:\")\n",
    "print(pd.concat([df1, df2], join='outer'))\n",
    "print(\"\\nConcatenation with 'inner' join:\")\n",
    "print(pd.concat([df1, df2], join='inner'))\n"
   ]
  },
  {
   "cell_type": "code",
   "execution_count": 189,
   "id": "578d5628-e57a-4e1d-81b5-e4e459a79297",
   "metadata": {},
   "outputs": [
    {
     "data": {
      "text/html": [
       "<div>\n",
       "<style scoped>\n",
       "    .dataframe tbody tr th:only-of-type {\n",
       "        vertical-align: middle;\n",
       "    }\n",
       "\n",
       "    .dataframe tbody tr th {\n",
       "        vertical-align: top;\n",
       "    }\n",
       "\n",
       "    .dataframe thead th {\n",
       "        text-align: right;\n",
       "    }\n",
       "</style>\n",
       "<table border=\"1\" class=\"dataframe\">\n",
       "  <thead>\n",
       "    <tr style=\"text-align: right;\">\n",
       "      <th></th>\n",
       "      <th>A</th>\n",
       "      <th>B</th>\n",
       "    </tr>\n",
       "  </thead>\n",
       "  <tbody>\n",
       "    <tr>\n",
       "      <th>0</th>\n",
       "      <td>1.0</td>\n",
       "      <td>4.0</td>\n",
       "    </tr>\n",
       "    <tr>\n",
       "      <th>1</th>\n",
       "      <td>2.0</td>\n",
       "      <td>5.0</td>\n",
       "    </tr>\n",
       "    <tr>\n",
       "      <th>2</th>\n",
       "      <td>3.0</td>\n",
       "      <td>6.0</td>\n",
       "    </tr>\n",
       "    <tr>\n",
       "      <th>0</th>\n",
       "      <td>11.0</td>\n",
       "      <td>23.0</td>\n",
       "    </tr>\n",
       "    <tr>\n",
       "      <th>1</th>\n",
       "      <td>21.0</td>\n",
       "      <td>21.0</td>\n",
       "    </tr>\n",
       "    <tr>\n",
       "      <th>2</th>\n",
       "      <td>NaN</td>\n",
       "      <td>NaN</td>\n",
       "    </tr>\n",
       "  </tbody>\n",
       "</table>\n",
       "</div>"
      ],
      "text/plain": [
       "      A     B\n",
       "0   1.0   4.0\n",
       "1   2.0   5.0\n",
       "2   3.0   6.0\n",
       "0  11.0  23.0\n",
       "1  21.0  21.0\n",
       "2   NaN   NaN"
      ]
     },
     "execution_count": 189,
     "metadata": {},
     "output_type": "execute_result"
    }
   ],
   "source": [
    "df1 = pd.DataFrame({'A': [1, 2, 3],\n",
    "         'B': [4, 5, 6]})\n",
    "\n",
    "df2 = pd.DataFrame ({'C': [7, 8, 9],\n",
    "         'D': [10, 11, 12],\n",
    "         'A':[11,21,np.nan],\n",
    "         'B':[23,21,np.nan]})\n",
    "pd.concat([df1,df2], join = 'inner')"
   ]
  },
  {
   "cell_type": "markdown",
   "id": "55d297ba-c164-473f-a4c7-5570cef5dee2",
   "metadata": {},
   "source": [
    "## Grouping Rows in pandas\n",
    "\n",
    "rows together based on a specific column or a set of columns using the groupby() function. Grouping allows you to aggregate data, apply calculations within each group, or perform other operations on grouped data.\n",
    "\n",
    "The basic syntax for grouping rows in pandas is as follows:\n",
    "\n",
    "grouped = dataframe.groupby(by)\n",
    "- Used to determine the groups for the groupby. If by is a function, it’s called on each value of the object’s index. If a dict or Series is passed, the Series or dict VALUES will be used to determine the groups (the Series’ values are first aligned; see .align() method). If a list or ndarray of length equal to the selected axis is passed (see the groupby user guide), the values are used as-is to determine the groups. A label or list of labels may be passed to group by the columns in self. Notice that a tuple is interpreted as a (single) key.\n"
   ]
  },
  {
   "cell_type": "code",
   "execution_count": 190,
   "id": "e871b9fb-c40f-41ee-b77f-4f407c789c1a",
   "metadata": {},
   "outputs": [
    {
     "name": "stdout",
     "output_type": "stream",
     "text": [
      "City\n",
      "London      29.0\n",
      "New York    25.0\n",
      "Paris       35.0\n",
      "Name: Age, dtype: float64\n"
     ]
    }
   ],
   "source": [
    "import pandas as pd\n",
    "\n",
    "data = {'Name': ['John', 'Alice', 'Bob', 'Alice'],\n",
    "        'Age': [25, 30, 35, 28],\n",
    "        'City': ['New York', 'London', 'Paris', 'London']}\n",
    "\n",
    "df = pd.DataFrame(data)\n",
    "\n",
    "# Grouping by 'City'\n",
    "grouped = df.groupby('City')\n",
    "\n",
    "# Calculating the mean age for each city\n",
    "mean_age = grouped['Age'].mean()\n",
    "\n",
    "print(mean_age)\n",
    "\n"
   ]
  },
  {
   "cell_type": "code",
   "execution_count": 192,
   "id": "5d27c8fa-8114-44f3-a28e-203c42044958",
   "metadata": {},
   "outputs": [
    {
     "name": "stdout",
     "output_type": "stream",
     "text": [
      "        Max Speed\n",
      "Animal           \n",
      "Falcon      375.0\n",
      "Parrot       25.0\n"
     ]
    },
    {
     "data": {
      "text/plain": [
       "Animal\n",
       "Falcon    375.0\n",
       "Parrot     25.0\n",
       "Name: Max Speed, dtype: float64"
      ]
     },
     "execution_count": 192,
     "metadata": {},
     "output_type": "execute_result"
    }
   ],
   "source": [
    "df = pd.DataFrame({'Animal': ['Falcon', 'Falcon',\n",
    "                              'Parrot', 'Parrot'],\n",
    "                   'Max Speed': [380., 370., 24., 26.]})\n",
    "print(df.groupby(['Animal']).mean())\n",
    "df.groupby(['Animal'])['Max Speed'].mean()\n"
   ]
  },
  {
   "cell_type": "markdown",
   "id": "67767779-2e36-471b-8a42-6d460220082e",
   "metadata": {},
   "source": [
    "### the str.join() \n",
    "In pandas, the str.join() method is used to concatenate string or list elements with a passed delimiter. This method is available for string-type columns or columns containing lists of strings.\n",
    "\n",
    "The basic syntax for str.join() is as follows:\n",
    "\n",
    "series.str.join(sep)"
   ]
  },
  {
   "cell_type": "code",
   "execution_count": 193,
   "id": "f8c913e5-6788-42c8-a55f-801913a3ecb0",
   "metadata": {},
   "outputs": [
    {
     "name": "stdout",
     "output_type": "stream",
     "text": [
      "    Name            Fruit  Joined_Fruit\n",
      "0   John  [Apple, Banana]  Apple_Banana\n",
      "1  Alice         [Orange]        Orange\n",
      "2    Bob  [Grapes, Mango]  Grapes_Mango\n"
     ]
    }
   ],
   "source": [
    "data = {'Name': ['John', 'Alice', 'Bob'],\n",
    "        'Fruit': [['Apple', 'Banana'], ['Orange'], ['Grapes', 'Mango']]}\n",
    "\n",
    "df = pd.DataFrame(data)\n",
    "\n",
    "# Joining elements in the 'Fruit' column with a comma as delimiter\n",
    "df['Joined_Fruit'] = df['Fruit'].str.join('_')\n",
    "\n",
    "print(df)"
   ]
  },
  {
   "cell_type": "markdown",
   "id": "bfa2e86f-0903-4b52-bc92-5dc8420b5d9e",
   "metadata": {},
   "source": [
    "### str.cat()\n",
    "\n",
    "To join two text columns into a single column in pandas, you can use the + operator or the str.cat() method. Both methods allow you to concatenate the values from two columns into a new column."
   ]
  },
  {
   "cell_type": "code",
   "execution_count": 194,
   "id": "8371011f-d5b1-48fc-af89-c29a71daafe8",
   "metadata": {},
   "outputs": [
    {
     "name": "stdout",
     "output_type": "stream",
     "text": [
      "  First Name Last Name  Full Name  \n",
      "0       John       Doe     John Doe\n",
      "1      Alice     Smith  Alice Smith\n",
      "2        Bob   Johnson  Bob Johnson\n"
     ]
    }
   ],
   "source": [
    "import pandas as pd\n",
    "\n",
    "data = {'First Name': ['John', 'Alice', 'Bob'],\n",
    "        'Last Name': ['Doe', 'Smith', 'Johnson']}\n",
    "\n",
    "df = pd.DataFrame(data)\n",
    "\n",
    "# Joining 'First Name' and 'Last Name' columns using the + operator\n",
    "df['Full Name  '] = df['First Name'] + ' ' + df['Last Name']\n",
    "\n",
    "print(df)"
   ]
  },
  {
   "cell_type": "code",
   "execution_count": 195,
   "id": "c0bca11a-bb79-40c8-be78-004b9d3b9658",
   "metadata": {},
   "outputs": [
    {
     "data": {
      "text/html": [
       "<div>\n",
       "<style scoped>\n",
       "    .dataframe tbody tr th:only-of-type {\n",
       "        vertical-align: middle;\n",
       "    }\n",
       "\n",
       "    .dataframe tbody tr th {\n",
       "        vertical-align: top;\n",
       "    }\n",
       "\n",
       "    .dataframe thead th {\n",
       "        text-align: right;\n",
       "    }\n",
       "</style>\n",
       "<table border=\"1\" class=\"dataframe\">\n",
       "  <thead>\n",
       "    <tr style=\"text-align: right;\">\n",
       "      <th></th>\n",
       "      <th>First Name</th>\n",
       "      <th>Last Name</th>\n",
       "    </tr>\n",
       "  </thead>\n",
       "  <tbody>\n",
       "    <tr>\n",
       "      <th>0</th>\n",
       "      <td>John</td>\n",
       "      <td>Doe</td>\n",
       "    </tr>\n",
       "    <tr>\n",
       "      <th>1</th>\n",
       "      <td>Alice</td>\n",
       "      <td>Smith</td>\n",
       "    </tr>\n",
       "    <tr>\n",
       "      <th>2</th>\n",
       "      <td>Bob</td>\n",
       "      <td>Johnson</td>\n",
       "    </tr>\n",
       "  </tbody>\n",
       "</table>\n",
       "</div>"
      ],
      "text/plain": [
       "  First Name Last Name\n",
       "0       John       Doe\n",
       "1      Alice     Smith\n",
       "2        Bob   Johnson"
      ]
     },
     "execution_count": 195,
     "metadata": {},
     "output_type": "execute_result"
    }
   ],
   "source": [
    "df.drop(['Full Name  '], axis = 1)"
   ]
  },
  {
   "cell_type": "code",
   "execution_count": 196,
   "id": "25a7bc0e-4a44-443f-8b7b-5e9adcbde586",
   "metadata": {},
   "outputs": [],
   "source": [
    "df[\"Full Name\"] = df['First Name'].str.cat(df['Last Name'], sep ='_')"
   ]
  },
  {
   "cell_type": "code",
   "execution_count": 197,
   "id": "b16cbbc4-77e0-45b7-bcbe-5285a18a27c6",
   "metadata": {},
   "outputs": [
    {
     "data": {
      "text/html": [
       "<div>\n",
       "<style scoped>\n",
       "    .dataframe tbody tr th:only-of-type {\n",
       "        vertical-align: middle;\n",
       "    }\n",
       "\n",
       "    .dataframe tbody tr th {\n",
       "        vertical-align: top;\n",
       "    }\n",
       "\n",
       "    .dataframe thead th {\n",
       "        text-align: right;\n",
       "    }\n",
       "</style>\n",
       "<table border=\"1\" class=\"dataframe\">\n",
       "  <thead>\n",
       "    <tr style=\"text-align: right;\">\n",
       "      <th></th>\n",
       "      <th>First Name</th>\n",
       "      <th>Last Name</th>\n",
       "      <th>Full Name</th>\n",
       "      <th>Full Name</th>\n",
       "    </tr>\n",
       "  </thead>\n",
       "  <tbody>\n",
       "    <tr>\n",
       "      <th>0</th>\n",
       "      <td>John</td>\n",
       "      <td>Doe</td>\n",
       "      <td>John Doe</td>\n",
       "      <td>John_Doe</td>\n",
       "    </tr>\n",
       "    <tr>\n",
       "      <th>1</th>\n",
       "      <td>Alice</td>\n",
       "      <td>Smith</td>\n",
       "      <td>Alice Smith</td>\n",
       "      <td>Alice_Smith</td>\n",
       "    </tr>\n",
       "    <tr>\n",
       "      <th>2</th>\n",
       "      <td>Bob</td>\n",
       "      <td>Johnson</td>\n",
       "      <td>Bob Johnson</td>\n",
       "      <td>Bob_Johnson</td>\n",
       "    </tr>\n",
       "  </tbody>\n",
       "</table>\n",
       "</div>"
      ],
      "text/plain": [
       "  First Name Last Name  Full Name      Full Name\n",
       "0       John       Doe     John Doe     John_Doe\n",
       "1      Alice     Smith  Alice Smith  Alice_Smith\n",
       "2        Bob   Johnson  Bob Johnson  Bob_Johnson"
      ]
     },
     "execution_count": 197,
     "metadata": {},
     "output_type": "execute_result"
    }
   ],
   "source": [
    "df"
   ]
  },
  {
   "cell_type": "markdown",
   "id": "623842cc-40a5-49f5-ab9a-cea42df4a4dd",
   "metadata": {},
   "source": [
    "### The lambda function\n",
    "to use a lambda function with the apply() method to join two text columns into a single column in pandas. The lambda function allows you to define a custom transformation on each row of the DataFrame."
   ]
  },
  {
   "cell_type": "code",
   "execution_count": 198,
   "id": "e4a41b60-a61f-4df2-8cdd-ba1bc02aee1d",
   "metadata": {},
   "outputs": [
    {
     "name": "stdout",
     "output_type": "stream",
     "text": [
      "  First Name Last Name    Full Name\n",
      "0       John       Doe     John Doe\n",
      "1      Alice     Smith  Alice Smith\n",
      "2        Bob   Johnson  Bob Johnson\n"
     ]
    }
   ],
   "source": [
    "import pandas as pd\n",
    "\n",
    "data = {'First Name': ['John', 'Alice', 'Bob'],\n",
    "        'Last Name': ['Doe', 'Smith', 'Johnson']}\n",
    "\n",
    "df = pd.DataFrame(data)\n",
    "\n",
    "# Joining 'First Name' and 'Last Name' columns using a lambda function\n",
    "df['Full Name'] = df.apply(lambda row: row['First Name'] + ' ' + row['Last Name'], axis=1)\n",
    "\n",
    "print(df)\n"
   ]
  },
  {
   "cell_type": "markdown",
   "id": "82e8299d-0026-462e-bd6b-e43450163dfc",
   "metadata": {},
   "source": [
    "##  date and time \n",
    "\n",
    "Pandas provides robust functionality for working with date and time data through its Timestamp and DatetimeIndex objects. This allows you to handle various operations on dates and times, including parsing, formatting, indexing, arithmetic, and more.\n"
   ]
  },
  {
   "cell_type": "markdown",
   "id": "ab16490c-ee66-43e0-b23e-63e16a4ba4c8",
   "metadata": {},
   "source": [
    "#### Parsing and Creating Dates: \n",
    "to parse strings representing dates or times using the pd.to_datetime() function. It converts a wide range of date and time formats into Timestamp objects.\n",
    "\n",
    "- pandas.to_datetime(arg, errors='raise', dayfirst=False, yearfirst=False, utc=False, format=None, exact=_NoDefault.no_default, unit=None, infer_datetime_format=_NoDefault.no_default, origin='unix', cache=True)\n",
    "\n",
    "- arg(int, float, str, datetime, list, tuple, 1-d array, Series, DataFrame/dict-like):The object to convert to a datetime. If a DataFrame is provided, the method expects minimally the following columns: \"year\", \"month\", \"day\". The column “year” must be specified in 4-digit format.\n",
    "- errors{‘ignore’, ‘raise’, ‘coerce’}, default ‘raise’\n",
    ". If 'raise', then invalid parsing will raise an exception.\n",
    ". If 'coerce', then invalid parsing will be set as NaT.\n",
    ". If 'ignore', then invalid parsing will return the input.\n",
    "- unit(str, default ‘ns’):The unit of the arg (D,s,ms,us,ns) denote the unit, which is an integer or float number. This will be based off the origin. Example, with unit='ms' and origin='unix', this would calculate the number of milliseconds to the unix epoch start."
   ]
  },
  {
   "cell_type": "code",
   "execution_count": 199,
   "id": "d32d44ca-575a-4f20-8417-e0468625d466",
   "metadata": {},
   "outputs": [
    {
     "name": "stdout",
     "output_type": "stream",
     "text": [
      "2023-05-24 00:00:00\n"
     ]
    }
   ],
   "source": [
    "date_string = '2023-05-24'\n",
    "date = pd.to_datetime(date_string)\n",
    "print(date)\n"
   ]
  },
  {
   "cell_type": "code",
   "execution_count": 200,
   "id": "827f0fdd-c0eb-4749-9617-5e1976d08e36",
   "metadata": {},
   "outputs": [
    {
     "data": {
      "text/plain": [
       "0   2015-02-04\n",
       "1   2016-03-05\n",
       "dtype: datetime64[ns]"
      ]
     },
     "execution_count": 200,
     "metadata": {},
     "output_type": "execute_result"
    }
   ],
   "source": [
    "df = pd.DataFrame({'year': [2015, 2016],\n",
    "                   'month': [2, 3],\n",
    "                   'day': [4, 5]})\n",
    "pd.to_datetime(df)"
   ]
  },
  {
   "cell_type": "code",
   "execution_count": 201,
   "id": "266a6061-4191-466d-8586-a1c17d397010",
   "metadata": {},
   "outputs": [
    {
     "data": {
      "text/plain": [
       "Timestamp('2023-12-31 00:00:00')"
      ]
     },
     "execution_count": 201,
     "metadata": {},
     "output_type": "execute_result"
    }
   ],
   "source": [
    "# - dayfirst=True is useful when your date strings are in a format where the day appears before the month. Here's an example:\n",
    "date_string = '31-12-2023'\n",
    "\n",
    "pd.to_datetime(date_string, dayfirst = True)"
   ]
  },
  {
   "cell_type": "code",
   "execution_count": 202,
   "id": "d8614dda-4a20-434c-8793-4d9f1278d1b8",
   "metadata": {},
   "outputs": [
    {
     "name": "stderr",
     "output_type": "stream",
     "text": [
      "/var/folders/4y/tgmzjnfd59s7t57bcx5m1lzc0000gn/T/ipykernel_93344/1645351037.py:1: UserWarning: Parsing dates in %d-%m-%Y format when dayfirst=False (the default) was specified. Pass `dayfirst=True` or specify a format to silence this warning.\n",
      "  pd.to_datetime(date_string\n"
     ]
    },
    {
     "data": {
      "text/plain": [
       "Timestamp('2023-12-31 00:00:00')"
      ]
     },
     "execution_count": 202,
     "metadata": {},
     "output_type": "execute_result"
    }
   ],
   "source": [
    "pd.to_datetime(date_string\n",
    "              )"
   ]
  },
  {
   "cell_type": "code",
   "execution_count": 203,
   "id": "61dfacb6-0e7a-41b2-aa8d-65afae58501f",
   "metadata": {},
   "outputs": [
    {
     "data": {
      "text/plain": [
       "Timestamp('2017-03-22 15:16:45')"
      ]
     },
     "execution_count": 203,
     "metadata": {},
     "output_type": "execute_result"
    }
   ],
   "source": [
    "pd.to_datetime(1490195805, unit='s')"
   ]
  },
  {
   "cell_type": "code",
   "execution_count": 204,
   "id": "83adfccf-bcb4-4465-ab1a-38ad1fefab09",
   "metadata": {},
   "outputs": [
    {
     "data": {
      "text/plain": [
       "Timestamp('2019-11-05 00:00:00')"
      ]
     },
     "execution_count": 204,
     "metadata": {},
     "output_type": "execute_result"
    }
   ],
   "source": [
    "pd.to_datetime(18205, unit='D')"
   ]
  },
  {
   "cell_type": "markdown",
   "id": "02f0889c-891e-46af-8c8b-90293222c766",
   "metadata": {},
   "source": [
    "#### DatetimeIndex:\n",
    "Pandas has a specialized index object called DatetimeIndex, which allows you to index and manipulate data based on dates and times. You can create a DatetimeIndex from a list of dates or use it directly as the index of a DataFrame."
   ]
  },
  {
   "cell_type": "code",
   "execution_count": 205,
   "id": "d7ad97d0-44e0-4090-aca4-b441ff2544b5",
   "metadata": {},
   "outputs": [
    {
     "name": "stdout",
     "output_type": "stream",
     "text": [
      "            Value\n",
      "2023-05-23     10\n",
      "2023-05-24     20\n",
      "2023-05-25     30\n"
     ]
    }
   ],
   "source": [
    "dates = ['2023-05-23', '2023-05-24', '2023-05-25']\n",
    "values = [10, 20, 30]\n",
    "df = pd.DataFrame({'Value': values}, index=pd.to_datetime(dates))\n",
    "print(df)"
   ]
  },
  {
   "cell_type": "code",
   "execution_count": 206,
   "id": "0115c563-fcc1-42d2-b14a-f25e7dbd7b14",
   "metadata": {},
   "outputs": [
    {
     "name": "stdout",
     "output_type": "stream",
     "text": [
      "                     Value\n",
      "2072-10-12 00:12:48     10\n",
      "2107-05-15 09:06:08     20\n",
      "2043-12-23 03:18:24     30\n"
     ]
    },
    {
     "name": "stderr",
     "output_type": "stream",
     "text": [
      "/var/folders/4y/tgmzjnfd59s7t57bcx5m1lzc0000gn/T/ipykernel_93344/2391352075.py:3: FutureWarning: The behavior of 'to_datetime' with 'unit' when parsing strings is deprecated. In a future version, strings will be parsed as datetime strings, matching the behavior without a 'unit'. To retain the old behavior, explicitly cast ints or floats to numeric type before calling to_datetime.\n",
      "  df = pd.DataFrame({'Value': values}, index=pd.to_datetime(time, unit = 's'))\n"
     ]
    }
   ],
   "source": [
    "time = ['3243456790', '4334893752', '2334453478']\n",
    "values = [10, 20, 30]\n",
    "df = pd.DataFrame({'Value': values}, index=pd.to_datetime(time, unit = 's'))\n",
    "print(df)"
   ]
  },
  {
   "cell_type": "code",
   "execution_count": 207,
   "id": "2b2f2130-a867-4df1-a6a2-9b72f526aae2",
   "metadata": {},
   "outputs": [
    {
     "name": "stdout",
     "output_type": "stream",
     "text": [
      "                     Value\n",
      "2072-10-12 00:12:48     10\n",
      "2107-05-15 09:06:08     20\n",
      "2043-12-23 03:18:24     30\n"
     ]
    },
    {
     "name": "stderr",
     "output_type": "stream",
     "text": [
      "/var/folders/4y/tgmzjnfd59s7t57bcx5m1lzc0000gn/T/ipykernel_93344/1188766123.py:2: FutureWarning: The behavior of 'to_datetime' with 'unit' when parsing strings is deprecated. In a future version, strings will be parsed as datetime strings, matching the behavior without a 'unit'. To retain the old behavior, explicitly cast ints or floats to numeric type before calling to_datetime.\n",
      "  df = pd.DataFrame({'Value': values}, index=pd.to_datetime(['3243456790', '4334893752', '2334453478'], unit = 's'))\n"
     ]
    }
   ],
   "source": [
    "values = [10, 20, 30]\n",
    "df = pd.DataFrame({'Value': values}, index=pd.to_datetime(['3243456790', '4334893752', '2334453478'], unit = 's'))\n",
    "print(df)"
   ]
  },
  {
   "cell_type": "markdown",
   "id": "78a04230-49c5-49d2-8d70-f4bac94fa63d",
   "metadata": {},
   "source": [
    "### Date Range Generation:\n",
    "Pandas provides the pd.date_range() function to generate a range of dates based on specified frequency.\n",
    "- pandas.date_range(start=None, end=None, periods=None, freq=None, tz=None, normalize=False, name=None, inclusive='both', *, unit=None, **kwargs)\n",
    "- periods(int, optional): Number of periods to generate.\n",
    "- freq: (str, Timedelta, datetime.timedelta, or DateOffset, default ‘D’): Frequency strings can have multiples, e.g. ‘5h’. See here( https://pandas.pydata.org/pandas-docs/stable/user_guide/timeseries.html#timeseries-offset-aliases ) for a list of frequency aliases."
   ]
  },
  {
   "cell_type": "code",
   "execution_count": 209,
   "id": "6fa69c75-b377-4934-a94e-5ebb1432e5b6",
   "metadata": {},
   "outputs": [
    {
     "data": {
      "text/plain": [
       "DatetimeIndex(['2023-10-31', '2023-11-30', '2023-12-31', '2024-01-31',\n",
       "               '2024-02-29', '2024-03-31', '2024-04-30', '2024-05-31',\n",
       "               '2024-06-30', '2024-07-31', '2024-08-31', '2024-09-30',\n",
       "               '2024-10-31', '2024-11-30', '2024-12-31'],\n",
       "              dtype='datetime64[ns]', freq='ME')"
      ]
     },
     "execution_count": 209,
     "metadata": {},
     "output_type": "execute_result"
    }
   ],
   "source": [
    "pd.date_range(start = '2023-10-02', end = '2024-12-31', freq = 'ME')"
   ]
  },
  {
   "cell_type": "code",
   "execution_count": 210,
   "id": "78fb3c5e-2a4e-47d2-a3e8-129246f9ba00",
   "metadata": {},
   "outputs": [
    {
     "data": {
      "text/plain": [
       "DatetimeIndex(['2023-10-02', '2023-12-17', '2024-03-02', '2024-05-17',\n",
       "               '2024-08-01', '2024-10-16', '2024-12-31'],\n",
       "              dtype='datetime64[ns]', freq=None)"
      ]
     },
     "execution_count": 210,
     "metadata": {},
     "output_type": "execute_result"
    }
   ],
   "source": [
    "pd.date_range(start = '2023-10-02', end = '2024-12-31', periods = 7)"
   ]
  },
  {
   "cell_type": "markdown",
   "id": "9ff062a9-e721-44f9-939f-d5a5681cda98",
   "metadata": {
    "tags": []
   },
   "source": [
    "#### Resampling and Shifting:\n",
    "Pandas provides functions for resampling time series data, such as upsampling (increasing frequency) and downsampling (decreasing frequency), and shifting dates and times."
   ]
  },
  {
   "cell_type": "code",
   "execution_count": 211,
   "id": "80a65721-a7da-4d24-9d3e-ff2bb75fbe10",
   "metadata": {},
   "outputs": [
    {
     "name": "stdout",
     "output_type": "stream",
     "text": [
      "            Value\n",
      "2023-01-01      0\n",
      "2023-01-02      1\n",
      "2023-01-03      2\n",
      "2023-01-04      3\n",
      "2023-01-05      4\n",
      "...           ...\n",
      "2023-12-27    360\n",
      "2023-12-28    361\n",
      "2023-12-29    362\n",
      "2023-12-30    363\n",
      "2023-12-31    364\n",
      "\n",
      "[365 rows x 1 columns]\n"
     ]
    }
   ],
   "source": [
    "# resampling\n",
    "import pandas as pd\n",
    "\n",
    "# Create a DataFrame with a DatetimeIndex\n",
    "dates = pd.date_range(start='2023-01-01', end='2023-12-31', freq='D')\n",
    "values = range(len(dates))\n",
    "df = pd.DataFrame({'Value': values}, index=dates)\n",
    "print(df)"
   ]
  },
  {
   "cell_type": "code",
   "execution_count": 212,
   "id": "f10632a6-20a5-461c-b91a-d1c97c685e4b",
   "metadata": {},
   "outputs": [
    {
     "name": "stderr",
     "output_type": "stream",
     "text": [
      "/var/folders/4y/tgmzjnfd59s7t57bcx5m1lzc0000gn/T/ipykernel_93344/3390407819.py:2: FutureWarning: 'M' is deprecated and will be removed in a future version, please use 'ME' instead.\n",
      "  df['Value'].resample('3M').mean()\n"
     ]
    },
    {
     "data": {
      "text/plain": [
       "2023-01-31     15.0\n",
       "2023-04-30     75.0\n",
       "2023-07-31    165.5\n",
       "2023-10-31    257.5\n",
       "2024-01-31    334.0\n",
       "Freq: 3ME, Name: Value, dtype: float64"
      ]
     },
     "execution_count": 212,
     "metadata": {},
     "output_type": "execute_result"
    }
   ],
   "source": [
    "# resampling the data to  3 monthly frequeancy and calculating values monthly mean\n",
    "df['Value'].resample('3M').mean()"
   ]
  },
  {
   "cell_type": "code",
   "execution_count": 213,
   "id": "e6b20f60-e682-445f-97ea-42ce510b2275",
   "metadata": {},
   "outputs": [
    {
     "name": "stderr",
     "output_type": "stream",
     "text": [
      "/var/folders/4y/tgmzjnfd59s7t57bcx5m1lzc0000gn/T/ipykernel_93344/2079641872.py:1: FutureWarning: 'M' is deprecated and will be removed in a future version, please use 'ME' instead.\n",
      "  df['Value'].resample('3M').std()\n"
     ]
    },
    {
     "data": {
      "text/plain": [
       "2023-01-31     9.092121\n",
       "2023-04-30    25.836021\n",
       "2023-07-31    26.702060\n",
       "2023-10-31    26.702060\n",
       "2024-01-31    17.752934\n",
       "Freq: 3ME, Name: Value, dtype: float64"
      ]
     },
     "execution_count": 213,
     "metadata": {},
     "output_type": "execute_result"
    }
   ],
   "source": [
    "df['Value'].resample('3M').std()"
   ]
  },
  {
   "cell_type": "code",
   "execution_count": 214,
   "id": "3a584ebe-36c7-4813-b65a-db0e95d19546",
   "metadata": {},
   "outputs": [
    {
     "data": {
      "text/plain": [
       "2023-01-01     105\n",
       "2023-01-16     330\n",
       "2023-01-31     555\n",
       "2023-02-15     780\n",
       "2023-03-02    1005\n",
       "2023-03-17    1230\n",
       "2023-04-01    1455\n",
       "2023-04-16    1680\n",
       "2023-05-01    1905\n",
       "2023-05-16    2130\n",
       "2023-05-31    2355\n",
       "2023-06-15    2580\n",
       "2023-06-30    2805\n",
       "2023-07-15    3030\n",
       "2023-07-30    3255\n",
       "2023-08-14    3480\n",
       "2023-08-29    3705\n",
       "2023-09-13    3930\n",
       "2023-09-28    4155\n",
       "2023-10-13    4380\n",
       "2023-10-28    4605\n",
       "2023-11-12    4830\n",
       "2023-11-27    5055\n",
       "2023-12-12    5280\n",
       "2023-12-27    1810\n",
       "Freq: 15D, Name: Value, dtype: int64"
      ]
     },
     "execution_count": 214,
     "metadata": {},
     "output_type": "execute_result"
    }
   ],
   "source": [
    "df['Value'].resample('15D').sum()"
   ]
  },
  {
   "cell_type": "code",
   "execution_count": 215,
   "id": "6cc64a1b-cba9-417a-b92b-529f397e38ba",
   "metadata": {},
   "outputs": [
    {
     "data": {
      "text/plain": [
       "2023-01-16     105\n",
       "2023-01-31     330\n",
       "2023-02-15     555\n",
       "2023-03-02     780\n",
       "2023-03-17    1005\n",
       "2023-04-01    1230\n",
       "2023-04-16    1455\n",
       "2023-05-01    1680\n",
       "2023-05-16    1905\n",
       "2023-05-31    2130\n",
       "2023-06-15    2355\n",
       "2023-06-30    2580\n",
       "2023-07-15    2805\n",
       "2023-07-30    3030\n",
       "2023-08-14    3255\n",
       "2023-08-29    3480\n",
       "2023-09-13    3705\n",
       "2023-09-28    3930\n",
       "2023-10-13    4155\n",
       "2023-10-28    4380\n",
       "2023-11-12    4605\n",
       "2023-11-27    4830\n",
       "2023-12-12    5055\n",
       "2023-12-27    5280\n",
       "2024-01-11    1810\n",
       "Freq: 15D, Name: Value, dtype: int64"
      ]
     },
     "execution_count": 215,
     "metadata": {},
     "output_type": "execute_result"
    }
   ],
   "source": [
    "df['Value'].resample('15D', label = 'right').sum()"
   ]
  },
  {
   "cell_type": "code",
   "execution_count": 216,
   "id": "baa534c7-3c6d-4bfd-aa2a-1b4fbb21f586",
   "metadata": {},
   "outputs": [
    {
     "data": {
      "text/plain": [
       "2023-01-01       0\n",
       "2023-01-16     120\n",
       "2023-01-31     345\n",
       "2023-02-15     570\n",
       "2023-03-02     795\n",
       "2023-03-17    1020\n",
       "2023-04-01    1245\n",
       "2023-04-16    1470\n",
       "2023-05-01    1695\n",
       "2023-05-16    1920\n",
       "2023-05-31    2145\n",
       "2023-06-15    2370\n",
       "2023-06-30    2595\n",
       "2023-07-15    2820\n",
       "2023-07-30    3045\n",
       "2023-08-14    3270\n",
       "2023-08-29    3495\n",
       "2023-09-13    3720\n",
       "2023-09-28    3945\n",
       "2023-10-13    4170\n",
       "2023-10-28    4395\n",
       "2023-11-12    4620\n",
       "2023-11-27    4845\n",
       "2023-12-12    5070\n",
       "2023-12-27    5295\n",
       "2024-01-11    1450\n",
       "Freq: 15D, Name: Value, dtype: int64"
      ]
     },
     "execution_count": 216,
     "metadata": {},
     "output_type": "execute_result"
    }
   ],
   "source": [
    "#To include this value close the right side of the bin interval, as shown below.\n",
    "df['Value'].resample('15D', label = 'right', closed = 'right').sum()"
   ]
  },
  {
   "cell_type": "code",
   "execution_count": 217,
   "id": "5feb54ab-0b8b-42d2-952d-56e66bb2d01a",
   "metadata": {},
   "outputs": [
    {
     "data": {
      "text/plain": [
       "2000-01-01 00:00:00     0\n",
       "2000-01-01 00:03:00     6\n",
       "2000-01-01 00:06:00    15\n",
       "2000-01-01 00:09:00    15\n",
       "Freq: 3min, dtype: int64"
      ]
     },
     "execution_count": 217,
     "metadata": {},
     "output_type": "execute_result"
    }
   ],
   "source": [
    "index = pd.date_range('1/1/2000', periods=9, freq='min')\n",
    "series = pd.Series(range(9), index=index)\n",
    "#series\n",
    "series.resample('3min', label='right', closed='right').sum()"
   ]
  },
  {
   "cell_type": "markdown",
   "id": "7252b9e3-f48f-4a50-9458-46c29347a360",
   "metadata": {
    "tags": []
   },
   "source": [
    "#### shifting"
   ]
  },
  {
   "cell_type": "markdown",
   "id": "c591bacd-a25a-4f7d-8c45-9354ab4dbaf5",
   "metadata": {},
   "source": [
    "##### pandas.DataFrame.shift:\n",
    "- DataFrame.shift(periods=1, freq=None, axis=0, fill_value=_NoDefault.no_default, suffix=None)"
   ]
  },
  {
   "cell_type": "code",
   "execution_count": 218,
   "id": "ca7675a0-8878-4815-a223-7e01ed5eadb2",
   "metadata": {},
   "outputs": [],
   "source": [
    "dates = pd.date_range(start='2023-01-01', periods=5, freq='D')\n",
    "values = [10, 20, 30, 40, 50]\n",
    "df = pd.DataFrame({'Value': values}, index=dates)"
   ]
  },
  {
   "cell_type": "code",
   "execution_count": 219,
   "id": "0b6857bf-f764-41b7-bc5d-2ec57db41294",
   "metadata": {},
   "outputs": [
    {
     "data": {
      "text/plain": [
       "2023-01-01     NaN\n",
       "2023-01-02    10.0\n",
       "2023-01-03    20.0\n",
       "2023-01-04    30.0\n",
       "2023-01-05    40.0\n",
       "Freq: D, Name: Value, dtype: float64"
      ]
     },
     "execution_count": 219,
     "metadata": {},
     "output_type": "execute_result"
    }
   ],
   "source": [
    "df['Value'].shift(1)"
   ]
  },
  {
   "cell_type": "code",
   "execution_count": 220,
   "id": "230427c4-33ad-4dff-a5ed-1cf04e1bca5a",
   "metadata": {},
   "outputs": [
    {
     "data": {
      "text/html": [
       "<div>\n",
       "<style scoped>\n",
       "    .dataframe tbody tr th:only-of-type {\n",
       "        vertical-align: middle;\n",
       "    }\n",
       "\n",
       "    .dataframe tbody tr th {\n",
       "        vertical-align: top;\n",
       "    }\n",
       "\n",
       "    .dataframe thead th {\n",
       "        text-align: right;\n",
       "    }\n",
       "</style>\n",
       "<table border=\"1\" class=\"dataframe\">\n",
       "  <thead>\n",
       "    <tr style=\"text-align: right;\">\n",
       "      <th></th>\n",
       "      <th>Unnamed: 0</th>\n",
       "      <th>case_id</th>\n",
       "      <th>date_time</th>\n",
       "      <th>customer_id</th>\n",
       "      <th>channel</th>\n",
       "      <th>reason</th>\n",
       "    </tr>\n",
       "  </thead>\n",
       "  <tbody>\n",
       "    <tr>\n",
       "      <th>0</th>\n",
       "      <td>1</td>\n",
       "      <td>None</td>\n",
       "      <td>2017-01-01 10:32:03</td>\n",
       "      <td>C2448</td>\n",
       "      <td>phone</td>\n",
       "      <td>signup</td>\n",
       "    </tr>\n",
       "    <tr>\n",
       "      <th>1</th>\n",
       "      <td>2</td>\n",
       "      <td>None</td>\n",
       "      <td>2017-01-01 11:35:47</td>\n",
       "      <td>C2449</td>\n",
       "      <td>phone</td>\n",
       "      <td>signup</td>\n",
       "    </tr>\n",
       "    <tr>\n",
       "      <th>2</th>\n",
       "      <td>3</td>\n",
       "      <td>None</td>\n",
       "      <td>2017-01-01 11:37:09</td>\n",
       "      <td>C2450</td>\n",
       "      <td>phone</td>\n",
       "      <td>signup</td>\n",
       "    </tr>\n",
       "    <tr>\n",
       "      <th>3</th>\n",
       "      <td>4</td>\n",
       "      <td>None</td>\n",
       "      <td>2017-01-01 13:28:14</td>\n",
       "      <td>C2451</td>\n",
       "      <td>phone</td>\n",
       "      <td>signup</td>\n",
       "    </tr>\n",
       "    <tr>\n",
       "      <th>4</th>\n",
       "      <td>5</td>\n",
       "      <td>None</td>\n",
       "      <td>2017-01-01 13:52:22</td>\n",
       "      <td>C2452</td>\n",
       "      <td>phone</td>\n",
       "      <td>signup</td>\n",
       "    </tr>\n",
       "  </tbody>\n",
       "</table>\n",
       "</div>"
      ],
      "text/plain": [
       "   Unnamed: 0 case_id            date_time customer_id channel  reason\n",
       "0           1    None  2017-01-01 10:32:03       C2448   phone  signup\n",
       "1           2    None  2017-01-01 11:35:47       C2449   phone  signup\n",
       "2           3    None  2017-01-01 11:37:09       C2450   phone  signup\n",
       "3           4    None  2017-01-01 13:28:14       C2451   phone  signup\n",
       "4           5    None  2017-01-01 13:52:22       C2452   phone  signup"
      ]
     },
     "execution_count": 220,
     "metadata": {},
     "output_type": "execute_result"
    }
   ],
   "source": [
    "df = pd.read_csv('customer_cases.csv')\n",
    "df['case_id'] = df['case_id'].shift(5)\n",
    "df.head()"
   ]
  },
  {
   "cell_type": "code",
   "execution_count": 221,
   "id": "87c5124b-bc44-478c-9d9e-8dab285d8f8e",
   "metadata": {},
   "outputs": [],
   "source": [
    "df = pd.read_csv('customer_cases.csv')"
   ]
  },
  {
   "cell_type": "code",
   "execution_count": 222,
   "id": "5ec0ddc7-3ea2-4307-994f-5da488c96499",
   "metadata": {},
   "outputs": [
    {
     "data": {
      "text/html": [
       "<div>\n",
       "<style scoped>\n",
       "    .dataframe tbody tr th:only-of-type {\n",
       "        vertical-align: middle;\n",
       "    }\n",
       "\n",
       "    .dataframe tbody tr th {\n",
       "        vertical-align: top;\n",
       "    }\n",
       "\n",
       "    .dataframe thead th {\n",
       "        text-align: right;\n",
       "    }\n",
       "</style>\n",
       "<table border=\"1\" class=\"dataframe\">\n",
       "  <thead>\n",
       "    <tr style=\"text-align: right;\">\n",
       "      <th></th>\n",
       "      <th>Unnamed: 0</th>\n",
       "      <th>case_id</th>\n",
       "      <th>date_time</th>\n",
       "      <th>customer_id</th>\n",
       "      <th>channel</th>\n",
       "      <th>reason</th>\n",
       "    </tr>\n",
       "  </thead>\n",
       "  <tbody>\n",
       "    <tr>\n",
       "      <th>0</th>\n",
       "      <td>NaN</td>\n",
       "      <td>None</td>\n",
       "      <td>None</td>\n",
       "      <td>None</td>\n",
       "      <td>None</td>\n",
       "      <td>None</td>\n",
       "    </tr>\n",
       "    <tr>\n",
       "      <th>1</th>\n",
       "      <td>1.0</td>\n",
       "      <td>CC101</td>\n",
       "      <td>2017-01-01 10:32:03</td>\n",
       "      <td>C2448</td>\n",
       "      <td>phone</td>\n",
       "      <td>signup</td>\n",
       "    </tr>\n",
       "    <tr>\n",
       "      <th>2</th>\n",
       "      <td>2.0</td>\n",
       "      <td>CC102</td>\n",
       "      <td>2017-01-01 11:35:47</td>\n",
       "      <td>C2449</td>\n",
       "      <td>phone</td>\n",
       "      <td>signup</td>\n",
       "    </tr>\n",
       "    <tr>\n",
       "      <th>3</th>\n",
       "      <td>3.0</td>\n",
       "      <td>CC103</td>\n",
       "      <td>2017-01-01 11:37:09</td>\n",
       "      <td>C2450</td>\n",
       "      <td>phone</td>\n",
       "      <td>signup</td>\n",
       "    </tr>\n",
       "    <tr>\n",
       "      <th>4</th>\n",
       "      <td>4.0</td>\n",
       "      <td>CC104</td>\n",
       "      <td>2017-01-01 13:28:14</td>\n",
       "      <td>C2451</td>\n",
       "      <td>phone</td>\n",
       "      <td>signup</td>\n",
       "    </tr>\n",
       "    <tr>\n",
       "      <th>...</th>\n",
       "      <td>...</td>\n",
       "      <td>...</td>\n",
       "      <td>...</td>\n",
       "      <td>...</td>\n",
       "      <td>...</td>\n",
       "      <td>...</td>\n",
       "    </tr>\n",
       "    <tr>\n",
       "      <th>330507</th>\n",
       "      <td>330507.0</td>\n",
       "      <td>CC330607</td>\n",
       "      <td>2021-12-31 19:11:01</td>\n",
       "      <td>C120740</td>\n",
       "      <td>email</td>\n",
       "      <td>support</td>\n",
       "    </tr>\n",
       "    <tr>\n",
       "      <th>330508</th>\n",
       "      <td>330508.0</td>\n",
       "      <td>CC330608</td>\n",
       "      <td>2021-12-31 19:16:28</td>\n",
       "      <td>C173079</td>\n",
       "      <td>email</td>\n",
       "      <td>support</td>\n",
       "    </tr>\n",
       "    <tr>\n",
       "      <th>330509</th>\n",
       "      <td>330509.0</td>\n",
       "      <td>CC330609</td>\n",
       "      <td>2021-12-31 19:36:42</td>\n",
       "      <td>C497581</td>\n",
       "      <td>email</td>\n",
       "      <td>support</td>\n",
       "    </tr>\n",
       "    <tr>\n",
       "      <th>330510</th>\n",
       "      <td>330510.0</td>\n",
       "      <td>CC330610</td>\n",
       "      <td>2021-12-31 20:30:02</td>\n",
       "      <td>C127630</td>\n",
       "      <td>email</td>\n",
       "      <td>support</td>\n",
       "    </tr>\n",
       "    <tr>\n",
       "      <th>330511</th>\n",
       "      <td>330511.0</td>\n",
       "      <td>CC330611</td>\n",
       "      <td>2021-12-31 21:30:00</td>\n",
       "      <td>C497538</td>\n",
       "      <td>email</td>\n",
       "      <td>support</td>\n",
       "    </tr>\n",
       "  </tbody>\n",
       "</table>\n",
       "<p>330512 rows × 6 columns</p>\n",
       "</div>"
      ],
      "text/plain": [
       "        Unnamed: 0   case_id            date_time customer_id channel   reason\n",
       "0              NaN      None                 None        None    None     None\n",
       "1              1.0     CC101  2017-01-01 10:32:03       C2448   phone   signup\n",
       "2              2.0     CC102  2017-01-01 11:35:47       C2449   phone   signup\n",
       "3              3.0     CC103  2017-01-01 11:37:09       C2450   phone   signup\n",
       "4              4.0     CC104  2017-01-01 13:28:14       C2451   phone   signup\n",
       "...            ...       ...                  ...         ...     ...      ...\n",
       "330507    330507.0  CC330607  2021-12-31 19:11:01     C120740   email  support\n",
       "330508    330508.0  CC330608  2021-12-31 19:16:28     C173079   email  support\n",
       "330509    330509.0  CC330609  2021-12-31 19:36:42     C497581   email  support\n",
       "330510    330510.0  CC330610  2021-12-31 20:30:02     C127630   email  support\n",
       "330511    330511.0  CC330611  2021-12-31 21:30:00     C497538   email  support\n",
       "\n",
       "[330512 rows x 6 columns]"
      ]
     },
     "execution_count": 222,
     "metadata": {},
     "output_type": "execute_result"
    }
   ],
   "source": [
    "df.shift(1)"
   ]
  },
  {
   "cell_type": "code",
   "execution_count": 223,
   "id": "26764ead-f329-4643-94e5-6715cbe53898",
   "metadata": {},
   "outputs": [
    {
     "data": {
      "text/html": [
       "<div>\n",
       "<style scoped>\n",
       "    .dataframe tbody tr th:only-of-type {\n",
       "        vertical-align: middle;\n",
       "    }\n",
       "\n",
       "    .dataframe tbody tr th {\n",
       "        vertical-align: top;\n",
       "    }\n",
       "\n",
       "    .dataframe thead th {\n",
       "        text-align: right;\n",
       "    }\n",
       "</style>\n",
       "<table border=\"1\" class=\"dataframe\">\n",
       "  <thead>\n",
       "    <tr style=\"text-align: right;\">\n",
       "      <th></th>\n",
       "      <th>Unnamed: 0</th>\n",
       "      <th>case_id</th>\n",
       "      <th>date_time</th>\n",
       "      <th>customer_id</th>\n",
       "      <th>channel</th>\n",
       "      <th>reason</th>\n",
       "    </tr>\n",
       "  </thead>\n",
       "  <tbody>\n",
       "    <tr>\n",
       "      <th>0</th>\n",
       "      <td>NaN</td>\n",
       "      <td>1</td>\n",
       "      <td>CC101</td>\n",
       "      <td>2017-01-01 10:32:03</td>\n",
       "      <td>C2448</td>\n",
       "      <td>phone</td>\n",
       "    </tr>\n",
       "    <tr>\n",
       "      <th>1</th>\n",
       "      <td>NaN</td>\n",
       "      <td>2</td>\n",
       "      <td>CC102</td>\n",
       "      <td>2017-01-01 11:35:47</td>\n",
       "      <td>C2449</td>\n",
       "      <td>phone</td>\n",
       "    </tr>\n",
       "    <tr>\n",
       "      <th>2</th>\n",
       "      <td>NaN</td>\n",
       "      <td>3</td>\n",
       "      <td>CC103</td>\n",
       "      <td>2017-01-01 11:37:09</td>\n",
       "      <td>C2450</td>\n",
       "      <td>phone</td>\n",
       "    </tr>\n",
       "    <tr>\n",
       "      <th>3</th>\n",
       "      <td>NaN</td>\n",
       "      <td>4</td>\n",
       "      <td>CC104</td>\n",
       "      <td>2017-01-01 13:28:14</td>\n",
       "      <td>C2451</td>\n",
       "      <td>phone</td>\n",
       "    </tr>\n",
       "    <tr>\n",
       "      <th>4</th>\n",
       "      <td>NaN</td>\n",
       "      <td>5</td>\n",
       "      <td>CC105</td>\n",
       "      <td>2017-01-01 13:52:22</td>\n",
       "      <td>C2452</td>\n",
       "      <td>phone</td>\n",
       "    </tr>\n",
       "    <tr>\n",
       "      <th>...</th>\n",
       "      <td>...</td>\n",
       "      <td>...</td>\n",
       "      <td>...</td>\n",
       "      <td>...</td>\n",
       "      <td>...</td>\n",
       "      <td>...</td>\n",
       "    </tr>\n",
       "    <tr>\n",
       "      <th>330507</th>\n",
       "      <td>NaN</td>\n",
       "      <td>330508</td>\n",
       "      <td>CC330608</td>\n",
       "      <td>2021-12-31 19:16:28</td>\n",
       "      <td>C173079</td>\n",
       "      <td>email</td>\n",
       "    </tr>\n",
       "    <tr>\n",
       "      <th>330508</th>\n",
       "      <td>NaN</td>\n",
       "      <td>330509</td>\n",
       "      <td>CC330609</td>\n",
       "      <td>2021-12-31 19:36:42</td>\n",
       "      <td>C497581</td>\n",
       "      <td>email</td>\n",
       "    </tr>\n",
       "    <tr>\n",
       "      <th>330509</th>\n",
       "      <td>NaN</td>\n",
       "      <td>330510</td>\n",
       "      <td>CC330610</td>\n",
       "      <td>2021-12-31 20:30:02</td>\n",
       "      <td>C127630</td>\n",
       "      <td>email</td>\n",
       "    </tr>\n",
       "    <tr>\n",
       "      <th>330510</th>\n",
       "      <td>NaN</td>\n",
       "      <td>330511</td>\n",
       "      <td>CC330611</td>\n",
       "      <td>2021-12-31 21:30:00</td>\n",
       "      <td>C497538</td>\n",
       "      <td>email</td>\n",
       "    </tr>\n",
       "    <tr>\n",
       "      <th>330511</th>\n",
       "      <td>NaN</td>\n",
       "      <td>330512</td>\n",
       "      <td>CC330612</td>\n",
       "      <td>2022-01-01 06:32:53</td>\n",
       "      <td>C485032</td>\n",
       "      <td>phone</td>\n",
       "    </tr>\n",
       "  </tbody>\n",
       "</table>\n",
       "<p>330512 rows × 6 columns</p>\n",
       "</div>"
      ],
      "text/plain": [
       "        Unnamed: 0  case_id date_time          customer_id  channel reason\n",
       "0              NaN        1     CC101  2017-01-01 10:32:03    C2448  phone\n",
       "1              NaN        2     CC102  2017-01-01 11:35:47    C2449  phone\n",
       "2              NaN        3     CC103  2017-01-01 11:37:09    C2450  phone\n",
       "3              NaN        4     CC104  2017-01-01 13:28:14    C2451  phone\n",
       "4              NaN        5     CC105  2017-01-01 13:52:22    C2452  phone\n",
       "...            ...      ...       ...                  ...      ...    ...\n",
       "330507         NaN   330508  CC330608  2021-12-31 19:16:28  C173079  email\n",
       "330508         NaN   330509  CC330609  2021-12-31 19:36:42  C497581  email\n",
       "330509         NaN   330510  CC330610  2021-12-31 20:30:02  C127630  email\n",
       "330510         NaN   330511  CC330611  2021-12-31 21:30:00  C497538  email\n",
       "330511         NaN   330512  CC330612  2022-01-01 06:32:53  C485032  phone\n",
       "\n",
       "[330512 rows x 6 columns]"
      ]
     },
     "execution_count": 223,
     "metadata": {},
     "output_type": "execute_result"
    }
   ],
   "source": [
    "df.shift(1, axis = 1)"
   ]
  },
  {
   "cell_type": "markdown",
   "id": "b60734a1-f969-4094-a015-9b183d38fff5",
   "metadata": {},
   "source": [
    "### Time-based Indexing and Slicing\n",
    "Time-based Indexing and Slicing in Pandas allow you to select and manipulate data based on specific dates or time ranges"
   ]
  },
  {
   "cell_type": "code",
   "execution_count": 224,
   "id": "9fb24de8-67a4-4455-8a57-1238fed33238",
   "metadata": {},
   "outputs": [
    {
     "data": {
      "text/html": [
       "<div>\n",
       "<style scoped>\n",
       "    .dataframe tbody tr th:only-of-type {\n",
       "        vertical-align: middle;\n",
       "    }\n",
       "\n",
       "    .dataframe tbody tr th {\n",
       "        vertical-align: top;\n",
       "    }\n",
       "\n",
       "    .dataframe thead th {\n",
       "        text-align: right;\n",
       "    }\n",
       "</style>\n",
       "<table border=\"1\" class=\"dataframe\">\n",
       "  <thead>\n",
       "    <tr style=\"text-align: right;\">\n",
       "      <th></th>\n",
       "      <th>Value</th>\n",
       "    </tr>\n",
       "  </thead>\n",
       "  <tbody>\n",
       "    <tr>\n",
       "      <th>2023-10-23 00:00:00</th>\n",
       "      <td>10</td>\n",
       "    </tr>\n",
       "    <tr>\n",
       "      <th>2024-01-16 18:00:00</th>\n",
       "      <td>20</td>\n",
       "    </tr>\n",
       "    <tr>\n",
       "      <th>2024-04-11 12:00:00</th>\n",
       "      <td>30</td>\n",
       "    </tr>\n",
       "    <tr>\n",
       "      <th>2024-07-06 06:00:00</th>\n",
       "      <td>40</td>\n",
       "    </tr>\n",
       "    <tr>\n",
       "      <th>2024-09-30 00:00:00</th>\n",
       "      <td>50</td>\n",
       "    </tr>\n",
       "  </tbody>\n",
       "</table>\n",
       "</div>"
      ],
      "text/plain": [
       "                     Value\n",
       "2023-10-23 00:00:00     10\n",
       "2024-01-16 18:00:00     20\n",
       "2024-04-11 12:00:00     30\n",
       "2024-07-06 06:00:00     40\n",
       "2024-09-30 00:00:00     50"
      ]
     },
     "execution_count": 224,
     "metadata": {},
     "output_type": "execute_result"
    }
   ],
   "source": [
    "# Create a DataFrame with a DatetimeIndex\n",
    "dates = pd.date_range(start = '2023-10-23', end =  '2024-09-30', periods = 5)\n",
    "values = [10, 20, 30, 40, 50]\n",
    "df = pd.DataFrame({'Value': values}, index=dates)\n",
    "df\n",
    "#  # Index the DataFrame using a specific date\n",
    "# specific_date = pd.to_datetime('2024-02-02')\n",
    "# specific_row = pd.loc[specific_date]"
   ]
  },
  {
   "cell_type": "code",
   "execution_count": 225,
   "id": "c0c5bf75-99c7-4617-859d-9edb56b158fd",
   "metadata": {},
   "outputs": [
    {
     "data": {
      "text/plain": [
       "Value    50\n",
       "Name: 2024-09-30 00:00:00, dtype: int64"
      ]
     },
     "execution_count": 225,
     "metadata": {},
     "output_type": "execute_result"
    }
   ],
   "source": [
    " # Index the DataFrame using a specific date\n",
    "specific_date = pd.to_datetime('2024-09-30')\n",
    "df.loc[specific_date]"
   ]
  },
  {
   "cell_type": "code",
   "execution_count": 226,
   "id": "226e652f-893d-42c0-bedf-bd0e78e46a8c",
   "metadata": {},
   "outputs": [
    {
     "data": {
      "text/html": [
       "<div>\n",
       "<style scoped>\n",
       "    .dataframe tbody tr th:only-of-type {\n",
       "        vertical-align: middle;\n",
       "    }\n",
       "\n",
       "    .dataframe tbody tr th {\n",
       "        vertical-align: top;\n",
       "    }\n",
       "\n",
       "    .dataframe thead th {\n",
       "        text-align: right;\n",
       "    }\n",
       "</style>\n",
       "<table border=\"1\" class=\"dataframe\">\n",
       "  <thead>\n",
       "    <tr style=\"text-align: right;\">\n",
       "      <th></th>\n",
       "      <th>value</th>\n",
       "    </tr>\n",
       "  </thead>\n",
       "  <tbody>\n",
       "    <tr>\n",
       "      <th>2023-01-03</th>\n",
       "      <td>0</td>\n",
       "    </tr>\n",
       "    <tr>\n",
       "      <th>2023-01-04</th>\n",
       "      <td>1</td>\n",
       "    </tr>\n",
       "    <tr>\n",
       "      <th>2023-01-05</th>\n",
       "      <td>2</td>\n",
       "    </tr>\n",
       "    <tr>\n",
       "      <th>2023-01-06</th>\n",
       "      <td>3</td>\n",
       "    </tr>\n",
       "    <tr>\n",
       "      <th>2023-01-07</th>\n",
       "      <td>4</td>\n",
       "    </tr>\n",
       "    <tr>\n",
       "      <th>2023-01-08</th>\n",
       "      <td>5</td>\n",
       "    </tr>\n",
       "    <tr>\n",
       "      <th>2023-01-09</th>\n",
       "      <td>6</td>\n",
       "    </tr>\n",
       "    <tr>\n",
       "      <th>2023-01-10</th>\n",
       "      <td>7</td>\n",
       "    </tr>\n",
       "    <tr>\n",
       "      <th>2023-01-11</th>\n",
       "      <td>8</td>\n",
       "    </tr>\n",
       "    <tr>\n",
       "      <th>2023-01-12</th>\n",
       "      <td>9</td>\n",
       "    </tr>\n",
       "  </tbody>\n",
       "</table>\n",
       "</div>"
      ],
      "text/plain": [
       "            value\n",
       "2023-01-03      0\n",
       "2023-01-04      1\n",
       "2023-01-05      2\n",
       "2023-01-06      3\n",
       "2023-01-07      4\n",
       "2023-01-08      5\n",
       "2023-01-09      6\n",
       "2023-01-10      7\n",
       "2023-01-11      8\n",
       "2023-01-12      9"
      ]
     },
     "execution_count": 226,
     "metadata": {},
     "output_type": "execute_result"
    }
   ],
   "source": [
    "#### slicing daet ranges\n",
    "dates = pd.date_range(start='2023-01-03', periods=10, freq = 'D')\n",
    "values = range(10)\n",
    "df = pd.DataFrame({'value':values}, index = dates)\n",
    "df"
   ]
  },
  {
   "cell_type": "code",
   "execution_count": 227,
   "id": "7a396e8f-0d8a-4bae-a145-c8ff337a2f10",
   "metadata": {},
   "outputs": [
    {
     "name": "stdout",
     "output_type": "stream",
     "text": [
      "            value\n",
      "2023-01-03      0\n",
      "2023-01-04      1\n",
      "2023-01-05      2\n",
      "2023-01-06      3\n"
     ]
    }
   ],
   "source": [
    "# # Slice the DataFrame for a specific date range\n",
    "date_range = pd.date_range(start='2023-01-03', end='2023-01-06')\n",
    "sliced_data = df.loc[date_range]\n",
    "print(sliced_data)"
   ]
  },
  {
   "cell_type": "markdown",
   "id": "dcb0337b-2ffa-4157-b933-92c3ce188b24",
   "metadata": {},
   "source": [
    "#### pandas timestamp now\n",
    "To get the current timestamp in Pandas, you can use the pd.Timestamp.now() function. It returns the current date and time as a Pandas Timestamp object."
   ]
  },
  {
   "cell_type": "markdown",
   "id": "2c26cd05-de10-4f6a-815e-d69362e79c97",
   "metadata": {},
   "source": [
    "current_time = pd.Timestamp.now()\n",
    "print(current_time)"
   ]
  },
  {
   "cell_type": "markdown",
   "id": "0142afc6-1691-4733-b046-a8e54f36547e",
   "metadata": {},
   "source": [
    "#### pandas timestamp isoformat\n",
    "The Timestamp.isoformat() method is used to return the string representation of a timestamp in ISO 8601 format. It converts a Pandas Timestamp object into a string that represents the timestamp in a standardized format."
   ]
  },
  {
   "cell_type": "code",
   "execution_count": 228,
   "id": "1246c5de-f439-450b-831a-311abe6c8d9d",
   "metadata": {},
   "outputs": [
    {
     "name": "stdout",
     "output_type": "stream",
     "text": [
      "2001-03-13T04:00:30-05:00\n"
     ]
    }
   ],
   "source": [
    "ts=pd.Timestamp(year=2001,month=3,day=13,hour=4,second=30,tz='US/Eastern')\n",
    "print(ts.isoformat())"
   ]
  },
  {
   "cell_type": "markdown",
   "id": "db7dda31-4aa6-4330-a844-cc9e31a7460f",
   "metadata": {},
   "source": [
    "#### Pandas Timestamp.date\n",
    "Timestamp.date attribute is used to extract the date component from a Pandas Timestamp object. It returns a Python datetime.date object representing the date portion of the timestamp."
   ]
  },
  {
   "cell_type": "code",
   "execution_count": 229,
   "id": "22d47857-6cfe-4922-a7e2-cc6d177c69a4",
   "metadata": {},
   "outputs": [
    {
     "name": "stdout",
     "output_type": "stream",
     "text": [
      "2001-03-13\n"
     ]
    }
   ],
   "source": [
    "ts=pd.Timestamp(year=2001,month=3,day=13,hour=4,second=30,tz='US/Eastern')\n",
    "print(ts.date())"
   ]
  },
  {
   "cell_type": "markdown",
   "id": "b2cbb297-baa7-4143-a61a-25ce70a13274",
   "metadata": {},
   "source": [
    "#### Timestamp.replace() \n",
    "Timestamp.replace()method is used to create a new Timestamp object with specific components replaced. It allows you to modify individual components of a timestamp, such as the year, month, day, hour, minute, second, microsecond, or time zone."
   ]
  },
  {
   "cell_type": "code",
   "execution_count": 230,
   "id": "b02f8c3e-98cf-4565-8310-a036bf07bb6b",
   "metadata": {},
   "outputs": [
    {
     "name": "stdout",
     "output_type": "stream",
     "text": [
      "2023-03-13 04:00:30-04:00\n"
     ]
    }
   ],
   "source": [
    "ts=pd.Timestamp(year=2001,month=3,day=13,hour=4,second=30,tz='US/Eastern')\n",
    "print(ts.replace(year=2023))"
   ]
  },
  {
   "cell_type": "markdown",
   "id": "a3c5f190-da0c-470a-977b-f3725ef2fd06",
   "metadata": {},
   "source": [
    "#### pd.to_datetime()\n",
    "function in Pandas is a powerful tool for converting various types of input into Pandas Timestamp objects. It can handle a wide range of input formats and returns a DateTime-like output."
   ]
  },
  {
   "cell_type": "markdown",
   "id": "7043c7b0-cc8b-4d25-986a-f9ae24083e22",
   "metadata": {},
   "source": [
    "import pandas as pd\n",
    "\n",
    "date_list = ['2023-05-24', '2023-05-25', '2023-05-26']\n",
    "timestamps = pd.to_datetime(date_list)\n",
    "print(timestamps)\n"
   ]
  },
  {
   "cell_type": "markdown",
   "id": "448a0234-e896-4b33-8c7c-6cef35e05bd8",
   "metadata": {},
   "source": [
    "##  the Series.str.lower(), Series.str.upper(), and Series.str.title() \n",
    "the methods are used to transform the elements of a Series to lowercase, uppercase, and title case, respectively. These methods are particularly useful when working with string data in a Series."
   ]
  },
  {
   "cell_type": "code",
   "execution_count": 231,
   "id": "4ccfe8d6-f2e9-4612-bbbe-01c24835c4d2",
   "metadata": {},
   "outputs": [
    {
     "name": "stdout",
     "output_type": "stream",
     "text": [
      "0     hello\n",
      "1     world\n",
      "2    pandas\n",
      "dtype: object\n"
     ]
    }
   ],
   "source": [
    "# Series.str.lower()\n",
    "import pandas as pd\n",
    "\n",
    "data = ['Hello', 'WORLD', 'pandas']\n",
    "series = pd.Series(data)\n",
    "lower_series = series.str.lower()\n",
    "print(lower_series)"
   ]
  },
  {
   "cell_type": "code",
   "execution_count": 232,
   "id": "a8252431-2999-4f15-b291-c93253f3d8fe",
   "metadata": {},
   "outputs": [
    {
     "name": "stdout",
     "output_type": "stream",
     "text": [
      "0     HELLO\n",
      "1     WORLD\n",
      "2    PANDAS\n",
      "dtype: object\n"
     ]
    }
   ],
   "source": [
    "# Series.str.upper()\n",
    "import pandas as pd\n",
    "\n",
    "data = ['Hello', 'WORLD', 'pandas']\n",
    "series = pd.Series(data)\n",
    "upper_series = series.str.upper()\n",
    "print(upper_series)\n"
   ]
  },
  {
   "cell_type": "code",
   "execution_count": 233,
   "id": "ba7812d1-ad1f-40cf-b50b-1b02ec2689a4",
   "metadata": {},
   "outputs": [
    {
     "name": "stdout",
     "output_type": "stream",
     "text": [
      "0          Hello World\n",
      "1    Pandas Is Awesome\n",
      "dtype: object\n"
     ]
    }
   ],
   "source": [
    "#Series.str.title()\n",
    "import pandas as pd\n",
    "\n",
    "data = ['hello world', 'pandas is awesome']\n",
    "series = pd.Series(data)\n",
    "title_series = series.str.title()\n",
    "print(title_series)"
   ]
  },
  {
   "cell_type": "markdown",
   "id": "a74aec7f-d2b5-46e4-b79d-d3bd1b522bfb",
   "metadata": {},
   "source": [
    "##  Series.str.replace()\n",
    "Series.str.replace() method is used to replace substrings or patterns in the elements of a Series with a specified replacement string. It allows you to perform string replacements in a flexible and efficient manner."
   ]
  },
  {
   "cell_type": "code",
   "execution_count": 234,
   "id": "ca74b8ca-3337-45ab-947c-1425d7684387",
   "metadata": {},
   "outputs": [
    {
     "name": "stdout",
     "output_type": "stream",
     "text": [
      "0     Xpple\n",
      "1    bXnXnX\n",
      "2    cherry\n",
      "dtype: object\n"
     ]
    }
   ],
   "source": [
    "data = ['apple', 'banana', 'cherry']\n",
    "series = pd.Series(data)\n",
    "modified_series = series.str.replace('a', 'X')\n",
    "print(modified_series)"
   ]
  },
  {
   "cell_type": "markdown",
   "id": "71f22cf5-451e-465d-99f6-1b1797a6ac6c",
   "metadata": {},
   "source": [
    "## Series.str.strip(), lstrip() and rstrip():\n",
    "the Series.str.strip(), Series.str.lstrip(), and Series.str.rstrip() methods are used to remove leading and trailing whitespace characters from the elements of a Series. These methods are useful for cleaning and preprocessing string data by eliminating unwanted whitespace."
   ]
  },
  {
   "cell_type": "markdown",
   "id": "f61107d8-faed-4ce4-9542-488acb008caa",
   "metadata": {},
   "source": [
    "##### Series.str.strip():\n",
    "This method removes leading and trailing whitespace characters from the elements of a Series."
   ]
  },
  {
   "cell_type": "code",
   "execution_count": 235,
   "id": "cd302a07-4475-4ce7-8580-837a18890f89",
   "metadata": {},
   "outputs": [
    {
     "name": "stdout",
     "output_type": "stream",
     "text": [
      "0     apple\n",
      "1    banana\n",
      "2    cherry\n",
      "dtype: object\n"
     ]
    },
    {
     "data": {
      "text/plain": [
       "0      apple  \n",
       "1       banana\n",
       "2     cherry  \n",
       "dtype: object"
      ]
     },
     "execution_count": 235,
     "metadata": {},
     "output_type": "execute_result"
    }
   ],
   "source": [
    "data = ['  apple  ', '  banana', 'cherry  ']\n",
    "series = pd.Series(data)\n",
    "stripped_series = series.str.strip()\n",
    "print(stripped_series)\n",
    "series\n"
   ]
  },
  {
   "cell_type": "markdown",
   "id": "9d6526f1-6b4b-4efb-9abb-2594a56f0f8f",
   "metadata": {},
   "source": [
    "##### Series.str.lstrip(): \n",
    "This method removes leading (left) whitespace characters from the elements of a Series."
   ]
  },
  {
   "cell_type": "markdown",
   "id": "9916cab3-1b7b-47e6-b16d-bc2a3a46473d",
   "metadata": {},
   "source": [
    "data = ['  apple  ', '  banana', 'cherry  ']\n",
    "series = pd.Series(data)\n",
    "lstripped_series = series.str.lstrip()\n",
    "print(lstripped_series)\n"
   ]
  },
  {
   "cell_type": "markdown",
   "id": "cb336717-c722-4baa-8295-5d2b15be4b00",
   "metadata": {},
   "source": [
    "#### Series.str.rstrip(): \n",
    "This method removes trailing (right) whitespace characters from the elements of a Series."
   ]
  },
  {
   "cell_type": "code",
   "execution_count": 237,
   "id": "5ec47978-26c5-4ee9-bdaf-73f93a681ac9",
   "metadata": {},
   "outputs": [
    {
     "name": "stdout",
     "output_type": "stream",
     "text": [
      "0       apple\n",
      "1      banana\n",
      "2      cherry\n",
      "dtype: object\n"
     ]
    }
   ],
   "source": [
    "\n",
    "data = ['  apple  ', '  banana', 'cherry  ']\n",
    "series = pd.Series(data)\n",
    "rstripped_series = series.str.rstrip()\n",
    "print(rstripped_series)"
   ]
  },
  {
   "cell_type": "markdown",
   "id": "050e9a4f-eeba-445f-a4a7-8a13ea9ba624",
   "metadata": {},
   "source": [
    "## pd.merge\n",
    "- pd.merge(left, right, how='inner', on=None, left_on=None, right_on=None, left_index=False, right_index=False, sort=False, suffixes=('_x', '_y'), copy=True, indicator=False, validate=None)\n",
    "------"
   ]
  },
  {
   "cell_type": "code",
   "execution_count": 240,
   "id": "d1a3e071-be19-4291-82aa-5f30dca4e030",
   "metadata": {},
   "outputs": [
    {
     "data": {
      "text/html": [
       "<div>\n",
       "<style scoped>\n",
       "    .dataframe tbody tr th:only-of-type {\n",
       "        vertical-align: middle;\n",
       "    }\n",
       "\n",
       "    .dataframe tbody tr th {\n",
       "        vertical-align: top;\n",
       "    }\n",
       "\n",
       "    .dataframe thead th {\n",
       "        text-align: right;\n",
       "    }\n",
       "</style>\n",
       "<table border=\"1\" class=\"dataframe\">\n",
       "  <thead>\n",
       "    <tr style=\"text-align: right;\">\n",
       "      <th></th>\n",
       "      <th>ID</th>\n",
       "      <th>Name</th>\n",
       "      <th>Score</th>\n",
       "    </tr>\n",
       "  </thead>\n",
       "  <tbody>\n",
       "    <tr>\n",
       "      <th>0</th>\n",
       "      <td>1</td>\n",
       "      <td>Alice</td>\n",
       "      <td>85</td>\n",
       "    </tr>\n",
       "    <tr>\n",
       "      <th>1</th>\n",
       "      <td>2</td>\n",
       "      <td>Bob</td>\n",
       "      <td>90</td>\n",
       "    </tr>\n",
       "  </tbody>\n",
       "</table>\n",
       "</div>"
      ],
      "text/plain": [
       "   ID   Name  Score\n",
       "0   1  Alice     85\n",
       "1   2    Bob     90"
      ]
     },
     "execution_count": 240,
     "metadata": {},
     "output_type": "execute_result"
    }
   ],
   "source": [
    "df1 = pd.DataFrame({\n",
    "    'ID': [1, 2, 3],\n",
    "    'Name': ['Alice', 'Bob', 'Charlie']\n",
    "})\n",
    "\n",
    "df2 = pd.DataFrame({\n",
    "    'ID': [1, 2, 4],\n",
    "    'Score': [85, 90, 75]\n",
    "})\n",
    "\n",
    "pd.merge(df1, df2, on = 'ID')"
   ]
  },
  {
   "cell_type": "code",
   "execution_count": null,
   "id": "430dbe4a-5161-4dfe-9c57-6b851c0788cc",
   "metadata": {},
   "outputs": [],
   "source": []
  },
  {
   "cell_type": "code",
   "execution_count": 242,
   "id": "7ee6483d-46a9-4d38-84ca-7f33220cca56",
   "metadata": {},
   "outputs": [
    {
     "data": {
      "text/html": [
       "<div>\n",
       "<style scoped>\n",
       "    .dataframe tbody tr th:only-of-type {\n",
       "        vertical-align: middle;\n",
       "    }\n",
       "\n",
       "    .dataframe tbody tr th {\n",
       "        vertical-align: top;\n",
       "    }\n",
       "\n",
       "    .dataframe thead th {\n",
       "        text-align: right;\n",
       "    }\n",
       "</style>\n",
       "<table border=\"1\" class=\"dataframe\">\n",
       "  <thead>\n",
       "    <tr style=\"text-align: right;\">\n",
       "      <th></th>\n",
       "      <th>ID</th>\n",
       "      <th>Name</th>\n",
       "      <th>Score</th>\n",
       "    </tr>\n",
       "  </thead>\n",
       "  <tbody>\n",
       "    <tr>\n",
       "      <th>0</th>\n",
       "      <td>1</td>\n",
       "      <td>Alice</td>\n",
       "      <td>85.0</td>\n",
       "    </tr>\n",
       "    <tr>\n",
       "      <th>1</th>\n",
       "      <td>2</td>\n",
       "      <td>Bob</td>\n",
       "      <td>90.0</td>\n",
       "    </tr>\n",
       "    <tr>\n",
       "      <th>2</th>\n",
       "      <td>3</td>\n",
       "      <td>Charlie</td>\n",
       "      <td>NaN</td>\n",
       "    </tr>\n",
       "  </tbody>\n",
       "</table>\n",
       "</div>"
      ],
      "text/plain": [
       "   ID     Name  Score\n",
       "0   1    Alice   85.0\n",
       "1   2      Bob   90.0\n",
       "2   3  Charlie    NaN"
      ]
     },
     "execution_count": 242,
     "metadata": {},
     "output_type": "execute_result"
    }
   ],
   "source": [
    "pd.merge(df1, df2, on = 'ID', how = 'left')"
   ]
  },
  {
   "cell_type": "code",
   "execution_count": 243,
   "id": "0417012a-ad34-44ae-8a6f-437d2800cfd0",
   "metadata": {},
   "outputs": [
    {
     "data": {
      "text/html": [
       "<div>\n",
       "<style scoped>\n",
       "    .dataframe tbody tr th:only-of-type {\n",
       "        vertical-align: middle;\n",
       "    }\n",
       "\n",
       "    .dataframe tbody tr th {\n",
       "        vertical-align: top;\n",
       "    }\n",
       "\n",
       "    .dataframe thead th {\n",
       "        text-align: right;\n",
       "    }\n",
       "</style>\n",
       "<table border=\"1\" class=\"dataframe\">\n",
       "  <thead>\n",
       "    <tr style=\"text-align: right;\">\n",
       "      <th></th>\n",
       "      <th>ID</th>\n",
       "      <th>Name</th>\n",
       "      <th>Score</th>\n",
       "    </tr>\n",
       "  </thead>\n",
       "  <tbody>\n",
       "    <tr>\n",
       "      <th>0</th>\n",
       "      <td>1</td>\n",
       "      <td>Alice</td>\n",
       "      <td>85</td>\n",
       "    </tr>\n",
       "    <tr>\n",
       "      <th>1</th>\n",
       "      <td>2</td>\n",
       "      <td>Bob</td>\n",
       "      <td>90</td>\n",
       "    </tr>\n",
       "    <tr>\n",
       "      <th>2</th>\n",
       "      <td>4</td>\n",
       "      <td>NaN</td>\n",
       "      <td>75</td>\n",
       "    </tr>\n",
       "  </tbody>\n",
       "</table>\n",
       "</div>"
      ],
      "text/plain": [
       "   ID   Name  Score\n",
       "0   1  Alice     85\n",
       "1   2    Bob     90\n",
       "2   4    NaN     75"
      ]
     },
     "execution_count": 243,
     "metadata": {},
     "output_type": "execute_result"
    }
   ],
   "source": [
    "pd.merge(df1, df2, on = 'ID', how = 'right')"
   ]
  },
  {
   "cell_type": "code",
   "execution_count": 244,
   "id": "ac495b44-413b-4e7c-afbc-0a11c6e82373",
   "metadata": {},
   "outputs": [
    {
     "data": {
      "text/html": [
       "<div>\n",
       "<style scoped>\n",
       "    .dataframe tbody tr th:only-of-type {\n",
       "        vertical-align: middle;\n",
       "    }\n",
       "\n",
       "    .dataframe tbody tr th {\n",
       "        vertical-align: top;\n",
       "    }\n",
       "\n",
       "    .dataframe thead th {\n",
       "        text-align: right;\n",
       "    }\n",
       "</style>\n",
       "<table border=\"1\" class=\"dataframe\">\n",
       "  <thead>\n",
       "    <tr style=\"text-align: right;\">\n",
       "      <th></th>\n",
       "      <th>ID</th>\n",
       "      <th>Name</th>\n",
       "      <th>Score</th>\n",
       "    </tr>\n",
       "  </thead>\n",
       "  <tbody>\n",
       "    <tr>\n",
       "      <th>0</th>\n",
       "      <td>1</td>\n",
       "      <td>Alice</td>\n",
       "      <td>85.0</td>\n",
       "    </tr>\n",
       "    <tr>\n",
       "      <th>1</th>\n",
       "      <td>2</td>\n",
       "      <td>Bob</td>\n",
       "      <td>90.0</td>\n",
       "    </tr>\n",
       "    <tr>\n",
       "      <th>2</th>\n",
       "      <td>3</td>\n",
       "      <td>Charlie</td>\n",
       "      <td>NaN</td>\n",
       "    </tr>\n",
       "    <tr>\n",
       "      <th>3</th>\n",
       "      <td>4</td>\n",
       "      <td>NaN</td>\n",
       "      <td>75.0</td>\n",
       "    </tr>\n",
       "  </tbody>\n",
       "</table>\n",
       "</div>"
      ],
      "text/plain": [
       "   ID     Name  Score\n",
       "0   1    Alice   85.0\n",
       "1   2      Bob   90.0\n",
       "2   3  Charlie    NaN\n",
       "3   4      NaN   75.0"
      ]
     },
     "execution_count": 244,
     "metadata": {},
     "output_type": "execute_result"
    }
   ],
   "source": [
    "pd.merge(df1, df2, on = \"ID\", how = 'outer')"
   ]
  },
  {
   "cell_type": "markdown",
   "id": "9afcf3b7-9787-48ec-804c-ae2343a92d87",
   "metadata": {},
   "source": [
    "### merge using different column names"
   ]
  },
  {
   "cell_type": "markdown",
   "id": "b805260b-3b8e-426a-9a9f-8046eba708fa",
   "metadata": {},
   "source": [
    "### merge using different column names"
   ]
  },
  {
   "cell_type": "code",
   "execution_count": 252,
   "id": "56c272ab-1f27-4bf0-98ca-d9ba873698d7",
   "metadata": {},
   "outputs": [],
   "source": [
    "df3 = pd.DataFrame({\n",
    "    'PersonID': [1, 2, 3],\n",
    "    'Age': [25, 30, 22]\n",
    "})"
   ]
  },
  {
   "cell_type": "code",
   "execution_count": 253,
   "id": "bbcabffb-31c9-4339-8d18-6088ea4c99c7",
   "metadata": {},
   "outputs": [
    {
     "data": {
      "text/html": [
       "<div>\n",
       "<style scoped>\n",
       "    .dataframe tbody tr th:only-of-type {\n",
       "        vertical-align: middle;\n",
       "    }\n",
       "\n",
       "    .dataframe tbody tr th {\n",
       "        vertical-align: top;\n",
       "    }\n",
       "\n",
       "    .dataframe thead th {\n",
       "        text-align: right;\n",
       "    }\n",
       "</style>\n",
       "<table border=\"1\" class=\"dataframe\">\n",
       "  <thead>\n",
       "    <tr style=\"text-align: right;\">\n",
       "      <th></th>\n",
       "      <th>ID</th>\n",
       "      <th>Name</th>\n",
       "      <th>PersonID</th>\n",
       "      <th>Age</th>\n",
       "    </tr>\n",
       "  </thead>\n",
       "  <tbody>\n",
       "    <tr>\n",
       "      <th>0</th>\n",
       "      <td>1</td>\n",
       "      <td>Alice</td>\n",
       "      <td>1</td>\n",
       "      <td>25</td>\n",
       "    </tr>\n",
       "    <tr>\n",
       "      <th>1</th>\n",
       "      <td>2</td>\n",
       "      <td>Bob</td>\n",
       "      <td>2</td>\n",
       "      <td>30</td>\n",
       "    </tr>\n",
       "    <tr>\n",
       "      <th>2</th>\n",
       "      <td>3</td>\n",
       "      <td>Charlie</td>\n",
       "      <td>3</td>\n",
       "      <td>22</td>\n",
       "    </tr>\n",
       "  </tbody>\n",
       "</table>\n",
       "</div>"
      ],
      "text/plain": [
       "   ID     Name  PersonID  Age\n",
       "0   1    Alice         1   25\n",
       "1   2      Bob         2   30\n",
       "2   3  Charlie         3   22"
      ]
     },
     "execution_count": 253,
     "metadata": {},
     "output_type": "execute_result"
    }
   ],
   "source": [
    "merged_diff_names = pd.merge(df1, df3, left_on = 'ID', right_on = 'PersonID')\n",
    "merged_diff_names"
   ]
  },
  {
   "cell_type": "code",
   "execution_count": null,
   "id": "6b269190-f1d6-44f2-9db9-68d06ef7e4a8",
   "metadata": {},
   "outputs": [],
   "source": []
  },
  {
   "cell_type": "code",
   "execution_count": null,
   "id": "89015a76-5f11-4490-84ed-32ae06563d68",
   "metadata": {},
   "outputs": [],
   "source": []
  },
  {
   "cell_type": "code",
   "execution_count": null,
   "id": "1f070a19-09b9-419d-9b31-f6cd1347b1ac",
   "metadata": {},
   "outputs": [],
   "source": []
  },
  {
   "cell_type": "code",
   "execution_count": null,
   "id": "fe3854ab-dcef-42d9-bb95-7778b4f37cc2",
   "metadata": {},
   "outputs": [],
   "source": []
  },
  {
   "cell_type": "code",
   "execution_count": null,
   "id": "a69bd3a6-4933-49a3-b2ec-eb1e1a6aa221",
   "metadata": {},
   "outputs": [],
   "source": []
  },
  {
   "cell_type": "code",
   "execution_count": null,
   "id": "0ae5015f-5c68-4a96-b385-b27d29de93d8",
   "metadata": {},
   "outputs": [],
   "source": []
  },
  {
   "cell_type": "code",
   "execution_count": null,
   "id": "d4a703d6-455c-43a7-97f3-2ea33b59408e",
   "metadata": {},
   "outputs": [],
   "source": []
  },
  {
   "cell_type": "code",
   "execution_count": null,
   "id": "9bc623a4-b4cd-44f1-8a68-9e1aa2b33238",
   "metadata": {},
   "outputs": [],
   "source": []
  },
  {
   "cell_type": "code",
   "execution_count": null,
   "id": "217339d7-b472-4063-9612-e1c6cadb0751",
   "metadata": {},
   "outputs": [],
   "source": []
  },
  {
   "cell_type": "code",
   "execution_count": null,
   "id": "355bdbcd-f676-4b3c-a56e-c639244f8151",
   "metadata": {},
   "outputs": [],
   "source": []
  },
  {
   "cell_type": "code",
   "execution_count": null,
   "id": "edf3af26-509a-457a-ab88-43f8d9f66a22",
   "metadata": {},
   "outputs": [],
   "source": []
  },
  {
   "cell_type": "code",
   "execution_count": null,
   "id": "cdcaa38b-7ba2-4693-b517-ef9ea2754e76",
   "metadata": {},
   "outputs": [],
   "source": []
  },
  {
   "cell_type": "code",
   "execution_count": null,
   "id": "25828642-7967-4694-9b10-5e0f634ab399",
   "metadata": {},
   "outputs": [],
   "source": []
  },
  {
   "cell_type": "code",
   "execution_count": null,
   "id": "c0307edb-941e-498e-89e3-8e8e5d177d69",
   "metadata": {},
   "outputs": [],
   "source": []
  },
  {
   "cell_type": "code",
   "execution_count": null,
   "id": "9ccd4ae1-8f01-4e33-b6a1-de1fd7ce19f4",
   "metadata": {},
   "outputs": [],
   "source": []
  },
  {
   "cell_type": "code",
   "execution_count": null,
   "id": "6c6fc3a3-cac8-41f9-966b-c36337d958b7",
   "metadata": {},
   "outputs": [],
   "source": []
  },
  {
   "cell_type": "code",
   "execution_count": null,
   "id": "0d7f41d9-9294-49a8-8337-0b326a045457",
   "metadata": {},
   "outputs": [],
   "source": []
  },
  {
   "cell_type": "code",
   "execution_count": null,
   "id": "4846045d-852d-4e65-9dfe-e73ffb5afcd0",
   "metadata": {},
   "outputs": [],
   "source": []
  },
  {
   "cell_type": "code",
   "execution_count": null,
   "id": "37e259db-fc25-406d-bd89-5355533074c0",
   "metadata": {},
   "outputs": [],
   "source": []
  },
  {
   "cell_type": "code",
   "execution_count": null,
   "id": "3739aa83-69b1-4dfe-bf5a-45691a616f34",
   "metadata": {},
   "outputs": [],
   "source": []
  }
 ],
 "metadata": {
  "kernelspec": {
   "display_name": "Python 3 (ipykernel)",
   "language": "python",
   "name": "python3"
  },
  "language_info": {
   "codemirror_mode": {
    "name": "ipython",
    "version": 3
   },
   "file_extension": ".py",
   "mimetype": "text/x-python",
   "name": "python",
   "nbconvert_exporter": "python",
   "pygments_lexer": "ipython3",
   "version": "3.10.11"
  }
 },
 "nbformat": 4,
 "nbformat_minor": 5
}
